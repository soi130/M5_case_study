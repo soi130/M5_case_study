{
 "cells": [
  {
   "cell_type": "markdown",
   "id": "d2cf6aa5-6d5e-40b9-b7d2-6f4ca611369c",
   "metadata": {},
   "source": [
    "# Read the data"
   ]
  },
  {
   "cell_type": "code",
   "execution_count": 97,
   "id": "6277ad53-1b26-4cdd-8aa1-b462cae80f86",
   "metadata": {},
   "outputs": [],
   "source": [
    "import pandas as pd\n",
    "import numpy as np\n",
    "import matplotlib.pyplot as plt\n",
    "\n",
    "import gc"
   ]
  },
  {
   "cell_type": "code",
   "execution_count": 98,
   "id": "00f5d6c2-2dd4-4c8a-ac95-5de4f476e105",
   "metadata": {},
   "outputs": [],
   "source": [
    "calendar = pd.read_csv('calendar.csv',parse_dates=['date'],infer_datetime_format=True)\n",
    "sales_train_evaluation = pd.read_csv('sales_train_evaluation.csv')\n",
    "sell_prices = pd.read_csv('sell_prices.csv')"
   ]
  },
  {
   "cell_type": "code",
   "execution_count": 99,
   "id": "61fa9952-92c7-4625-bdb5-f8a6df728a84",
   "metadata": {},
   "outputs": [
    {
     "data": {
      "text/html": [
       "<div>\n",
       "<style scoped>\n",
       "    .dataframe tbody tr th:only-of-type {\n",
       "        vertical-align: middle;\n",
       "    }\n",
       "\n",
       "    .dataframe tbody tr th {\n",
       "        vertical-align: top;\n",
       "    }\n",
       "\n",
       "    .dataframe thead th {\n",
       "        text-align: right;\n",
       "    }\n",
       "</style>\n",
       "<table border=\"1\" class=\"dataframe\">\n",
       "  <thead>\n",
       "    <tr style=\"text-align: right;\">\n",
       "      <th></th>\n",
       "      <th>date</th>\n",
       "      <th>wm_yr_wk</th>\n",
       "      <th>weekday</th>\n",
       "      <th>wday</th>\n",
       "      <th>month</th>\n",
       "      <th>year</th>\n",
       "      <th>d</th>\n",
       "      <th>event_name_1</th>\n",
       "      <th>event_type_1</th>\n",
       "      <th>event_name_2</th>\n",
       "      <th>event_type_2</th>\n",
       "      <th>snap_CA</th>\n",
       "      <th>snap_TX</th>\n",
       "      <th>snap_WI</th>\n",
       "    </tr>\n",
       "  </thead>\n",
       "  <tbody>\n",
       "    <tr>\n",
       "      <th>0</th>\n",
       "      <td>2011-01-29</td>\n",
       "      <td>11101</td>\n",
       "      <td>Saturday</td>\n",
       "      <td>1</td>\n",
       "      <td>1</td>\n",
       "      <td>2011</td>\n",
       "      <td>d_1</td>\n",
       "      <td>NaN</td>\n",
       "      <td>NaN</td>\n",
       "      <td>NaN</td>\n",
       "      <td>NaN</td>\n",
       "      <td>0</td>\n",
       "      <td>0</td>\n",
       "      <td>0</td>\n",
       "    </tr>\n",
       "    <tr>\n",
       "      <th>1</th>\n",
       "      <td>2011-01-30</td>\n",
       "      <td>11101</td>\n",
       "      <td>Sunday</td>\n",
       "      <td>2</td>\n",
       "      <td>1</td>\n",
       "      <td>2011</td>\n",
       "      <td>d_2</td>\n",
       "      <td>NaN</td>\n",
       "      <td>NaN</td>\n",
       "      <td>NaN</td>\n",
       "      <td>NaN</td>\n",
       "      <td>0</td>\n",
       "      <td>0</td>\n",
       "      <td>0</td>\n",
       "    </tr>\n",
       "  </tbody>\n",
       "</table>\n",
       "</div>"
      ],
      "text/plain": [
       "        date  wm_yr_wk   weekday  wday  month  year    d event_name_1  \\\n",
       "0 2011-01-29     11101  Saturday     1      1  2011  d_1          NaN   \n",
       "1 2011-01-30     11101    Sunday     2      1  2011  d_2          NaN   \n",
       "\n",
       "  event_type_1 event_name_2 event_type_2  snap_CA  snap_TX  snap_WI  \n",
       "0          NaN          NaN          NaN        0        0        0  \n",
       "1          NaN          NaN          NaN        0        0        0  "
      ]
     },
     "metadata": {},
     "output_type": "display_data"
    },
    {
     "data": {
      "text/html": [
       "<div>\n",
       "<style scoped>\n",
       "    .dataframe tbody tr th:only-of-type {\n",
       "        vertical-align: middle;\n",
       "    }\n",
       "\n",
       "    .dataframe tbody tr th {\n",
       "        vertical-align: top;\n",
       "    }\n",
       "\n",
       "    .dataframe thead th {\n",
       "        text-align: right;\n",
       "    }\n",
       "</style>\n",
       "<table border=\"1\" class=\"dataframe\">\n",
       "  <thead>\n",
       "    <tr style=\"text-align: right;\">\n",
       "      <th></th>\n",
       "      <th>date</th>\n",
       "      <th>wm_yr_wk</th>\n",
       "      <th>weekday</th>\n",
       "      <th>wday</th>\n",
       "      <th>month</th>\n",
       "      <th>year</th>\n",
       "      <th>d</th>\n",
       "      <th>event_name_1</th>\n",
       "      <th>event_type_1</th>\n",
       "      <th>event_name_2</th>\n",
       "      <th>event_type_2</th>\n",
       "      <th>snap_CA</th>\n",
       "      <th>snap_TX</th>\n",
       "      <th>snap_WI</th>\n",
       "    </tr>\n",
       "  </thead>\n",
       "  <tbody>\n",
       "    <tr>\n",
       "      <th>1967</th>\n",
       "      <td>2016-06-18</td>\n",
       "      <td>11621</td>\n",
       "      <td>Saturday</td>\n",
       "      <td>1</td>\n",
       "      <td>6</td>\n",
       "      <td>2016</td>\n",
       "      <td>d_1968</td>\n",
       "      <td>NaN</td>\n",
       "      <td>NaN</td>\n",
       "      <td>NaN</td>\n",
       "      <td>NaN</td>\n",
       "      <td>0</td>\n",
       "      <td>0</td>\n",
       "      <td>0</td>\n",
       "    </tr>\n",
       "    <tr>\n",
       "      <th>1968</th>\n",
       "      <td>2016-06-19</td>\n",
       "      <td>11621</td>\n",
       "      <td>Sunday</td>\n",
       "      <td>2</td>\n",
       "      <td>6</td>\n",
       "      <td>2016</td>\n",
       "      <td>d_1969</td>\n",
       "      <td>NBAFinalsEnd</td>\n",
       "      <td>Sporting</td>\n",
       "      <td>Father's day</td>\n",
       "      <td>Cultural</td>\n",
       "      <td>0</td>\n",
       "      <td>0</td>\n",
       "      <td>0</td>\n",
       "    </tr>\n",
       "  </tbody>\n",
       "</table>\n",
       "</div>"
      ],
      "text/plain": [
       "           date  wm_yr_wk   weekday  wday  month  year       d  event_name_1  \\\n",
       "1967 2016-06-18     11621  Saturday     1      6  2016  d_1968           NaN   \n",
       "1968 2016-06-19     11621    Sunday     2      6  2016  d_1969  NBAFinalsEnd   \n",
       "\n",
       "     event_type_1  event_name_2 event_type_2  snap_CA  snap_TX  snap_WI  \n",
       "1967          NaN           NaN          NaN        0        0        0  \n",
       "1968     Sporting  Father's day     Cultural        0        0        0  "
      ]
     },
     "metadata": {},
     "output_type": "display_data"
    }
   ],
   "source": [
    "display(calendar.head(2))\n",
    "display(calendar.tail(2))"
   ]
  },
  {
   "cell_type": "code",
   "execution_count": 100,
   "id": "98939b2d-6b14-434e-90c5-a47d829b2649",
   "metadata": {},
   "outputs": [
    {
     "name": "stdout",
     "output_type": "stream",
     "text": [
      "<class 'pandas.core.frame.DataFrame'>\n",
      "RangeIndex: 1969 entries, 0 to 1968\n",
      "Data columns (total 14 columns):\n",
      " #   Column        Non-Null Count  Dtype         \n",
      "---  ------        --------------  -----         \n",
      " 0   date          1969 non-null   datetime64[ns]\n",
      " 1   wm_yr_wk      1969 non-null   int64         \n",
      " 2   weekday       1969 non-null   object        \n",
      " 3   wday          1969 non-null   int64         \n",
      " 4   month         1969 non-null   int64         \n",
      " 5   year          1969 non-null   int64         \n",
      " 6   d             1969 non-null   object        \n",
      " 7   event_name_1  162 non-null    object        \n",
      " 8   event_type_1  162 non-null    object        \n",
      " 9   event_name_2  5 non-null      object        \n",
      " 10  event_type_2  5 non-null      object        \n",
      " 11  snap_CA       1969 non-null   int64         \n",
      " 12  snap_TX       1969 non-null   int64         \n",
      " 13  snap_WI       1969 non-null   int64         \n",
      "dtypes: datetime64[ns](1), int64(7), object(6)\n",
      "memory usage: 215.5+ KB\n"
     ]
    }
   ],
   "source": [
    "calendar.info()"
   ]
  },
  {
   "cell_type": "code",
   "execution_count": 101,
   "id": "ef6122ce-2679-4cc9-8db6-d68f8bc23a97",
   "metadata": {},
   "outputs": [
    {
     "data": {
      "text/html": [
       "<div>\n",
       "<style scoped>\n",
       "    .dataframe tbody tr th:only-of-type {\n",
       "        vertical-align: middle;\n",
       "    }\n",
       "\n",
       "    .dataframe tbody tr th {\n",
       "        vertical-align: top;\n",
       "    }\n",
       "\n",
       "    .dataframe thead th {\n",
       "        text-align: right;\n",
       "    }\n",
       "</style>\n",
       "<table border=\"1\" class=\"dataframe\">\n",
       "  <thead>\n",
       "    <tr style=\"text-align: right;\">\n",
       "      <th></th>\n",
       "      <th>wm_yr_wk</th>\n",
       "      <th>wday</th>\n",
       "      <th>month</th>\n",
       "      <th>year</th>\n",
       "      <th>snap_CA</th>\n",
       "      <th>snap_TX</th>\n",
       "      <th>snap_WI</th>\n",
       "    </tr>\n",
       "  </thead>\n",
       "  <tbody>\n",
       "    <tr>\n",
       "      <th>count</th>\n",
       "      <td>1969.000000</td>\n",
       "      <td>1969.000000</td>\n",
       "      <td>1969.000000</td>\n",
       "      <td>1969.000000</td>\n",
       "      <td>1969.000000</td>\n",
       "      <td>1969.000000</td>\n",
       "      <td>1969.000000</td>\n",
       "    </tr>\n",
       "    <tr>\n",
       "      <th>mean</th>\n",
       "      <td>11347.086338</td>\n",
       "      <td>3.997461</td>\n",
       "      <td>6.325546</td>\n",
       "      <td>2013.288471</td>\n",
       "      <td>0.330117</td>\n",
       "      <td>0.330117</td>\n",
       "      <td>0.330117</td>\n",
       "    </tr>\n",
       "    <tr>\n",
       "      <th>std</th>\n",
       "      <td>155.277043</td>\n",
       "      <td>2.001141</td>\n",
       "      <td>3.416864</td>\n",
       "      <td>1.580198</td>\n",
       "      <td>0.470374</td>\n",
       "      <td>0.470374</td>\n",
       "      <td>0.470374</td>\n",
       "    </tr>\n",
       "    <tr>\n",
       "      <th>min</th>\n",
       "      <td>11101.000000</td>\n",
       "      <td>1.000000</td>\n",
       "      <td>1.000000</td>\n",
       "      <td>2011.000000</td>\n",
       "      <td>0.000000</td>\n",
       "      <td>0.000000</td>\n",
       "      <td>0.000000</td>\n",
       "    </tr>\n",
       "    <tr>\n",
       "      <th>25%</th>\n",
       "      <td>11219.000000</td>\n",
       "      <td>2.000000</td>\n",
       "      <td>3.000000</td>\n",
       "      <td>2012.000000</td>\n",
       "      <td>0.000000</td>\n",
       "      <td>0.000000</td>\n",
       "      <td>0.000000</td>\n",
       "    </tr>\n",
       "    <tr>\n",
       "      <th>50%</th>\n",
       "      <td>11337.000000</td>\n",
       "      <td>4.000000</td>\n",
       "      <td>6.000000</td>\n",
       "      <td>2013.000000</td>\n",
       "      <td>0.000000</td>\n",
       "      <td>0.000000</td>\n",
       "      <td>0.000000</td>\n",
       "    </tr>\n",
       "    <tr>\n",
       "      <th>75%</th>\n",
       "      <td>11502.000000</td>\n",
       "      <td>6.000000</td>\n",
       "      <td>9.000000</td>\n",
       "      <td>2015.000000</td>\n",
       "      <td>1.000000</td>\n",
       "      <td>1.000000</td>\n",
       "      <td>1.000000</td>\n",
       "    </tr>\n",
       "    <tr>\n",
       "      <th>max</th>\n",
       "      <td>11621.000000</td>\n",
       "      <td>7.000000</td>\n",
       "      <td>12.000000</td>\n",
       "      <td>2016.000000</td>\n",
       "      <td>1.000000</td>\n",
       "      <td>1.000000</td>\n",
       "      <td>1.000000</td>\n",
       "    </tr>\n",
       "  </tbody>\n",
       "</table>\n",
       "</div>"
      ],
      "text/plain": [
       "           wm_yr_wk         wday        month         year      snap_CA  \\\n",
       "count   1969.000000  1969.000000  1969.000000  1969.000000  1969.000000   \n",
       "mean   11347.086338     3.997461     6.325546  2013.288471     0.330117   \n",
       "std      155.277043     2.001141     3.416864     1.580198     0.470374   \n",
       "min    11101.000000     1.000000     1.000000  2011.000000     0.000000   \n",
       "25%    11219.000000     2.000000     3.000000  2012.000000     0.000000   \n",
       "50%    11337.000000     4.000000     6.000000  2013.000000     0.000000   \n",
       "75%    11502.000000     6.000000     9.000000  2015.000000     1.000000   \n",
       "max    11621.000000     7.000000    12.000000  2016.000000     1.000000   \n",
       "\n",
       "           snap_TX      snap_WI  \n",
       "count  1969.000000  1969.000000  \n",
       "mean      0.330117     0.330117  \n",
       "std       0.470374     0.470374  \n",
       "min       0.000000     0.000000  \n",
       "25%       0.000000     0.000000  \n",
       "50%       0.000000     0.000000  \n",
       "75%       1.000000     1.000000  \n",
       "max       1.000000     1.000000  "
      ]
     },
     "execution_count": 101,
     "metadata": {},
     "output_type": "execute_result"
    }
   ],
   "source": [
    "calendar.describe()"
   ]
  },
  {
   "cell_type": "code",
   "execution_count": 102,
   "id": "f3582c8b-b2e1-44ac-bd9a-7ddda50652c0",
   "metadata": {},
   "outputs": [
    {
     "data": {
      "text/html": [
       "<div>\n",
       "<style scoped>\n",
       "    .dataframe tbody tr th:only-of-type {\n",
       "        vertical-align: middle;\n",
       "    }\n",
       "\n",
       "    .dataframe tbody tr th {\n",
       "        vertical-align: top;\n",
       "    }\n",
       "\n",
       "    .dataframe thead th {\n",
       "        text-align: right;\n",
       "    }\n",
       "</style>\n",
       "<table border=\"1\" class=\"dataframe\">\n",
       "  <thead>\n",
       "    <tr style=\"text-align: right;\">\n",
       "      <th></th>\n",
       "      <th>id</th>\n",
       "      <th>item_id</th>\n",
       "      <th>dept_id</th>\n",
       "      <th>cat_id</th>\n",
       "      <th>store_id</th>\n",
       "      <th>state_id</th>\n",
       "      <th>d_1</th>\n",
       "      <th>d_2</th>\n",
       "      <th>d_3</th>\n",
       "      <th>d_4</th>\n",
       "      <th>...</th>\n",
       "      <th>d_1932</th>\n",
       "      <th>d_1933</th>\n",
       "      <th>d_1934</th>\n",
       "      <th>d_1935</th>\n",
       "      <th>d_1936</th>\n",
       "      <th>d_1937</th>\n",
       "      <th>d_1938</th>\n",
       "      <th>d_1939</th>\n",
       "      <th>d_1940</th>\n",
       "      <th>d_1941</th>\n",
       "    </tr>\n",
       "  </thead>\n",
       "  <tbody>\n",
       "    <tr>\n",
       "      <th>0</th>\n",
       "      <td>HOBBIES_1_001_CA_1_evaluation</td>\n",
       "      <td>HOBBIES_1_001</td>\n",
       "      <td>HOBBIES_1</td>\n",
       "      <td>HOBBIES</td>\n",
       "      <td>CA_1</td>\n",
       "      <td>CA</td>\n",
       "      <td>0</td>\n",
       "      <td>0</td>\n",
       "      <td>0</td>\n",
       "      <td>0</td>\n",
       "      <td>...</td>\n",
       "      <td>2</td>\n",
       "      <td>4</td>\n",
       "      <td>0</td>\n",
       "      <td>0</td>\n",
       "      <td>0</td>\n",
       "      <td>0</td>\n",
       "      <td>3</td>\n",
       "      <td>3</td>\n",
       "      <td>0</td>\n",
       "      <td>1</td>\n",
       "    </tr>\n",
       "    <tr>\n",
       "      <th>1</th>\n",
       "      <td>HOBBIES_1_002_CA_1_evaluation</td>\n",
       "      <td>HOBBIES_1_002</td>\n",
       "      <td>HOBBIES_1</td>\n",
       "      <td>HOBBIES</td>\n",
       "      <td>CA_1</td>\n",
       "      <td>CA</td>\n",
       "      <td>0</td>\n",
       "      <td>0</td>\n",
       "      <td>0</td>\n",
       "      <td>0</td>\n",
       "      <td>...</td>\n",
       "      <td>0</td>\n",
       "      <td>1</td>\n",
       "      <td>2</td>\n",
       "      <td>1</td>\n",
       "      <td>1</td>\n",
       "      <td>0</td>\n",
       "      <td>0</td>\n",
       "      <td>0</td>\n",
       "      <td>0</td>\n",
       "      <td>0</td>\n",
       "    </tr>\n",
       "  </tbody>\n",
       "</table>\n",
       "<p>2 rows × 1947 columns</p>\n",
       "</div>"
      ],
      "text/plain": [
       "                              id        item_id    dept_id   cat_id store_id  \\\n",
       "0  HOBBIES_1_001_CA_1_evaluation  HOBBIES_1_001  HOBBIES_1  HOBBIES     CA_1   \n",
       "1  HOBBIES_1_002_CA_1_evaluation  HOBBIES_1_002  HOBBIES_1  HOBBIES     CA_1   \n",
       "\n",
       "  state_id  d_1  d_2  d_3  d_4  ...  d_1932  d_1933  d_1934  d_1935  d_1936  \\\n",
       "0       CA    0    0    0    0  ...       2       4       0       0       0   \n",
       "1       CA    0    0    0    0  ...       0       1       2       1       1   \n",
       "\n",
       "   d_1937  d_1938  d_1939  d_1940  d_1941  \n",
       "0       0       3       3       0       1  \n",
       "1       0       0       0       0       0  \n",
       "\n",
       "[2 rows x 1947 columns]"
      ]
     },
     "metadata": {},
     "output_type": "display_data"
    },
    {
     "data": {
      "text/html": [
       "<div>\n",
       "<style scoped>\n",
       "    .dataframe tbody tr th:only-of-type {\n",
       "        vertical-align: middle;\n",
       "    }\n",
       "\n",
       "    .dataframe tbody tr th {\n",
       "        vertical-align: top;\n",
       "    }\n",
       "\n",
       "    .dataframe thead th {\n",
       "        text-align: right;\n",
       "    }\n",
       "</style>\n",
       "<table border=\"1\" class=\"dataframe\">\n",
       "  <thead>\n",
       "    <tr style=\"text-align: right;\">\n",
       "      <th></th>\n",
       "      <th>id</th>\n",
       "      <th>item_id</th>\n",
       "      <th>dept_id</th>\n",
       "      <th>cat_id</th>\n",
       "      <th>store_id</th>\n",
       "      <th>state_id</th>\n",
       "      <th>d_1</th>\n",
       "      <th>d_2</th>\n",
       "      <th>d_3</th>\n",
       "      <th>d_4</th>\n",
       "      <th>...</th>\n",
       "      <th>d_1932</th>\n",
       "      <th>d_1933</th>\n",
       "      <th>d_1934</th>\n",
       "      <th>d_1935</th>\n",
       "      <th>d_1936</th>\n",
       "      <th>d_1937</th>\n",
       "      <th>d_1938</th>\n",
       "      <th>d_1939</th>\n",
       "      <th>d_1940</th>\n",
       "      <th>d_1941</th>\n",
       "    </tr>\n",
       "  </thead>\n",
       "  <tbody>\n",
       "    <tr>\n",
       "      <th>30488</th>\n",
       "      <td>FOODS_3_826_WI_3_evaluation</td>\n",
       "      <td>FOODS_3_826</td>\n",
       "      <td>FOODS_3</td>\n",
       "      <td>FOODS</td>\n",
       "      <td>WI_3</td>\n",
       "      <td>WI</td>\n",
       "      <td>0</td>\n",
       "      <td>0</td>\n",
       "      <td>0</td>\n",
       "      <td>0</td>\n",
       "      <td>...</td>\n",
       "      <td>1</td>\n",
       "      <td>1</td>\n",
       "      <td>1</td>\n",
       "      <td>4</td>\n",
       "      <td>6</td>\n",
       "      <td>0</td>\n",
       "      <td>1</td>\n",
       "      <td>1</td>\n",
       "      <td>1</td>\n",
       "      <td>0</td>\n",
       "    </tr>\n",
       "    <tr>\n",
       "      <th>30489</th>\n",
       "      <td>FOODS_3_827_WI_3_evaluation</td>\n",
       "      <td>FOODS_3_827</td>\n",
       "      <td>FOODS_3</td>\n",
       "      <td>FOODS</td>\n",
       "      <td>WI_3</td>\n",
       "      <td>WI</td>\n",
       "      <td>0</td>\n",
       "      <td>0</td>\n",
       "      <td>0</td>\n",
       "      <td>0</td>\n",
       "      <td>...</td>\n",
       "      <td>1</td>\n",
       "      <td>2</td>\n",
       "      <td>0</td>\n",
       "      <td>5</td>\n",
       "      <td>4</td>\n",
       "      <td>0</td>\n",
       "      <td>2</td>\n",
       "      <td>2</td>\n",
       "      <td>5</td>\n",
       "      <td>1</td>\n",
       "    </tr>\n",
       "  </tbody>\n",
       "</table>\n",
       "<p>2 rows × 1947 columns</p>\n",
       "</div>"
      ],
      "text/plain": [
       "                                id      item_id  dept_id cat_id store_id  \\\n",
       "30488  FOODS_3_826_WI_3_evaluation  FOODS_3_826  FOODS_3  FOODS     WI_3   \n",
       "30489  FOODS_3_827_WI_3_evaluation  FOODS_3_827  FOODS_3  FOODS     WI_3   \n",
       "\n",
       "      state_id  d_1  d_2  d_3  d_4  ...  d_1932  d_1933  d_1934  d_1935  \\\n",
       "30488       WI    0    0    0    0  ...       1       1       1       4   \n",
       "30489       WI    0    0    0    0  ...       1       2       0       5   \n",
       "\n",
       "       d_1936  d_1937  d_1938  d_1939  d_1940  d_1941  \n",
       "30488       6       0       1       1       1       0  \n",
       "30489       4       0       2       2       5       1  \n",
       "\n",
       "[2 rows x 1947 columns]"
      ]
     },
     "metadata": {},
     "output_type": "display_data"
    }
   ],
   "source": [
    "display(sales_train_evaluation.head(2))\n",
    "display(sales_train_evaluation.tail(2))"
   ]
  },
  {
   "cell_type": "code",
   "execution_count": 103,
   "id": "7838add1-3b63-476b-bbee-a9181f9617b3",
   "metadata": {},
   "outputs": [
    {
     "name": "stdout",
     "output_type": "stream",
     "text": [
      "<class 'pandas.core.frame.DataFrame'>\n",
      "RangeIndex: 30490 entries, 0 to 30489\n",
      "Data columns (total 10 columns):\n",
      " #   Column    Non-Null Count  Dtype \n",
      "---  ------    --------------  ----- \n",
      " 0   id        30490 non-null  object\n",
      " 1   item_id   30490 non-null  object\n",
      " 2   dept_id   30490 non-null  object\n",
      " 3   cat_id    30490 non-null  object\n",
      " 4   store_id  30490 non-null  object\n",
      " 5   state_id  30490 non-null  object\n",
      " 6   d_1       30490 non-null  int64 \n",
      " 7   d_2       30490 non-null  int64 \n",
      " 8   d_3       30490 non-null  int64 \n",
      " 9   d_4       30490 non-null  int64 \n",
      "dtypes: int64(4), object(6)\n",
      "memory usage: 2.3+ MB\n"
     ]
    }
   ],
   "source": [
    "sales_train_evaluation.iloc[:,:10].info()"
   ]
  },
  {
   "cell_type": "code",
   "execution_count": 104,
   "id": "aa2fc40a-92e3-443b-8a4c-c706a23e92e3",
   "metadata": {},
   "outputs": [
    {
     "data": {
      "text/html": [
       "<div>\n",
       "<style scoped>\n",
       "    .dataframe tbody tr th:only-of-type {\n",
       "        vertical-align: middle;\n",
       "    }\n",
       "\n",
       "    .dataframe tbody tr th {\n",
       "        vertical-align: top;\n",
       "    }\n",
       "\n",
       "    .dataframe thead th {\n",
       "        text-align: right;\n",
       "    }\n",
       "</style>\n",
       "<table border=\"1\" class=\"dataframe\">\n",
       "  <thead>\n",
       "    <tr style=\"text-align: right;\">\n",
       "      <th></th>\n",
       "      <th>store_id</th>\n",
       "      <th>item_id</th>\n",
       "      <th>wm_yr_wk</th>\n",
       "      <th>sell_price</th>\n",
       "    </tr>\n",
       "  </thead>\n",
       "  <tbody>\n",
       "    <tr>\n",
       "      <th>0</th>\n",
       "      <td>CA_1</td>\n",
       "      <td>HOBBIES_1_001</td>\n",
       "      <td>11325</td>\n",
       "      <td>9.58</td>\n",
       "    </tr>\n",
       "    <tr>\n",
       "      <th>1</th>\n",
       "      <td>CA_1</td>\n",
       "      <td>HOBBIES_1_001</td>\n",
       "      <td>11326</td>\n",
       "      <td>9.58</td>\n",
       "    </tr>\n",
       "  </tbody>\n",
       "</table>\n",
       "</div>"
      ],
      "text/plain": [
       "  store_id        item_id  wm_yr_wk  sell_price\n",
       "0     CA_1  HOBBIES_1_001     11325        9.58\n",
       "1     CA_1  HOBBIES_1_001     11326        9.58"
      ]
     },
     "metadata": {},
     "output_type": "display_data"
    },
    {
     "data": {
      "text/html": [
       "<div>\n",
       "<style scoped>\n",
       "    .dataframe tbody tr th:only-of-type {\n",
       "        vertical-align: middle;\n",
       "    }\n",
       "\n",
       "    .dataframe tbody tr th {\n",
       "        vertical-align: top;\n",
       "    }\n",
       "\n",
       "    .dataframe thead th {\n",
       "        text-align: right;\n",
       "    }\n",
       "</style>\n",
       "<table border=\"1\" class=\"dataframe\">\n",
       "  <thead>\n",
       "    <tr style=\"text-align: right;\">\n",
       "      <th></th>\n",
       "      <th>store_id</th>\n",
       "      <th>item_id</th>\n",
       "      <th>wm_yr_wk</th>\n",
       "      <th>sell_price</th>\n",
       "    </tr>\n",
       "  </thead>\n",
       "  <tbody>\n",
       "    <tr>\n",
       "      <th>6841119</th>\n",
       "      <td>WI_3</td>\n",
       "      <td>FOODS_3_827</td>\n",
       "      <td>11620</td>\n",
       "      <td>1.0</td>\n",
       "    </tr>\n",
       "    <tr>\n",
       "      <th>6841120</th>\n",
       "      <td>WI_3</td>\n",
       "      <td>FOODS_3_827</td>\n",
       "      <td>11621</td>\n",
       "      <td>1.0</td>\n",
       "    </tr>\n",
       "  </tbody>\n",
       "</table>\n",
       "</div>"
      ],
      "text/plain": [
       "        store_id      item_id  wm_yr_wk  sell_price\n",
       "6841119     WI_3  FOODS_3_827     11620         1.0\n",
       "6841120     WI_3  FOODS_3_827     11621         1.0"
      ]
     },
     "metadata": {},
     "output_type": "display_data"
    }
   ],
   "source": [
    "display(sell_prices.head(2))\n",
    "display(sell_prices.tail(2))"
   ]
  },
  {
   "cell_type": "code",
   "execution_count": 105,
   "id": "0f37a930-c79c-4b5f-a2bd-f7d096c863c4",
   "metadata": {},
   "outputs": [
    {
     "name": "stdout",
     "output_type": "stream",
     "text": [
      "<class 'pandas.core.frame.DataFrame'>\n",
      "RangeIndex: 6841121 entries, 0 to 6841120\n",
      "Data columns (total 4 columns):\n",
      " #   Column      Dtype  \n",
      "---  ------      -----  \n",
      " 0   store_id    object \n",
      " 1   item_id     object \n",
      " 2   wm_yr_wk    int64  \n",
      " 3   sell_price  float64\n",
      "dtypes: float64(1), int64(1), object(2)\n",
      "memory usage: 208.8+ MB\n"
     ]
    }
   ],
   "source": [
    "sell_prices.iloc[:,:10].info()"
   ]
  },
  {
   "cell_type": "markdown",
   "id": "90709c0f-5c83-4291-9573-f5ece52fa429",
   "metadata": {
    "tags": []
   },
   "source": [
    "# Let's check the data integrity\n",
    "\n",
    "### calendar DF"
   ]
  },
  {
   "cell_type": "code",
   "execution_count": 106,
   "id": "f209ef5c-af20-4948-be68-4064d1eac2f6",
   "metadata": {},
   "outputs": [
    {
     "data": {
      "text/plain": [
       "date               0\n",
       "wm_yr_wk           0\n",
       "weekday            0\n",
       "wday               0\n",
       "month              0\n",
       "year               0\n",
       "d                  0\n",
       "event_name_1    1807\n",
       "event_type_1    1807\n",
       "event_name_2    1964\n",
       "event_type_2    1964\n",
       "snap_CA            0\n",
       "snap_TX            0\n",
       "snap_WI            0\n",
       "dtype: int64"
      ]
     },
     "execution_count": 106,
     "metadata": {},
     "output_type": "execute_result"
    }
   ],
   "source": [
    "calendar.isna().sum() # only the days with no event have null data"
   ]
  },
  {
   "cell_type": "code",
   "execution_count": 107,
   "id": "130b3290-e079-47e4-8897-f87443cd4d83",
   "metadata": {},
   "outputs": [
    {
     "data": {
      "text/plain": [
       "0"
      ]
     },
     "execution_count": 107,
     "metadata": {},
     "output_type": "execute_result"
    }
   ],
   "source": [
    "calendar.duplicated().sum() # no duplication"
   ]
  },
  {
   "cell_type": "code",
   "execution_count": 108,
   "id": "a2047c0d-3cff-4397-bdd8-a683f5b7db26",
   "metadata": {},
   "outputs": [
    {
     "name": "stdout",
     "output_type": "stream",
     "text": [
      "calendar_day_interval list first 5 elements\n"
     ]
    },
    {
     "data": {
      "text/plain": [
       "[nan, 1, 1, 1, 1]"
      ]
     },
     "metadata": {},
     "output_type": "display_data"
    },
    {
     "name": "stdout",
     "output_type": "stream",
     "text": [
      "\n",
      "\n",
      "len(calendar) = 1969\n",
      "sum timedelta = 1968\n"
     ]
    }
   ],
   "source": [
    "calendar_day_interval = [i.days for i in calendar.date-calendar.date.shift(1)]\n",
    "\n",
    "print('calendar_day_interval list first 5 elements')\n",
    "display(calendar_day_interval[:5])\n",
    "\n",
    "print('\\n')\n",
    "\n",
    "print('len(calendar) = {}'.format(len(calendar)))\n",
    "print('sum timedelta = {}'.format(sum(calendar_day_interval[1:]))) # no date skip\n",
    "\n",
    "del calendar_day_interval"
   ]
  },
  {
   "cell_type": "markdown",
   "id": "c5551326-11b6-41ac-b2e7-18278537a39e",
   "metadata": {},
   "source": [
    "Sum of the time delta = len-1 means that all of the date interval are at 1 days. Therefore, no day skip in the dataset.\n",
    "\n",
    "### calendar DF is clean \n",
    "\n",
    "### check sales_train_evaluation DF"
   ]
  },
  {
   "cell_type": "code",
   "execution_count": 109,
   "id": "ea216132-6511-4364-bf59-596c9813bd80",
   "metadata": {},
   "outputs": [
    {
     "data": {
      "text/plain": [
       "0"
      ]
     },
     "execution_count": 109,
     "metadata": {},
     "output_type": "execute_result"
    }
   ],
   "source": [
    "sales_train_evaluation.isna().sum().sum() #no missing data. #so many columns I just do another .sum() to avoid the display overflow."
   ]
  },
  {
   "cell_type": "code",
   "execution_count": 110,
   "id": "eb8b0d2e-91f5-44ec-837f-2b4a4d2400b4",
   "metadata": {},
   "outputs": [
    {
     "data": {
      "text/plain": [
       "0"
      ]
     },
     "execution_count": 110,
     "metadata": {},
     "output_type": "execute_result"
    }
   ],
   "source": [
    "sales_train_evaluation.duplicated().sum() #no duplication"
   ]
  },
  {
   "cell_type": "code",
   "execution_count": 111,
   "id": "7fb04962-3644-40d5-bf83-396cb7700594",
   "metadata": {},
   "outputs": [
    {
     "name": "stdout",
     "output_type": "stream",
     "text": [
      "day_list_interval list first 5 elements\n"
     ]
    },
    {
     "data": {
      "text/plain": [
       "[-1940, 1, 1, 1, 1]"
      ]
     },
     "metadata": {},
     "output_type": "display_data"
    },
    {
     "name": "stdout",
     "output_type": "stream",
     "text": [
      "\n",
      "\n",
      "len(day_list) = 1941\n",
      "sum timedelta = 1940\n"
     ]
    }
   ],
   "source": [
    "#col_list = list(sales_train_evaluation.columns)\n",
    "day_list = list((sales_train_evaluation.columns)[6:])\n",
    "day_list = [x.replace('d_','') for x in day_list]\n",
    "day_list = [int(x) for x in day_list ]\n",
    "day_list_interval = [day_list[i]-day_list[i-1] for i in range(len(day_list))]\n",
    "\n",
    "print('day_list_interval list first 5 elements')\n",
    "display(day_list_interval[:5])\n",
    "\n",
    "print('\\n')\n",
    "\n",
    "print('len(day_list) = {}'.format(len(day_list)))\n",
    "print('sum timedelta = {}'.format(sum(day_list_interval[1:]))) # no date skip\n",
    "\n",
    "del day_list\n",
    "del day_list_interval"
   ]
  },
  {
   "cell_type": "markdown",
   "id": "b42f08d3-9ff6-4b2e-b5e0-5201dc9ee237",
   "metadata": {},
   "source": [
    "Sum of the time delta = len-1 means that all of the date interval are at 1 days. Therefore, no day skip in the dataset.\n",
    "\n",
    "### sales_train_evauation DF is clean \n",
    "\n",
    "### check sell_prices DF"
   ]
  },
  {
   "cell_type": "code",
   "execution_count": 112,
   "id": "0efffec2-4132-4b07-900b-fe515f8d4a63",
   "metadata": {},
   "outputs": [
    {
     "data": {
      "text/plain": [
       "store_id      0\n",
       "item_id       0\n",
       "wm_yr_wk      0\n",
       "sell_price    0\n",
       "dtype: int64"
      ]
     },
     "execution_count": 112,
     "metadata": {},
     "output_type": "execute_result"
    }
   ],
   "source": [
    "sell_prices.isna().sum() #no missing data"
   ]
  },
  {
   "cell_type": "code",
   "execution_count": 113,
   "id": "1c1b8814-dc39-49b5-b4c0-7813000b3a42",
   "metadata": {},
   "outputs": [
    {
     "data": {
      "text/plain": [
       "0"
      ]
     },
     "execution_count": 113,
     "metadata": {},
     "output_type": "execute_result"
    }
   ],
   "source": [
    "sell_prices.duplicated().sum() #no duplication"
   ]
  },
  {
   "cell_type": "markdown",
   "id": "24e58c6c-461e-46f0-9514-bc677f59b9a0",
   "metadata": {},
   "source": [
    "No need to check time skip in sell_prices since the price will be mapped in another table using wm_yr_wk as a key.\n",
    "\n",
    "### Each dataset is clean."
   ]
  },
  {
   "cell_type": "markdown",
   "id": "b8a86cfc-1f44-41b9-8397-c47ffe9860ab",
   "metadata": {},
   "source": [
    "# EDA\n",
    "\n",
    "### Explore and trim the calendar DF first"
   ]
  },
  {
   "cell_type": "code",
   "execution_count": 114,
   "id": "28cedac6-b66a-42fc-a0f9-854b2cf35df8",
   "metadata": {},
   "outputs": [
    {
     "name": "stdout",
     "output_type": "stream",
     "text": [
      "snap_CA count = 650 days or 33.011681056373796 % of total days\n",
      "snap_TX count = 650 days or 33.011681056373796 % of total days\n",
      "snap_WI count = 650 days or 33.011681056373796 % of total days\n"
     ]
    }
   ],
   "source": [
    "# how many SNAP day are there?\n",
    "\n",
    "snap_ca = sum(calendar['snap_CA']) \n",
    "snap_tx = sum(calendar['snap_TX'])\n",
    "snap_wi = sum(calendar['snap_WI'])\n",
    "\n",
    "print('snap_CA count = {} days or {} % of total days'.format(snap_ca,(snap_ca*100/len(calendar['date']))))\n",
    "print('snap_TX count = {} days or {} % of total days'.format(snap_tx,(snap_tx*100/len(calendar['date']))))\n",
    "print('snap_WI count = {} days or {} % of total days'.format(snap_wi,(snap_wi*100/len(calendar['date']))))\n",
    "\n",
    "del snap_ca\n",
    "del snap_tx\n",
    "del snap_wi"
   ]
  },
  {
   "cell_type": "markdown",
   "id": "2a78f377-e839-4b48-8456-d4aad12daa56",
   "metadata": {},
   "source": [
    "### Interesting... they are havnig the same count. Let's check if thay occured at the same time so we could aggregate the snap column."
   ]
  },
  {
   "cell_type": "code",
   "execution_count": 115,
   "id": "a7f672cc-a27b-41eb-ae24-7a0d0a520464",
   "metadata": {},
   "outputs": [
    {
     "data": {
      "text/html": [
       "<div>\n",
       "<style scoped>\n",
       "    .dataframe tbody tr th:only-of-type {\n",
       "        vertical-align: middle;\n",
       "    }\n",
       "\n",
       "    .dataframe tbody tr th {\n",
       "        vertical-align: top;\n",
       "    }\n",
       "\n",
       "    .dataframe thead th {\n",
       "        text-align: right;\n",
       "    }\n",
       "</style>\n",
       "<table border=\"1\" class=\"dataframe\">\n",
       "  <thead>\n",
       "    <tr style=\"text-align: right;\">\n",
       "      <th></th>\n",
       "      <th>date</th>\n",
       "      <th>wm_yr_wk</th>\n",
       "      <th>weekday</th>\n",
       "      <th>wday</th>\n",
       "      <th>month</th>\n",
       "      <th>year</th>\n",
       "      <th>d</th>\n",
       "      <th>event_name_1</th>\n",
       "      <th>event_type_1</th>\n",
       "      <th>event_name_2</th>\n",
       "      <th>event_type_2</th>\n",
       "      <th>snap_CA</th>\n",
       "      <th>snap_TX</th>\n",
       "      <th>snap_WI</th>\n",
       "    </tr>\n",
       "  </thead>\n",
       "  <tbody>\n",
       "    <tr>\n",
       "      <th>3</th>\n",
       "      <td>2011-02-01</td>\n",
       "      <td>11101</td>\n",
       "      <td>Tuesday</td>\n",
       "      <td>4</td>\n",
       "      <td>2</td>\n",
       "      <td>2011</td>\n",
       "      <td>d_4</td>\n",
       "      <td>NaN</td>\n",
       "      <td>NaN</td>\n",
       "      <td>NaN</td>\n",
       "      <td>NaN</td>\n",
       "      <td>1</td>\n",
       "      <td>1</td>\n",
       "      <td>0</td>\n",
       "    </tr>\n",
       "    <tr>\n",
       "      <th>4</th>\n",
       "      <td>2011-02-02</td>\n",
       "      <td>11101</td>\n",
       "      <td>Wednesday</td>\n",
       "      <td>5</td>\n",
       "      <td>2</td>\n",
       "      <td>2011</td>\n",
       "      <td>d_5</td>\n",
       "      <td>NaN</td>\n",
       "      <td>NaN</td>\n",
       "      <td>NaN</td>\n",
       "      <td>NaN</td>\n",
       "      <td>1</td>\n",
       "      <td>0</td>\n",
       "      <td>1</td>\n",
       "    </tr>\n",
       "    <tr>\n",
       "      <th>5</th>\n",
       "      <td>2011-02-03</td>\n",
       "      <td>11101</td>\n",
       "      <td>Thursday</td>\n",
       "      <td>6</td>\n",
       "      <td>2</td>\n",
       "      <td>2011</td>\n",
       "      <td>d_6</td>\n",
       "      <td>NaN</td>\n",
       "      <td>NaN</td>\n",
       "      <td>NaN</td>\n",
       "      <td>NaN</td>\n",
       "      <td>1</td>\n",
       "      <td>1</td>\n",
       "      <td>1</td>\n",
       "    </tr>\n",
       "    <tr>\n",
       "      <th>6</th>\n",
       "      <td>2011-02-04</td>\n",
       "      <td>11101</td>\n",
       "      <td>Friday</td>\n",
       "      <td>7</td>\n",
       "      <td>2</td>\n",
       "      <td>2011</td>\n",
       "      <td>d_7</td>\n",
       "      <td>NaN</td>\n",
       "      <td>NaN</td>\n",
       "      <td>NaN</td>\n",
       "      <td>NaN</td>\n",
       "      <td>1</td>\n",
       "      <td>0</td>\n",
       "      <td>0</td>\n",
       "    </tr>\n",
       "    <tr>\n",
       "      <th>7</th>\n",
       "      <td>2011-02-05</td>\n",
       "      <td>11102</td>\n",
       "      <td>Saturday</td>\n",
       "      <td>1</td>\n",
       "      <td>2</td>\n",
       "      <td>2011</td>\n",
       "      <td>d_8</td>\n",
       "      <td>NaN</td>\n",
       "      <td>NaN</td>\n",
       "      <td>NaN</td>\n",
       "      <td>NaN</td>\n",
       "      <td>1</td>\n",
       "      <td>1</td>\n",
       "      <td>1</td>\n",
       "    </tr>\n",
       "    <tr>\n",
       "      <th>...</th>\n",
       "      <td>...</td>\n",
       "      <td>...</td>\n",
       "      <td>...</td>\n",
       "      <td>...</td>\n",
       "      <td>...</td>\n",
       "      <td>...</td>\n",
       "      <td>...</td>\n",
       "      <td>...</td>\n",
       "      <td>...</td>\n",
       "      <td>...</td>\n",
       "      <td>...</td>\n",
       "      <td>...</td>\n",
       "      <td>...</td>\n",
       "      <td>...</td>\n",
       "    </tr>\n",
       "    <tr>\n",
       "      <th>1955</th>\n",
       "      <td>2016-06-06</td>\n",
       "      <td>11619</td>\n",
       "      <td>Monday</td>\n",
       "      <td>3</td>\n",
       "      <td>6</td>\n",
       "      <td>2016</td>\n",
       "      <td>d_1956</td>\n",
       "      <td>NaN</td>\n",
       "      <td>NaN</td>\n",
       "      <td>NaN</td>\n",
       "      <td>NaN</td>\n",
       "      <td>1</td>\n",
       "      <td>1</td>\n",
       "      <td>1</td>\n",
       "    </tr>\n",
       "    <tr>\n",
       "      <th>1956</th>\n",
       "      <td>2016-06-07</td>\n",
       "      <td>11619</td>\n",
       "      <td>Tuesday</td>\n",
       "      <td>4</td>\n",
       "      <td>6</td>\n",
       "      <td>2016</td>\n",
       "      <td>d_1957</td>\n",
       "      <td>Ramadan starts</td>\n",
       "      <td>Religious</td>\n",
       "      <td>NaN</td>\n",
       "      <td>NaN</td>\n",
       "      <td>1</td>\n",
       "      <td>1</td>\n",
       "      <td>0</td>\n",
       "    </tr>\n",
       "    <tr>\n",
       "      <th>1957</th>\n",
       "      <td>2016-06-08</td>\n",
       "      <td>11619</td>\n",
       "      <td>Wednesday</td>\n",
       "      <td>5</td>\n",
       "      <td>6</td>\n",
       "      <td>2016</td>\n",
       "      <td>d_1958</td>\n",
       "      <td>NaN</td>\n",
       "      <td>NaN</td>\n",
       "      <td>NaN</td>\n",
       "      <td>NaN</td>\n",
       "      <td>1</td>\n",
       "      <td>0</td>\n",
       "      <td>1</td>\n",
       "    </tr>\n",
       "    <tr>\n",
       "      <th>1958</th>\n",
       "      <td>2016-06-09</td>\n",
       "      <td>11619</td>\n",
       "      <td>Thursday</td>\n",
       "      <td>6</td>\n",
       "      <td>6</td>\n",
       "      <td>2016</td>\n",
       "      <td>d_1959</td>\n",
       "      <td>NaN</td>\n",
       "      <td>NaN</td>\n",
       "      <td>NaN</td>\n",
       "      <td>NaN</td>\n",
       "      <td>1</td>\n",
       "      <td>1</td>\n",
       "      <td>1</td>\n",
       "    </tr>\n",
       "    <tr>\n",
       "      <th>1959</th>\n",
       "      <td>2016-06-10</td>\n",
       "      <td>11619</td>\n",
       "      <td>Friday</td>\n",
       "      <td>7</td>\n",
       "      <td>6</td>\n",
       "      <td>2016</td>\n",
       "      <td>d_1960</td>\n",
       "      <td>NaN</td>\n",
       "      <td>NaN</td>\n",
       "      <td>NaN</td>\n",
       "      <td>NaN</td>\n",
       "      <td>1</td>\n",
       "      <td>0</td>\n",
       "      <td>0</td>\n",
       "    </tr>\n",
       "  </tbody>\n",
       "</table>\n",
       "<p>650 rows × 14 columns</p>\n",
       "</div>"
      ],
      "text/plain": [
       "           date  wm_yr_wk    weekday  wday  month  year       d  \\\n",
       "3    2011-02-01     11101    Tuesday     4      2  2011     d_4   \n",
       "4    2011-02-02     11101  Wednesday     5      2  2011     d_5   \n",
       "5    2011-02-03     11101   Thursday     6      2  2011     d_6   \n",
       "6    2011-02-04     11101     Friday     7      2  2011     d_7   \n",
       "7    2011-02-05     11102   Saturday     1      2  2011     d_8   \n",
       "...         ...       ...        ...   ...    ...   ...     ...   \n",
       "1955 2016-06-06     11619     Monday     3      6  2016  d_1956   \n",
       "1956 2016-06-07     11619    Tuesday     4      6  2016  d_1957   \n",
       "1957 2016-06-08     11619  Wednesday     5      6  2016  d_1958   \n",
       "1958 2016-06-09     11619   Thursday     6      6  2016  d_1959   \n",
       "1959 2016-06-10     11619     Friday     7      6  2016  d_1960   \n",
       "\n",
       "        event_name_1 event_type_1 event_name_2 event_type_2  snap_CA  snap_TX  \\\n",
       "3                NaN          NaN          NaN          NaN        1        1   \n",
       "4                NaN          NaN          NaN          NaN        1        0   \n",
       "5                NaN          NaN          NaN          NaN        1        1   \n",
       "6                NaN          NaN          NaN          NaN        1        0   \n",
       "7                NaN          NaN          NaN          NaN        1        1   \n",
       "...              ...          ...          ...          ...      ...      ...   \n",
       "1955             NaN          NaN          NaN          NaN        1        1   \n",
       "1956  Ramadan starts    Religious          NaN          NaN        1        1   \n",
       "1957             NaN          NaN          NaN          NaN        1        0   \n",
       "1958             NaN          NaN          NaN          NaN        1        1   \n",
       "1959             NaN          NaN          NaN          NaN        1        0   \n",
       "\n",
       "      snap_WI  \n",
       "3           0  \n",
       "4           1  \n",
       "5           1  \n",
       "6           0  \n",
       "7           1  \n",
       "...       ...  \n",
       "1955        1  \n",
       "1956        0  \n",
       "1957        1  \n",
       "1958        1  \n",
       "1959        0  \n",
       "\n",
       "[650 rows x 14 columns]"
      ]
     },
     "execution_count": 115,
     "metadata": {},
     "output_type": "execute_result"
    }
   ],
   "source": [
    "calendar.loc[calendar['snap_CA']==True]"
   ]
  },
  {
   "cell_type": "markdown",
   "id": "85c10cb0-20f5-429e-b039-91cb6d0205f6",
   "metadata": {},
   "source": [
    "### SNAP period are differerent from one State to another, need to keep them all."
   ]
  },
  {
   "cell_type": "code",
   "execution_count": 116,
   "id": "4a71db94-a597-4b15-8c74-294e7150005a",
   "metadata": {},
   "outputs": [],
   "source": [
    "# create weekend_column to reduce footprint\n",
    "calendar['wknd'] = int(0)\n",
    "calendar.loc[calendar['wday'] <= 2, 'wknd'] = 1\n",
    "\n",
    "calendar = calendar[['date','wm_yr_wk','wknd','d','event_type_1','event_type_2','snap_CA','snap_TX','snap_WI']]"
   ]
  },
  {
   "cell_type": "code",
   "execution_count": 117,
   "id": "934ab96e-34c5-4959-a1e8-ca215e006281",
   "metadata": {},
   "outputs": [
    {
     "data": {
      "text/html": [
       "<div>\n",
       "<style scoped>\n",
       "    .dataframe tbody tr th:only-of-type {\n",
       "        vertical-align: middle;\n",
       "    }\n",
       "\n",
       "    .dataframe tbody tr th {\n",
       "        vertical-align: top;\n",
       "    }\n",
       "\n",
       "    .dataframe thead th {\n",
       "        text-align: right;\n",
       "    }\n",
       "</style>\n",
       "<table border=\"1\" class=\"dataframe\">\n",
       "  <thead>\n",
       "    <tr style=\"text-align: right;\">\n",
       "      <th></th>\n",
       "      <th>date</th>\n",
       "      <th>wm_yr_wk</th>\n",
       "      <th>wknd</th>\n",
       "      <th>d</th>\n",
       "      <th>event_type_1</th>\n",
       "      <th>event_type_2</th>\n",
       "      <th>snap_CA</th>\n",
       "      <th>snap_TX</th>\n",
       "      <th>snap_WI</th>\n",
       "    </tr>\n",
       "  </thead>\n",
       "  <tbody>\n",
       "    <tr>\n",
       "      <th>1964</th>\n",
       "      <td>2016-06-15</td>\n",
       "      <td>11620</td>\n",
       "      <td>0</td>\n",
       "      <td>d_1965</td>\n",
       "      <td>NaN</td>\n",
       "      <td>NaN</td>\n",
       "      <td>0</td>\n",
       "      <td>1</td>\n",
       "      <td>1</td>\n",
       "    </tr>\n",
       "    <tr>\n",
       "      <th>1965</th>\n",
       "      <td>2016-06-16</td>\n",
       "      <td>11620</td>\n",
       "      <td>0</td>\n",
       "      <td>d_1966</td>\n",
       "      <td>NaN</td>\n",
       "      <td>NaN</td>\n",
       "      <td>0</td>\n",
       "      <td>0</td>\n",
       "      <td>0</td>\n",
       "    </tr>\n",
       "    <tr>\n",
       "      <th>1966</th>\n",
       "      <td>2016-06-17</td>\n",
       "      <td>11620</td>\n",
       "      <td>0</td>\n",
       "      <td>d_1967</td>\n",
       "      <td>NaN</td>\n",
       "      <td>NaN</td>\n",
       "      <td>0</td>\n",
       "      <td>0</td>\n",
       "      <td>0</td>\n",
       "    </tr>\n",
       "    <tr>\n",
       "      <th>1967</th>\n",
       "      <td>2016-06-18</td>\n",
       "      <td>11621</td>\n",
       "      <td>1</td>\n",
       "      <td>d_1968</td>\n",
       "      <td>NaN</td>\n",
       "      <td>NaN</td>\n",
       "      <td>0</td>\n",
       "      <td>0</td>\n",
       "      <td>0</td>\n",
       "    </tr>\n",
       "    <tr>\n",
       "      <th>1968</th>\n",
       "      <td>2016-06-19</td>\n",
       "      <td>11621</td>\n",
       "      <td>1</td>\n",
       "      <td>d_1969</td>\n",
       "      <td>Sporting</td>\n",
       "      <td>Cultural</td>\n",
       "      <td>0</td>\n",
       "      <td>0</td>\n",
       "      <td>0</td>\n",
       "    </tr>\n",
       "  </tbody>\n",
       "</table>\n",
       "</div>"
      ],
      "text/plain": [
       "           date  wm_yr_wk  wknd       d event_type_1 event_type_2  snap_CA  \\\n",
       "1964 2016-06-15     11620     0  d_1965          NaN          NaN        0   \n",
       "1965 2016-06-16     11620     0  d_1966          NaN          NaN        0   \n",
       "1966 2016-06-17     11620     0  d_1967          NaN          NaN        0   \n",
       "1967 2016-06-18     11621     1  d_1968          NaN          NaN        0   \n",
       "1968 2016-06-19     11621     1  d_1969     Sporting     Cultural        0   \n",
       "\n",
       "      snap_TX  snap_WI  \n",
       "1964        1        1  \n",
       "1965        0        0  \n",
       "1966        0        0  \n",
       "1967        0        0  \n",
       "1968        0        0  "
      ]
     },
     "execution_count": 117,
     "metadata": {},
     "output_type": "execute_result"
    }
   ],
   "source": [
    "calendar.tail()"
   ]
  },
  {
   "cell_type": "code",
   "execution_count": 118,
   "id": "7c38e885-6c00-463f-8337-44f28b3a5324",
   "metadata": {},
   "outputs": [
    {
     "data": {
      "text/plain": [
       "array([nan, 'Sporting', 'Cultural', 'National', 'Religious'], dtype=object)"
      ]
     },
     "metadata": {},
     "output_type": "display_data"
    },
    {
     "data": {
      "text/plain": [
       "array([nan, 'Cultural', 'Religious'], dtype=object)"
      ]
     },
     "metadata": {},
     "output_type": "display_data"
    }
   ],
   "source": [
    "# what do we have in the event types?\n",
    "\n",
    "display(calendar['event_type_1'].unique())\n",
    "display(calendar['event_type_2'].unique())"
   ]
  },
  {
   "cell_type": "markdown",
   "id": "9df3d62c-f49b-452e-b599-fcd66c917c38",
   "metadata": {},
   "source": [
    "### There are 4 types of event 'Sporting', 'Cultural', 'National', 'Religious'."
   ]
  },
  {
   "cell_type": "code",
   "execution_count": 119,
   "id": "3412838e-f05f-45ad-93c9-b7e1f064a217",
   "metadata": {},
   "outputs": [
    {
     "data": {
      "text/html": [
       "<div>\n",
       "<style scoped>\n",
       "    .dataframe tbody tr th:only-of-type {\n",
       "        vertical-align: middle;\n",
       "    }\n",
       "\n",
       "    .dataframe tbody tr th {\n",
       "        vertical-align: top;\n",
       "    }\n",
       "\n",
       "    .dataframe thead th {\n",
       "        text-align: right;\n",
       "    }\n",
       "</style>\n",
       "<table border=\"1\" class=\"dataframe\">\n",
       "  <thead>\n",
       "    <tr style=\"text-align: right;\">\n",
       "      <th></th>\n",
       "      <th>date</th>\n",
       "      <th>wm_yr_wk</th>\n",
       "      <th>wknd</th>\n",
       "      <th>d</th>\n",
       "      <th>event_type_1</th>\n",
       "      <th>event_type_2</th>\n",
       "      <th>snap_CA</th>\n",
       "      <th>snap_TX</th>\n",
       "      <th>snap_WI</th>\n",
       "    </tr>\n",
       "  </thead>\n",
       "  <tbody>\n",
       "    <tr>\n",
       "      <th>85</th>\n",
       "      <td>2011-04-24</td>\n",
       "      <td>11113</td>\n",
       "      <td>1</td>\n",
       "      <td>d_86</td>\n",
       "      <td>Religious</td>\n",
       "      <td>Cultural</td>\n",
       "      <td>0</td>\n",
       "      <td>0</td>\n",
       "      <td>0</td>\n",
       "    </tr>\n",
       "    <tr>\n",
       "      <th>827</th>\n",
       "      <td>2013-05-05</td>\n",
       "      <td>11315</td>\n",
       "      <td>1</td>\n",
       "      <td>d_828</td>\n",
       "      <td>Religious</td>\n",
       "      <td>Cultural</td>\n",
       "      <td>1</td>\n",
       "      <td>1</td>\n",
       "      <td>1</td>\n",
       "    </tr>\n",
       "    <tr>\n",
       "      <th>1177</th>\n",
       "      <td>2014-04-20</td>\n",
       "      <td>11412</td>\n",
       "      <td>1</td>\n",
       "      <td>d_1178</td>\n",
       "      <td>Cultural</td>\n",
       "      <td>Religious</td>\n",
       "      <td>0</td>\n",
       "      <td>0</td>\n",
       "      <td>0</td>\n",
       "    </tr>\n",
       "    <tr>\n",
       "      <th>1233</th>\n",
       "      <td>2014-06-15</td>\n",
       "      <td>11420</td>\n",
       "      <td>1</td>\n",
       "      <td>d_1234</td>\n",
       "      <td>Sporting</td>\n",
       "      <td>Cultural</td>\n",
       "      <td>0</td>\n",
       "      <td>1</td>\n",
       "      <td>1</td>\n",
       "    </tr>\n",
       "    <tr>\n",
       "      <th>1968</th>\n",
       "      <td>2016-06-19</td>\n",
       "      <td>11621</td>\n",
       "      <td>1</td>\n",
       "      <td>d_1969</td>\n",
       "      <td>Sporting</td>\n",
       "      <td>Cultural</td>\n",
       "      <td>0</td>\n",
       "      <td>0</td>\n",
       "      <td>0</td>\n",
       "    </tr>\n",
       "  </tbody>\n",
       "</table>\n",
       "</div>"
      ],
      "text/plain": [
       "           date  wm_yr_wk  wknd       d event_type_1 event_type_2  snap_CA  \\\n",
       "85   2011-04-24     11113     1    d_86    Religious     Cultural        0   \n",
       "827  2013-05-05     11315     1   d_828    Religious     Cultural        1   \n",
       "1177 2014-04-20     11412     1  d_1178     Cultural    Religious        0   \n",
       "1233 2014-06-15     11420     1  d_1234     Sporting     Cultural        0   \n",
       "1968 2016-06-19     11621     1  d_1969     Sporting     Cultural        0   \n",
       "\n",
       "      snap_TX  snap_WI  \n",
       "85          0        0  \n",
       "827         1        1  \n",
       "1177        0        0  \n",
       "1233        1        1  \n",
       "1968        0        0  "
      ]
     },
     "execution_count": 119,
     "metadata": {},
     "output_type": "execute_result"
    }
   ],
   "source": [
    "calendar[~calendar['event_type_2'].isna()] # event type 2 means that there are multiple events in a day"
   ]
  },
  {
   "cell_type": "markdown",
   "id": "f00c0972-8bfa-4b6c-9640-a3b6040beec5",
   "metadata": {
    "tags": []
   },
   "source": [
    "### How many event days are there?"
   ]
  },
  {
   "cell_type": "code",
   "execution_count": 120,
   "id": "b26eb756-75fd-40c3-9500-41bef9f3fecb",
   "metadata": {},
   "outputs": [
    {
     "name": "stdout",
     "output_type": "stream",
     "text": [
      "there are 162 event days\n",
      "event days are 8.227526663280853 percent of total days\n"
     ]
    }
   ],
   "source": [
    "print('there are {} event days'.format(len(calendar[~calendar['event_type_1'].isna()])))\n",
    "print('event days are {} percent of total days'.format(len(calendar[~calendar['event_type_1'].isna()])*100/len(calendar)))"
   ]
  },
  {
   "cell_type": "markdown",
   "id": "fb62f915-74ba-4581-a1dc-f52dddfd4189",
   "metadata": {},
   "source": [
    "### How does event distributed?"
   ]
  },
  {
   "cell_type": "code",
   "execution_count": 121,
   "id": "6b164a0b-b65a-4b95-8933-76c793edc3ac",
   "metadata": {},
   "outputs": [],
   "source": [
    "def count_events(event_series):\n",
    "    dic = {'Sporting':0, 'Cultural':0, 'National':0, 'Religious':0}\n",
    "    for event in event_series:\n",
    "        if event == 'Sporting':\n",
    "            dic['Sporting'] += 1\n",
    "        elif event == 'Cultural': \n",
    "            dic['Cultural'] += 1\n",
    "        elif event == 'National': \n",
    "            dic['National'] += 1\n",
    "        elif event == 'Religious':\n",
    "            dic['Religious'] += 1\n",
    "      \n",
    "    return dic"
   ]
  },
  {
   "cell_type": "code",
   "execution_count": 122,
   "id": "2bf98598-49b0-459f-8897-369b1da439d4",
   "metadata": {
    "tags": []
   },
   "outputs": [],
   "source": [
    "events = list(calendar[~calendar['event_type_1'].isna()].event_type_1)\n",
    "events.extend(list(calendar[~calendar['event_type_2'].isna()].event_type_2))"
   ]
  },
  {
   "cell_type": "code",
   "execution_count": 123,
   "id": "8c694fd0-bfb9-415e-a6eb-4899fdac4f67",
   "metadata": {},
   "outputs": [],
   "source": [
    "event_dic = count_events(events)"
   ]
  },
  {
   "cell_type": "code",
   "execution_count": 124,
   "id": "274b1b8b-88fc-4258-91a2-3917263d8d63",
   "metadata": {},
   "outputs": [
    {
     "data": {
      "text/plain": [
       "{'Sporting': 18, 'Cultural': 41, 'National': 52, 'Religious': 56}"
      ]
     },
     "execution_count": 124,
     "metadata": {},
     "output_type": "execute_result"
    }
   ],
   "source": [
    "event_dic"
   ]
  },
  {
   "cell_type": "code",
   "execution_count": 125,
   "id": "6eeed156-4ae3-4734-8287-752c57eccb31",
   "metadata": {},
   "outputs": [
    {
     "data": {
      "image/png": "[encoded data removed]",
      "text/plain": [
       "<Figure size 432x288 with 1 Axes>"
      ]
     },
     "metadata": {
      "needs_background": "light"
     },
     "output_type": "display_data"
    }
   ],
   "source": [
    "def event_dist(event_dic):\n",
    "    plt.bar(event_dic.keys(),event_dic.values())\n",
    "    plt.title('event counts')\n",
    "    plt.show()\n",
    "    \n",
    "event_dist(event_dic)"
   ]
  },
  {
   "cell_type": "markdown",
   "id": "653c93ae-1a28-4b4a-9d0b-c9dc5fdae853",
   "metadata": {},
   "source": [
    "Most of the events are Religious and National."
   ]
  },
  {
   "cell_type": "code",
   "execution_count": 126,
   "id": "d18f0d06-9566-49b3-813b-812ce2f75dc4",
   "metadata": {},
   "outputs": [
    {
     "data": {
      "text/plain": [
       "2755"
      ]
     },
     "execution_count": 126,
     "metadata": {},
     "output_type": "execute_result"
    }
   ],
   "source": [
    "del event_dic\n",
    "gc.collect()"
   ]
  },
  {
   "cell_type": "markdown",
   "id": "d4dd6368-12a9-4d9f-a484-4987deeb27fe",
   "metadata": {
    "tags": []
   },
   "source": [
    "# Summary from calendar dataset\n",
    "* From 1969 days there are 162 events (8.2% from total)\n",
    "* Event are mostly Religious, National, Cultural while Sporting events are the least\n",
    "* SNAP day in each State are distubuted equally at 650 days. However, it doesn't need to occur in the same day between different States. "
   ]
  },
  {
   "cell_type": "markdown",
   "id": "8848abc1-3e5c-476f-a325-0817f16bc09f",
   "metadata": {},
   "source": [
    "# Explore sales_train_evaluation DF"
   ]
  },
  {
   "cell_type": "code",
   "execution_count": 127,
   "id": "88d370eb-3bda-4844-9cf9-fbc6edd09eda",
   "metadata": {},
   "outputs": [
    {
     "data": {
      "text/html": [
       "<div>\n",
       "<style scoped>\n",
       "    .dataframe tbody tr th:only-of-type {\n",
       "        vertical-align: middle;\n",
       "    }\n",
       "\n",
       "    .dataframe tbody tr th {\n",
       "        vertical-align: top;\n",
       "    }\n",
       "\n",
       "    .dataframe thead th {\n",
       "        text-align: right;\n",
       "    }\n",
       "</style>\n",
       "<table border=\"1\" class=\"dataframe\">\n",
       "  <thead>\n",
       "    <tr style=\"text-align: right;\">\n",
       "      <th></th>\n",
       "      <th>id</th>\n",
       "      <th>item_id</th>\n",
       "      <th>dept_id</th>\n",
       "      <th>cat_id</th>\n",
       "      <th>store_id</th>\n",
       "      <th>state_id</th>\n",
       "      <th>d_1</th>\n",
       "      <th>d_2</th>\n",
       "      <th>d_3</th>\n",
       "      <th>d_4</th>\n",
       "      <th>...</th>\n",
       "      <th>d_1932</th>\n",
       "      <th>d_1933</th>\n",
       "      <th>d_1934</th>\n",
       "      <th>d_1935</th>\n",
       "      <th>d_1936</th>\n",
       "      <th>d_1937</th>\n",
       "      <th>d_1938</th>\n",
       "      <th>d_1939</th>\n",
       "      <th>d_1940</th>\n",
       "      <th>d_1941</th>\n",
       "    </tr>\n",
       "  </thead>\n",
       "  <tbody>\n",
       "    <tr>\n",
       "      <th>0</th>\n",
       "      <td>HOBBIES_1_001_CA_1_evaluation</td>\n",
       "      <td>HOBBIES_1_001</td>\n",
       "      <td>HOBBIES_1</td>\n",
       "      <td>HOBBIES</td>\n",
       "      <td>CA_1</td>\n",
       "      <td>CA</td>\n",
       "      <td>0</td>\n",
       "      <td>0</td>\n",
       "      <td>0</td>\n",
       "      <td>0</td>\n",
       "      <td>...</td>\n",
       "      <td>2</td>\n",
       "      <td>4</td>\n",
       "      <td>0</td>\n",
       "      <td>0</td>\n",
       "      <td>0</td>\n",
       "      <td>0</td>\n",
       "      <td>3</td>\n",
       "      <td>3</td>\n",
       "      <td>0</td>\n",
       "      <td>1</td>\n",
       "    </tr>\n",
       "    <tr>\n",
       "      <th>1</th>\n",
       "      <td>HOBBIES_1_002_CA_1_evaluation</td>\n",
       "      <td>HOBBIES_1_002</td>\n",
       "      <td>HOBBIES_1</td>\n",
       "      <td>HOBBIES</td>\n",
       "      <td>CA_1</td>\n",
       "      <td>CA</td>\n",
       "      <td>0</td>\n",
       "      <td>0</td>\n",
       "      <td>0</td>\n",
       "      <td>0</td>\n",
       "      <td>...</td>\n",
       "      <td>0</td>\n",
       "      <td>1</td>\n",
       "      <td>2</td>\n",
       "      <td>1</td>\n",
       "      <td>1</td>\n",
       "      <td>0</td>\n",
       "      <td>0</td>\n",
       "      <td>0</td>\n",
       "      <td>0</td>\n",
       "      <td>0</td>\n",
       "    </tr>\n",
       "  </tbody>\n",
       "</table>\n",
       "<p>2 rows × 1947 columns</p>\n",
       "</div>"
      ],
      "text/plain": [
       "                              id        item_id    dept_id   cat_id store_id  \\\n",
       "0  HOBBIES_1_001_CA_1_evaluation  HOBBIES_1_001  HOBBIES_1  HOBBIES     CA_1   \n",
       "1  HOBBIES_1_002_CA_1_evaluation  HOBBIES_1_002  HOBBIES_1  HOBBIES     CA_1   \n",
       "\n",
       "  state_id  d_1  d_2  d_3  d_4  ...  d_1932  d_1933  d_1934  d_1935  d_1936  \\\n",
       "0       CA    0    0    0    0  ...       2       4       0       0       0   \n",
       "1       CA    0    0    0    0  ...       0       1       2       1       1   \n",
       "\n",
       "   d_1937  d_1938  d_1939  d_1940  d_1941  \n",
       "0       0       3       3       0       1  \n",
       "1       0       0       0       0       0  \n",
       "\n",
       "[2 rows x 1947 columns]"
      ]
     },
     "execution_count": 127,
     "metadata": {},
     "output_type": "execute_result"
    }
   ],
   "source": [
    "sales_train_evaluation.head(2)"
   ]
  },
  {
   "cell_type": "code",
   "execution_count": 128,
   "id": "64eaf822-4717-46c5-ae0d-440a674e1b38",
   "metadata": {},
   "outputs": [
    {
     "name": "stdout",
     "output_type": "stream",
     "text": [
      "10\n",
      "['CA_1' 'CA_2' 'CA_3' 'CA_4' 'TX_1' 'TX_2' 'TX_3' 'WI_1' 'WI_2' 'WI_3']\n"
     ]
    }
   ],
   "source": [
    "print(len(sales_train_evaluation['store_id'].unique())) #there are 10 store \n",
    "print(sales_train_evaluation['store_id'].unique()) #4 in CA | 2 in TX | 3 in WI"
   ]
  },
  {
   "cell_type": "code",
   "execution_count": 129,
   "id": "7f78ac68-2c4e-4db1-b23d-806fa622e95f",
   "metadata": {},
   "outputs": [
    {
     "data": {
      "text/plain": [
       "array(['CA_1', 'CA_2', 'CA_3', 'CA_4', 'TX_1', 'TX_2', 'TX_3', 'WI_1',\n",
       "       'WI_2', 'WI_3'], dtype=object)"
      ]
     },
     "execution_count": 129,
     "metadata": {},
     "output_type": "execute_result"
    }
   ],
   "source": [
    "sales_train_evaluation['store_id'].unique()"
   ]
  },
  {
   "cell_type": "code",
   "execution_count": 130,
   "id": "77dcde77-0178-40ce-ae63-797958fd6090",
   "metadata": {},
   "outputs": [
    {
     "data": {
      "text/plain": [
       "3049"
      ]
     },
     "execution_count": 130,
     "metadata": {},
     "output_type": "execute_result"
    }
   ],
   "source": [
    "len(sales_train_evaluation['item_id'].unique()) #there are 3049 SKU "
   ]
  },
  {
   "cell_type": "markdown",
   "id": "1e7e88c0-9a2e-4c23-b834-bd2ba2c6be7c",
   "metadata": {},
   "source": [
    "### First, let's fix the date format of d_n to something conventional."
   ]
  },
  {
   "cell_type": "code",
   "execution_count": 131,
   "id": "ce68b2cd-7454-4a74-985d-0823e611348c",
   "metadata": {},
   "outputs": [
    {
     "data": {
      "text/html": [
       "<div>\n",
       "<style scoped>\n",
       "    .dataframe tbody tr th:only-of-type {\n",
       "        vertical-align: middle;\n",
       "    }\n",
       "\n",
       "    .dataframe tbody tr th {\n",
       "        vertical-align: top;\n",
       "    }\n",
       "\n",
       "    .dataframe thead th {\n",
       "        text-align: right;\n",
       "    }\n",
       "</style>\n",
       "<table border=\"1\" class=\"dataframe\">\n",
       "  <thead>\n",
       "    <tr style=\"text-align: right;\">\n",
       "      <th></th>\n",
       "      <th>d_n</th>\n",
       "      <th>date</th>\n",
       "    </tr>\n",
       "  </thead>\n",
       "  <tbody>\n",
       "    <tr>\n",
       "      <th>0</th>\n",
       "      <td>d_1</td>\n",
       "      <td>2011-01-29</td>\n",
       "    </tr>\n",
       "    <tr>\n",
       "      <th>1</th>\n",
       "      <td>d_2</td>\n",
       "      <td>2011-01-30</td>\n",
       "    </tr>\n",
       "    <tr>\n",
       "      <th>2</th>\n",
       "      <td>d_3</td>\n",
       "      <td>2011-01-31</td>\n",
       "    </tr>\n",
       "  </tbody>\n",
       "</table>\n",
       "</div>"
      ],
      "text/plain": [
       "   d_n       date\n",
       "0  d_1 2011-01-29\n",
       "1  d_2 2011-01-30\n",
       "2  d_3 2011-01-31"
      ]
     },
     "execution_count": 131,
     "metadata": {},
     "output_type": "execute_result"
    }
   ],
   "source": [
    "temp = pd.DataFrame(columns=['d_n'],data=sales_train_evaluation.columns[6:])\n",
    "temp = temp.merge(calendar,how='left',left_on='d_n',right_on='d')\n",
    "#sales_train_evaluation.columns[6:]\n",
    "\n",
    "temp = temp[['d_n','date']]\n",
    "temp.head(3)"
   ]
  },
  {
   "cell_type": "code",
   "execution_count": 132,
   "id": "00883d28-54a2-463f-96b0-c6c6a99f8457",
   "metadata": {},
   "outputs": [],
   "source": [
    "temp_dict = { k:v for (k,v) in zip(temp['d_n'], temp['date'])} "
   ]
  },
  {
   "cell_type": "code",
   "execution_count": 133,
   "id": "688ef088-c9d9-4012-8d2a-2b9a452e7687",
   "metadata": {},
   "outputs": [
    {
     "data": {
      "text/html": [
       "<div>\n",
       "<style scoped>\n",
       "    .dataframe tbody tr th:only-of-type {\n",
       "        vertical-align: middle;\n",
       "    }\n",
       "\n",
       "    .dataframe tbody tr th {\n",
       "        vertical-align: top;\n",
       "    }\n",
       "\n",
       "    .dataframe thead th {\n",
       "        text-align: right;\n",
       "    }\n",
       "</style>\n",
       "<table border=\"1\" class=\"dataframe\">\n",
       "  <thead>\n",
       "    <tr style=\"text-align: right;\">\n",
       "      <th></th>\n",
       "      <th>id</th>\n",
       "      <th>item_id</th>\n",
       "      <th>dept_id</th>\n",
       "      <th>cat_id</th>\n",
       "      <th>store_id</th>\n",
       "      <th>state_id</th>\n",
       "      <th>2011-01-29 00:00:00</th>\n",
       "      <th>2011-01-30 00:00:00</th>\n",
       "      <th>2011-01-31 00:00:00</th>\n",
       "      <th>2011-02-01 00:00:00</th>\n",
       "      <th>...</th>\n",
       "      <th>2016-05-13 00:00:00</th>\n",
       "      <th>2016-05-14 00:00:00</th>\n",
       "      <th>2016-05-15 00:00:00</th>\n",
       "      <th>2016-05-16 00:00:00</th>\n",
       "      <th>2016-05-17 00:00:00</th>\n",
       "      <th>2016-05-18 00:00:00</th>\n",
       "      <th>2016-05-19 00:00:00</th>\n",
       "      <th>2016-05-20 00:00:00</th>\n",
       "      <th>2016-05-21 00:00:00</th>\n",
       "      <th>2016-05-22 00:00:00</th>\n",
       "    </tr>\n",
       "  </thead>\n",
       "  <tbody>\n",
       "    <tr>\n",
       "      <th>0</th>\n",
       "      <td>HOBBIES_1_001_CA_1_evaluation</td>\n",
       "      <td>HOBBIES_1_001</td>\n",
       "      <td>HOBBIES_1</td>\n",
       "      <td>HOBBIES</td>\n",
       "      <td>CA_1</td>\n",
       "      <td>CA</td>\n",
       "      <td>0</td>\n",
       "      <td>0</td>\n",
       "      <td>0</td>\n",
       "      <td>0</td>\n",
       "      <td>...</td>\n",
       "      <td>2</td>\n",
       "      <td>4</td>\n",
       "      <td>0</td>\n",
       "      <td>0</td>\n",
       "      <td>0</td>\n",
       "      <td>0</td>\n",
       "      <td>3</td>\n",
       "      <td>3</td>\n",
       "      <td>0</td>\n",
       "      <td>1</td>\n",
       "    </tr>\n",
       "    <tr>\n",
       "      <th>1</th>\n",
       "      <td>HOBBIES_1_002_CA_1_evaluation</td>\n",
       "      <td>HOBBIES_1_002</td>\n",
       "      <td>HOBBIES_1</td>\n",
       "      <td>HOBBIES</td>\n",
       "      <td>CA_1</td>\n",
       "      <td>CA</td>\n",
       "      <td>0</td>\n",
       "      <td>0</td>\n",
       "      <td>0</td>\n",
       "      <td>0</td>\n",
       "      <td>...</td>\n",
       "      <td>0</td>\n",
       "      <td>1</td>\n",
       "      <td>2</td>\n",
       "      <td>1</td>\n",
       "      <td>1</td>\n",
       "      <td>0</td>\n",
       "      <td>0</td>\n",
       "      <td>0</td>\n",
       "      <td>0</td>\n",
       "      <td>0</td>\n",
       "    </tr>\n",
       "  </tbody>\n",
       "</table>\n",
       "<p>2 rows × 1947 columns</p>\n",
       "</div>"
      ],
      "text/plain": [
       "                              id        item_id    dept_id   cat_id store_id  \\\n",
       "0  HOBBIES_1_001_CA_1_evaluation  HOBBIES_1_001  HOBBIES_1  HOBBIES     CA_1   \n",
       "1  HOBBIES_1_002_CA_1_evaluation  HOBBIES_1_002  HOBBIES_1  HOBBIES     CA_1   \n",
       "\n",
       "  state_id  2011-01-29 00:00:00  2011-01-30 00:00:00  2011-01-31 00:00:00  \\\n",
       "0       CA                    0                    0                    0   \n",
       "1       CA                    0                    0                    0   \n",
       "\n",
       "   2011-02-01 00:00:00  ...  2016-05-13 00:00:00  2016-05-14 00:00:00  \\\n",
       "0                    0  ...                    2                    4   \n",
       "1                    0  ...                    0                    1   \n",
       "\n",
       "   2016-05-15 00:00:00  2016-05-16 00:00:00  2016-05-17 00:00:00  \\\n",
       "0                    0                    0                    0   \n",
       "1                    2                    1                    1   \n",
       "\n",
       "   2016-05-18 00:00:00  2016-05-19 00:00:00  2016-05-20 00:00:00  \\\n",
       "0                    0                    3                    3   \n",
       "1                    0                    0                    0   \n",
       "\n",
       "   2016-05-21 00:00:00  2016-05-22 00:00:00  \n",
       "0                    0                    1  \n",
       "1                    0                    0  \n",
       "\n",
       "[2 rows x 1947 columns]"
      ]
     },
     "execution_count": 133,
     "metadata": {},
     "output_type": "execute_result"
    }
   ],
   "source": [
    "sales_edit = sales_train_evaluation.rename(columns=temp_dict)\n",
    "sales_edit.head(2)"
   ]
  },
  {
   "cell_type": "code",
   "execution_count": 134,
   "id": "8305f33f-56d8-41ce-abb7-4d1ec7919eb0",
   "metadata": {
    "tags": []
   },
   "outputs": [
    {
     "data": {
      "text/plain": [
       "0"
      ]
     },
     "execution_count": 134,
     "metadata": {},
     "output_type": "execute_result"
    }
   ],
   "source": [
    "del temp\n",
    "del temp_dict\n",
    "del sales_train_evaluation\n",
    "gc.collect()"
   ]
  },
  {
   "cell_type": "markdown",
   "id": "c8c8db9f-53b5-4c00-822a-a6678c140cf7",
   "metadata": {},
   "source": [
    "### Let's focus in store_id and dept_id for a good granularity"
   ]
  },
  {
   "cell_type": "code",
   "execution_count": 135,
   "id": "82ee4852-dc81-4560-9fd6-b85ac71fd65d",
   "metadata": {},
   "outputs": [],
   "source": [
    "sales_edit['store_dept'] = 0\n",
    "for i in range(len(sales_edit)):\n",
    "    sales_edit.loc[i, 'store_dept'] = sales_edit.loc[i, 'store_id'] + '_' + sales_edit.loc[i, 'dept_id']\n",
    "    "
   ]
  },
  {
   "cell_type": "code",
   "execution_count": 136,
   "id": "f93a0de9-6b5f-4298-9356-60ca5b14f8d6",
   "metadata": {},
   "outputs": [
    {
     "data": {
      "text/html": [
       "<div>\n",
       "<style scoped>\n",
       "    .dataframe tbody tr th:only-of-type {\n",
       "        vertical-align: middle;\n",
       "    }\n",
       "\n",
       "    .dataframe tbody tr th {\n",
       "        vertical-align: top;\n",
       "    }\n",
       "\n",
       "    .dataframe thead th {\n",
       "        text-align: right;\n",
       "    }\n",
       "</style>\n",
       "<table border=\"1\" class=\"dataframe\">\n",
       "  <thead>\n",
       "    <tr style=\"text-align: right;\">\n",
       "      <th></th>\n",
       "      <th>2011-01-29</th>\n",
       "      <th>2011-01-30</th>\n",
       "      <th>2011-01-31</th>\n",
       "      <th>2011-02-01</th>\n",
       "      <th>2011-02-02</th>\n",
       "      <th>2011-02-03</th>\n",
       "      <th>2011-02-04</th>\n",
       "      <th>2011-02-05</th>\n",
       "      <th>2011-02-06</th>\n",
       "      <th>2011-02-07</th>\n",
       "      <th>...</th>\n",
       "      <th>2016-05-13</th>\n",
       "      <th>2016-05-14</th>\n",
       "      <th>2016-05-15</th>\n",
       "      <th>2016-05-16</th>\n",
       "      <th>2016-05-17</th>\n",
       "      <th>2016-05-18</th>\n",
       "      <th>2016-05-19</th>\n",
       "      <th>2016-05-20</th>\n",
       "      <th>2016-05-21</th>\n",
       "      <th>2016-05-22</th>\n",
       "    </tr>\n",
       "    <tr>\n",
       "      <th>store_dept</th>\n",
       "      <th></th>\n",
       "      <th></th>\n",
       "      <th></th>\n",
       "      <th></th>\n",
       "      <th></th>\n",
       "      <th></th>\n",
       "      <th></th>\n",
       "      <th></th>\n",
       "      <th></th>\n",
       "      <th></th>\n",
       "      <th></th>\n",
       "      <th></th>\n",
       "      <th></th>\n",
       "      <th></th>\n",
       "      <th></th>\n",
       "      <th></th>\n",
       "      <th></th>\n",
       "      <th></th>\n",
       "      <th></th>\n",
       "      <th></th>\n",
       "      <th></th>\n",
       "    </tr>\n",
       "  </thead>\n",
       "  <tbody>\n",
       "    <tr>\n",
       "      <th>CA_1_FOODS_1</th>\n",
       "      <td>297</td>\n",
       "      <td>284</td>\n",
       "      <td>214</td>\n",
       "      <td>175</td>\n",
       "      <td>182</td>\n",
       "      <td>191</td>\n",
       "      <td>224</td>\n",
       "      <td>263</td>\n",
       "      <td>245</td>\n",
       "      <td>176</td>\n",
       "      <td>...</td>\n",
       "      <td>412</td>\n",
       "      <td>435</td>\n",
       "      <td>415</td>\n",
       "      <td>277</td>\n",
       "      <td>302</td>\n",
       "      <td>397</td>\n",
       "      <td>330</td>\n",
       "      <td>310</td>\n",
       "      <td>427</td>\n",
       "      <td>334</td>\n",
       "    </tr>\n",
       "    <tr>\n",
       "      <th>CA_1_FOODS_2</th>\n",
       "      <td>674</td>\n",
       "      <td>655</td>\n",
       "      <td>396</td>\n",
       "      <td>476</td>\n",
       "      <td>354</td>\n",
       "      <td>486</td>\n",
       "      <td>554</td>\n",
       "      <td>747</td>\n",
       "      <td>581</td>\n",
       "      <td>559</td>\n",
       "      <td>...</td>\n",
       "      <td>545</td>\n",
       "      <td>611</td>\n",
       "      <td>781</td>\n",
       "      <td>555</td>\n",
       "      <td>476</td>\n",
       "      <td>427</td>\n",
       "      <td>411</td>\n",
       "      <td>434</td>\n",
       "      <td>627</td>\n",
       "      <td>719</td>\n",
       "    </tr>\n",
       "    <tr>\n",
       "      <th>CA_1_FOODS_3</th>\n",
       "      <td>2268</td>\n",
       "      <td>2198</td>\n",
       "      <td>1398</td>\n",
       "      <td>1607</td>\n",
       "      <td>1496</td>\n",
       "      <td>1730</td>\n",
       "      <td>1915</td>\n",
       "      <td>2952</td>\n",
       "      <td>2592</td>\n",
       "      <td>1711</td>\n",
       "      <td>...</td>\n",
       "      <td>2408</td>\n",
       "      <td>3000</td>\n",
       "      <td>3521</td>\n",
       "      <td>2366</td>\n",
       "      <td>2016</td>\n",
       "      <td>1992</td>\n",
       "      <td>2113</td>\n",
       "      <td>2249</td>\n",
       "      <td>2729</td>\n",
       "      <td>3274</td>\n",
       "    </tr>\n",
       "    <tr>\n",
       "      <th>CA_1_HOBBIES_1</th>\n",
       "      <td>528</td>\n",
       "      <td>489</td>\n",
       "      <td>409</td>\n",
       "      <td>383</td>\n",
       "      <td>263</td>\n",
       "      <td>453</td>\n",
       "      <td>339</td>\n",
       "      <td>750</td>\n",
       "      <td>425</td>\n",
       "      <td>375</td>\n",
       "      <td>...</td>\n",
       "      <td>546</td>\n",
       "      <td>732</td>\n",
       "      <td>631</td>\n",
       "      <td>389</td>\n",
       "      <td>347</td>\n",
       "      <td>353</td>\n",
       "      <td>354</td>\n",
       "      <td>494</td>\n",
       "      <td>656</td>\n",
       "      <td>588</td>\n",
       "    </tr>\n",
       "    <tr>\n",
       "      <th>CA_1_HOBBIES_2</th>\n",
       "      <td>28</td>\n",
       "      <td>9</td>\n",
       "      <td>6</td>\n",
       "      <td>9</td>\n",
       "      <td>5</td>\n",
       "      <td>14</td>\n",
       "      <td>7</td>\n",
       "      <td>19</td>\n",
       "      <td>7</td>\n",
       "      <td>9</td>\n",
       "      <td>...</td>\n",
       "      <td>42</td>\n",
       "      <td>74</td>\n",
       "      <td>56</td>\n",
       "      <td>28</td>\n",
       "      <td>46</td>\n",
       "      <td>28</td>\n",
       "      <td>52</td>\n",
       "      <td>45</td>\n",
       "      <td>63</td>\n",
       "      <td>58</td>\n",
       "    </tr>\n",
       "    <tr>\n",
       "      <th>...</th>\n",
       "      <td>...</td>\n",
       "      <td>...</td>\n",
       "      <td>...</td>\n",
       "      <td>...</td>\n",
       "      <td>...</td>\n",
       "      <td>...</td>\n",
       "      <td>...</td>\n",
       "      <td>...</td>\n",
       "      <td>...</td>\n",
       "      <td>...</td>\n",
       "      <td>...</td>\n",
       "      <td>...</td>\n",
       "      <td>...</td>\n",
       "      <td>...</td>\n",
       "      <td>...</td>\n",
       "      <td>...</td>\n",
       "      <td>...</td>\n",
       "      <td>...</td>\n",
       "      <td>...</td>\n",
       "      <td>...</td>\n",
       "      <td>...</td>\n",
       "    </tr>\n",
       "    <tr>\n",
       "      <th>WI_3_FOODS_3</th>\n",
       "      <td>2293</td>\n",
       "      <td>2383</td>\n",
       "      <td>1841</td>\n",
       "      <td>1965</td>\n",
       "      <td>1427</td>\n",
       "      <td>2760</td>\n",
       "      <td>2727</td>\n",
       "      <td>3786</td>\n",
       "      <td>3179</td>\n",
       "      <td>1924</td>\n",
       "      <td>...</td>\n",
       "      <td>2061</td>\n",
       "      <td>2815</td>\n",
       "      <td>3162</td>\n",
       "      <td>1952</td>\n",
       "      <td>1602</td>\n",
       "      <td>1594</td>\n",
       "      <td>1627</td>\n",
       "      <td>2011</td>\n",
       "      <td>2360</td>\n",
       "      <td>2632</td>\n",
       "    </tr>\n",
       "    <tr>\n",
       "      <th>WI_3_HOBBIES_1</th>\n",
       "      <td>256</td>\n",
       "      <td>342</td>\n",
       "      <td>228</td>\n",
       "      <td>183</td>\n",
       "      <td>70</td>\n",
       "      <td>285</td>\n",
       "      <td>357</td>\n",
       "      <td>399</td>\n",
       "      <td>216</td>\n",
       "      <td>222</td>\n",
       "      <td>...</td>\n",
       "      <td>202</td>\n",
       "      <td>345</td>\n",
       "      <td>294</td>\n",
       "      <td>187</td>\n",
       "      <td>174</td>\n",
       "      <td>287</td>\n",
       "      <td>220</td>\n",
       "      <td>242</td>\n",
       "      <td>273</td>\n",
       "      <td>305</td>\n",
       "    </tr>\n",
       "    <tr>\n",
       "      <th>WI_3_HOBBIES_2</th>\n",
       "      <td>22</td>\n",
       "      <td>14</td>\n",
       "      <td>20</td>\n",
       "      <td>11</td>\n",
       "      <td>4</td>\n",
       "      <td>8</td>\n",
       "      <td>3</td>\n",
       "      <td>13</td>\n",
       "      <td>4</td>\n",
       "      <td>21</td>\n",
       "      <td>...</td>\n",
       "      <td>21</td>\n",
       "      <td>37</td>\n",
       "      <td>38</td>\n",
       "      <td>11</td>\n",
       "      <td>45</td>\n",
       "      <td>45</td>\n",
       "      <td>46</td>\n",
       "      <td>27</td>\n",
       "      <td>31</td>\n",
       "      <td>37</td>\n",
       "    </tr>\n",
       "    <tr>\n",
       "      <th>WI_3_HOUSEHOLD_1</th>\n",
       "      <td>584</td>\n",
       "      <td>541</td>\n",
       "      <td>420</td>\n",
       "      <td>327</td>\n",
       "      <td>151</td>\n",
       "      <td>392</td>\n",
       "      <td>492</td>\n",
       "      <td>647</td>\n",
       "      <td>418</td>\n",
       "      <td>354</td>\n",
       "      <td>...</td>\n",
       "      <td>608</td>\n",
       "      <td>937</td>\n",
       "      <td>874</td>\n",
       "      <td>626</td>\n",
       "      <td>597</td>\n",
       "      <td>486</td>\n",
       "      <td>595</td>\n",
       "      <td>764</td>\n",
       "      <td>723</td>\n",
       "      <td>723</td>\n",
       "    </tr>\n",
       "    <tr>\n",
       "      <th>WI_3_HOUSEHOLD_2</th>\n",
       "      <td>148</td>\n",
       "      <td>195</td>\n",
       "      <td>106</td>\n",
       "      <td>94</td>\n",
       "      <td>53</td>\n",
       "      <td>122</td>\n",
       "      <td>159</td>\n",
       "      <td>186</td>\n",
       "      <td>119</td>\n",
       "      <td>108</td>\n",
       "      <td>...</td>\n",
       "      <td>164</td>\n",
       "      <td>205</td>\n",
       "      <td>194</td>\n",
       "      <td>138</td>\n",
       "      <td>132</td>\n",
       "      <td>133</td>\n",
       "      <td>141</td>\n",
       "      <td>230</td>\n",
       "      <td>218</td>\n",
       "      <td>208</td>\n",
       "    </tr>\n",
       "  </tbody>\n",
       "</table>\n",
       "<p>70 rows × 1941 columns</p>\n",
       "</div>"
      ],
      "text/plain": [
       "                  2011-01-29  2011-01-30  2011-01-31  2011-02-01  2011-02-02  \\\n",
       "store_dept                                                                     \n",
       "CA_1_FOODS_1             297         284         214         175         182   \n",
       "CA_1_FOODS_2             674         655         396         476         354   \n",
       "CA_1_FOODS_3            2268        2198        1398        1607        1496   \n",
       "CA_1_HOBBIES_1           528         489         409         383         263   \n",
       "CA_1_HOBBIES_2            28           9           6           9           5   \n",
       "...                      ...         ...         ...         ...         ...   \n",
       "WI_3_FOODS_3            2293        2383        1841        1965        1427   \n",
       "WI_3_HOBBIES_1           256         342         228         183          70   \n",
       "WI_3_HOBBIES_2            22          14          20          11           4   \n",
       "WI_3_HOUSEHOLD_1         584         541         420         327         151   \n",
       "WI_3_HOUSEHOLD_2         148         195         106          94          53   \n",
       "\n",
       "                  2011-02-03  2011-02-04  2011-02-05  2011-02-06  2011-02-07  \\\n",
       "store_dept                                                                     \n",
       "CA_1_FOODS_1             191         224         263         245         176   \n",
       "CA_1_FOODS_2             486         554         747         581         559   \n",
       "CA_1_FOODS_3            1730        1915        2952        2592        1711   \n",
       "CA_1_HOBBIES_1           453         339         750         425         375   \n",
       "CA_1_HOBBIES_2            14           7          19           7           9   \n",
       "...                      ...         ...         ...         ...         ...   \n",
       "WI_3_FOODS_3            2760        2727        3786        3179        1924   \n",
       "WI_3_HOBBIES_1           285         357         399         216         222   \n",
       "WI_3_HOBBIES_2             8           3          13           4          21   \n",
       "WI_3_HOUSEHOLD_1         392         492         647         418         354   \n",
       "WI_3_HOUSEHOLD_2         122         159         186         119         108   \n",
       "\n",
       "                  ...  2016-05-13  2016-05-14  2016-05-15  2016-05-16  \\\n",
       "store_dept        ...                                                   \n",
       "CA_1_FOODS_1      ...         412         435         415         277   \n",
       "CA_1_FOODS_2      ...         545         611         781         555   \n",
       "CA_1_FOODS_3      ...        2408        3000        3521        2366   \n",
       "CA_1_HOBBIES_1    ...         546         732         631         389   \n",
       "CA_1_HOBBIES_2    ...          42          74          56          28   \n",
       "...               ...         ...         ...         ...         ...   \n",
       "WI_3_FOODS_3      ...        2061        2815        3162        1952   \n",
       "WI_3_HOBBIES_1    ...         202         345         294         187   \n",
       "WI_3_HOBBIES_2    ...          21          37          38          11   \n",
       "WI_3_HOUSEHOLD_1  ...         608         937         874         626   \n",
       "WI_3_HOUSEHOLD_2  ...         164         205         194         138   \n",
       "\n",
       "                  2016-05-17  2016-05-18  2016-05-19  2016-05-20  2016-05-21  \\\n",
       "store_dept                                                                     \n",
       "CA_1_FOODS_1             302         397         330         310         427   \n",
       "CA_1_FOODS_2             476         427         411         434         627   \n",
       "CA_1_FOODS_3            2016        1992        2113        2249        2729   \n",
       "CA_1_HOBBIES_1           347         353         354         494         656   \n",
       "CA_1_HOBBIES_2            46          28          52          45          63   \n",
       "...                      ...         ...         ...         ...         ...   \n",
       "WI_3_FOODS_3            1602        1594        1627        2011        2360   \n",
       "WI_3_HOBBIES_1           174         287         220         242         273   \n",
       "WI_3_HOBBIES_2            45          45          46          27          31   \n",
       "WI_3_HOUSEHOLD_1         597         486         595         764         723   \n",
       "WI_3_HOUSEHOLD_2         132         133         141         230         218   \n",
       "\n",
       "                  2016-05-22  \n",
       "store_dept                    \n",
       "CA_1_FOODS_1             334  \n",
       "CA_1_FOODS_2             719  \n",
       "CA_1_FOODS_3            3274  \n",
       "CA_1_HOBBIES_1           588  \n",
       "CA_1_HOBBIES_2            58  \n",
       "...                      ...  \n",
       "WI_3_FOODS_3            2632  \n",
       "WI_3_HOBBIES_1           305  \n",
       "WI_3_HOBBIES_2            37  \n",
       "WI_3_HOUSEHOLD_1         723  \n",
       "WI_3_HOUSEHOLD_2         208  \n",
       "\n",
       "[70 rows x 1941 columns]"
      ]
     },
     "execution_count": 136,
     "metadata": {},
     "output_type": "execute_result"
    }
   ],
   "source": [
    "df_by_store_dept = sales_edit.groupby('store_dept').sum()\n",
    "df_by_store_dept"
   ]
  },
  {
   "cell_type": "code",
   "execution_count": 137,
   "id": "01c61601-ec26-4e3b-a2b4-bdd8cca769da",
   "metadata": {},
   "outputs": [],
   "source": [
    "def split_df(df,name_list):\n",
    "    df_list = []\n",
    "    for name in name_list:\n",
    "        temp = df.loc[name]\n",
    "        df_list.append(temp)\n",
    "    return df_list\n"
   ]
  },
  {
   "cell_type": "code",
   "execution_count": 138,
   "id": "b8866ce3-b632-4b67-8731-0fc077525a09",
   "metadata": {},
   "outputs": [],
   "source": [
    "df_list = split_df(df_by_store_dept, df_by_store_dept.index)"
   ]
  },
  {
   "cell_type": "code",
   "execution_count": 139,
   "id": "3e4d47db-35d3-4303-8bc6-d460c1c3488d",
   "metadata": {},
   "outputs": [
    {
     "data": {
      "text/plain": [
       "2011-01-29    674\n",
       "2011-01-30    655\n",
       "2011-01-31    396\n",
       "2011-02-01    476\n",
       "2011-02-02    354\n",
       "             ... \n",
       "2016-05-18    427\n",
       "2016-05-19    411\n",
       "2016-05-20    434\n",
       "2016-05-21    627\n",
       "2016-05-22    719\n",
       "Name: CA_1_FOODS_2, Length: 1941, dtype: int64"
      ]
     },
     "execution_count": 139,
     "metadata": {},
     "output_type": "execute_result"
    }
   ],
   "source": [
    "df_list[1]"
   ]
  },
  {
   "cell_type": "code",
   "execution_count": 140,
   "id": "31b6fcfb-fa2a-4616-81dc-3657dec51477",
   "metadata": {},
   "outputs": [
    {
     "data": {
      "image/png": "[encoded data removed]",
      "text/plain": [
       "<Figure size 1440x720 with 1 Axes>"
      ]
     },
     "metadata": {
      "needs_background": "light"
     },
     "output_type": "display_data"
    }
   ],
   "source": [
    "def polt_box_sales(df_list):\n",
    "    fig = plt.figure(figsize=(20,10))\n",
    "    plt.boxplot(df_list,labels=df_by_store_dept.index)\n",
    "    plt.title('sales count by Product Department and Store',fontsize=20)\n",
    "    plt.xticks(rotation = 90)\n",
    "    plt.show()\n",
    "    \n",
    "polt_box_sales(df_list)"
   ]
  },
  {
   "cell_type": "code",
   "execution_count": 141,
   "id": "bb4a22a5-1b09-418d-82e7-743a4deac710",
   "metadata": {},
   "outputs": [
    {
     "data": {
      "text/plain": [
       "42466"
      ]
     },
     "execution_count": 141,
     "metadata": {},
     "output_type": "execute_result"
    }
   ],
   "source": [
    "del df_list\n",
    "#del df_by_store_dept\n",
    "gc.collect()"
   ]
  },
  {
   "cell_type": "markdown",
   "id": "e3ff5cf9-b777-45b3-b410-622279e44e07",
   "metadata": {
    "tags": []
   },
   "source": [
    "### Food_3 across all of the stores has the higest sales count distribution. Perhaps, This might due to the SNAP program.\n",
    "\n",
    "Let's take a look at the total sales."
   ]
  },
  {
   "cell_type": "code",
   "execution_count": 142,
   "id": "83e3e678-5d1c-4623-ac98-c894eef97b65",
   "metadata": {},
   "outputs": [
    {
     "data": {
      "image/png": "[encoded data removed]",
      "text/plain": [
       "<Figure size 432x288 with 1 Axes>"
      ]
     },
     "metadata": {
      "needs_background": "light"
     },
     "output_type": "display_data"
    }
   ],
   "source": [
    "def plot_ma_sales(df_by_store_dept):\n",
    "    plt.figure()\n",
    "\n",
    "    plt.plot(df_by_store_dept.sum().index, df_by_store_dept.sum().rolling(30).mean())\n",
    "    plt.title('30 days moving average of Total Item Sold')\n",
    "\n",
    "    plt.show()\n",
    "    \n",
    "plot_ma_sales(df_by_store_dept)\n",
    "\n",
    "del df_by_store_dept"
   ]
  },
  {
   "cell_type": "markdown",
   "id": "3df42efc-3e68-444b-9681-c25206f0816b",
   "metadata": {},
   "source": [
    "### On average sales are going in an uptrend."
   ]
  },
  {
   "cell_type": "code",
   "execution_count": 143,
   "id": "c0ce51d0-c60a-4c49-8110-5a93a7fcec78",
   "metadata": {},
   "outputs": [
    {
     "data": {
      "image/png": "[encoded data removed]",
      "text/plain": [
       "<Figure size 432x288 with 1 Axes>"
      ]
     },
     "metadata": {
      "needs_background": "light"
     },
     "output_type": "display_data"
    }
   ],
   "source": [
    "def plot_sell_by_state(sales_edit):\n",
    "    sales_by_state = sales_edit.groupby('state_id').sum()\n",
    "    sales_by_state = sales_by_state.T.sum().sort_values(ascending=False)\n",
    "    \n",
    "    plt.bar(sales_by_state.index,sales_by_state.values)\n",
    "    plt.title('Item Sold by Sates')\n",
    "    plt.show()\n",
    "    \n",
    "plot_sell_by_state(sales_edit)"
   ]
  },
  {
   "cell_type": "markdown",
   "id": "0aee637a-c487-47b6-8f94-3a51b001f2ed",
   "metadata": {},
   "source": [
    "### Sales in california was the biggest."
   ]
  },
  {
   "cell_type": "code",
   "execution_count": 144,
   "id": "40a29690-b29e-4c91-becd-ece47c20e944",
   "metadata": {},
   "outputs": [
    {
     "data": {
      "image/png": "[encoded data removed]",
      "text/plain": [
       "<Figure size 432x288 with 1 Axes>"
      ]
     },
     "metadata": {
      "needs_background": "light"
     },
     "output_type": "display_data"
    }
   ],
   "source": [
    "def plot_sales_by_store(sales_edit):\n",
    "    sales_by_store = sales_edit.groupby('store_id').sum()\n",
    "    sales_by_store = sales_by_store.T.sum()\n",
    "    \n",
    "    plt.bar(sales_by_store.index,sales_by_store.values)\n",
    "    plt.title('Item Sold by Store')\n",
    "    plt.show()\n",
    "    \n",
    "plot_sales_by_store(sales_edit)"
   ]
  },
  {
   "cell_type": "markdown",
   "id": "23188a00-2e78-49c5-a891-e9cea4e0cad9",
   "metadata": {},
   "source": [
    "### Digging deeper CA_3 is the best selling store while CA_4 is the worst. Texas and Wisconsin sales are more uniformed across the State. CA_3 is the top seller for FOOD_3 as well."
   ]
  },
  {
   "cell_type": "code",
   "execution_count": 145,
   "id": "21eefa53-f0ef-402a-99ce-67c907832e59",
   "metadata": {},
   "outputs": [
    {
     "data": {
      "image/png": "[encoded data removed]",
      "text/plain": [
       "<Figure size 432x288 with 1 Axes>"
      ]
     },
     "metadata": {
      "needs_background": "light"
     },
     "output_type": "display_data"
    }
   ],
   "source": [
    "def plot_sales_by_cat(sales_edit):\n",
    "\n",
    "    sales_by_category = sales_edit.groupby('cat_id').sum()\n",
    "    sales_by_category = sales_by_category.T.sum().sort_values(ascending=False)\n",
    "\n",
    "    plt.bar(sales_by_category.index,sales_by_category.values)\n",
    "    plt.title('Item Sold by Category')\n",
    "    plt.show()\n",
    "    \n",
    "plot_sales_by_cat(sales_edit)"
   ]
  },
  {
   "cell_type": "markdown",
   "id": "0c52728c-1f63-4edb-8526-4863591d600d",
   "metadata": {},
   "source": [
    "### Most of the sales are food ralated. This reflect the insight we have from the last boxplot."
   ]
  },
  {
   "cell_type": "code",
   "execution_count": 146,
   "id": "efd298e3-42f4-4faa-bdc9-21fd302537ae",
   "metadata": {},
   "outputs": [
    {
     "data": {
      "image/png": "[encoded data removed]",
      "text/plain": [
       "<Figure size 432x288 with 1 Axes>"
      ]
     },
     "metadata": {
      "needs_background": "light"
     },
     "output_type": "display_data"
    }
   ],
   "source": [
    "def plot_sales_by_dep(sales_edit):\n",
    "\n",
    "    sales_by_dept = sales_edit.groupby('dept_id').sum()\n",
    "    sales_by_dept = sales_by_dept.T.sum().sort_values(ascending=False)\n",
    "\n",
    "    plt.bar(sales_by_dept.index,sales_by_dept.values)\n",
    "    plt.title('Item Sold by Department')\n",
    "    plt.xticks(rotation=70)\n",
    "    plt.show()\n",
    "    \n",
    "plot_sales_by_dep(sales_edit)"
   ]
  },
  {
   "cell_type": "markdown",
   "id": "289c6d92-7de6-4af4-97d1-3fbbe6744e3e",
   "metadata": {},
   "source": [
    "### Dive deeper FOODS_3 is the best selling product followed by HOUSEHOLD_1. This insight coinscide with the boxplot."
   ]
  },
  {
   "cell_type": "markdown",
   "id": "202004ab-0fae-4710-a17c-13fd0d5a69c3",
   "metadata": {},
   "source": [
    "# Summary from the sales_train_evaluation DF\n",
    "\n",
    "* Total item sold has been increasing every year\n",
    "* There are a total of 10 Store. (4 in CA 3 in TX and 3 in WI)\n",
    "* CA is the best selling State while TX and WI aren't that different in term of item sold\n",
    "* CA_3 is the best selling store among all of the 10 stores in term of item sold.\n",
    "* CA_4 is the worst selling store among all of the 10 stores in term of item sold.\n",
    "* There are a total of 3049 product SKU.\n",
    "* FOODS is the best selling product category in term of item sold.\n",
    "* FOODS_3 is the best performer in term of item sold.\n",
    "* HOUSEHOLD_1 is the second best performer in term of item sold."
   ]
  },
  {
   "cell_type": "markdown",
   "id": "b11e514d-78fe-4b8c-9554-279c1d27ae42",
   "metadata": {
    "tags": []
   },
   "source": [
    "# Join DF for further analysis\n",
    "\n",
    "Since the data are scattered across multiple files, let's create one df that contain the whole story.\n",
    "\n",
    "### Here's the joining plan\n",
    "\n",
    "Join calendar and sell_prices with 'wm_yr_wk' and then join to the date."
   ]
  },
  {
   "cell_type": "code",
   "execution_count": 147,
   "id": "9c015478-034f-40c8-9349-728ff73d2d59",
   "metadata": {},
   "outputs": [],
   "source": [
    "def create_total_df(sales_edit_df,calendar_df,sell_price_df): #pass sales_edit\n",
    "    sales_count = sales_edit_df.groupby('id').sum().stack().to_frame()\n",
    "    sales_count.reset_index(inplace=True)\n",
    "    sales_count.columns = ['id','date','#_sold']\n",
    "    sales_count['item_id'] = [i[:-16] for i in sales_count['id']]\n",
    "    sales_count['store_id'] = [i[-15:-11] for i in sales_count['id']]\n",
    "    sales_count['dept_id'] = [i[:-20] for i in sales_count['id']]\n",
    "    sales_count['state'] = [i[-15:-13] for i in sales_count['id']]\n",
    "    sales_count.drop('id',axis=1,inplace=True)\n",
    "        \n",
    "    total_df = calendar_df.merge(sell_price_df,how='left',on='wm_yr_wk')\n",
    "    \n",
    "    total_df = total_df.merge(sales_count,how='left',on=['date','store_id','item_id'])\n",
    "    total_df['value'] = total_df['sell_price']*total_df['#_sold']\n",
    "    \n",
    "    return total_df"
   ]
  },
  {
   "cell_type": "code",
   "execution_count": 148,
   "id": "5c8dab4b-8352-4bba-a2b3-21db6c048ce5",
   "metadata": {},
   "outputs": [],
   "source": [
    "total_df = create_total_df(sales_edit,calendar,sell_prices)"
   ]
  },
  {
   "cell_type": "code",
   "execution_count": 149,
   "id": "25cf96c0-7100-4b8c-97bc-d6c34ed6d040",
   "metadata": {},
   "outputs": [
    {
     "data": {
      "text/html": [
       "<div>\n",
       "<style scoped>\n",
       "    .dataframe tbody tr th:only-of-type {\n",
       "        vertical-align: middle;\n",
       "    }\n",
       "\n",
       "    .dataframe tbody tr th {\n",
       "        vertical-align: top;\n",
       "    }\n",
       "\n",
       "    .dataframe thead th {\n",
       "        text-align: right;\n",
       "    }\n",
       "</style>\n",
       "<table border=\"1\" class=\"dataframe\">\n",
       "  <thead>\n",
       "    <tr style=\"text-align: right;\">\n",
       "      <th></th>\n",
       "      <th>date</th>\n",
       "      <th>wm_yr_wk</th>\n",
       "      <th>wknd</th>\n",
       "      <th>d</th>\n",
       "      <th>event_type_1</th>\n",
       "      <th>event_type_2</th>\n",
       "      <th>snap_CA</th>\n",
       "      <th>snap_TX</th>\n",
       "      <th>snap_WI</th>\n",
       "      <th>store_id</th>\n",
       "      <th>item_id</th>\n",
       "      <th>sell_price</th>\n",
       "      <th>#_sold</th>\n",
       "      <th>dept_id</th>\n",
       "      <th>state</th>\n",
       "      <th>value</th>\n",
       "    </tr>\n",
       "  </thead>\n",
       "  <tbody>\n",
       "    <tr>\n",
       "      <th>47735392</th>\n",
       "      <td>2016-06-19</td>\n",
       "      <td>11621</td>\n",
       "      <td>1</td>\n",
       "      <td>d_1969</td>\n",
       "      <td>Sporting</td>\n",
       "      <td>Cultural</td>\n",
       "      <td>0</td>\n",
       "      <td>0</td>\n",
       "      <td>0</td>\n",
       "      <td>WI_3</td>\n",
       "      <td>FOODS_3_823</td>\n",
       "      <td>2.98</td>\n",
       "      <td>NaN</td>\n",
       "      <td>NaN</td>\n",
       "      <td>NaN</td>\n",
       "      <td>NaN</td>\n",
       "    </tr>\n",
       "    <tr>\n",
       "      <th>47735393</th>\n",
       "      <td>2016-06-19</td>\n",
       "      <td>11621</td>\n",
       "      <td>1</td>\n",
       "      <td>d_1969</td>\n",
       "      <td>Sporting</td>\n",
       "      <td>Cultural</td>\n",
       "      <td>0</td>\n",
       "      <td>0</td>\n",
       "      <td>0</td>\n",
       "      <td>WI_3</td>\n",
       "      <td>FOODS_3_824</td>\n",
       "      <td>2.48</td>\n",
       "      <td>NaN</td>\n",
       "      <td>NaN</td>\n",
       "      <td>NaN</td>\n",
       "      <td>NaN</td>\n",
       "    </tr>\n",
       "    <tr>\n",
       "      <th>47735394</th>\n",
       "      <td>2016-06-19</td>\n",
       "      <td>11621</td>\n",
       "      <td>1</td>\n",
       "      <td>d_1969</td>\n",
       "      <td>Sporting</td>\n",
       "      <td>Cultural</td>\n",
       "      <td>0</td>\n",
       "      <td>0</td>\n",
       "      <td>0</td>\n",
       "      <td>WI_3</td>\n",
       "      <td>FOODS_3_825</td>\n",
       "      <td>3.98</td>\n",
       "      <td>NaN</td>\n",
       "      <td>NaN</td>\n",
       "      <td>NaN</td>\n",
       "      <td>NaN</td>\n",
       "    </tr>\n",
       "    <tr>\n",
       "      <th>47735395</th>\n",
       "      <td>2016-06-19</td>\n",
       "      <td>11621</td>\n",
       "      <td>1</td>\n",
       "      <td>d_1969</td>\n",
       "      <td>Sporting</td>\n",
       "      <td>Cultural</td>\n",
       "      <td>0</td>\n",
       "      <td>0</td>\n",
       "      <td>0</td>\n",
       "      <td>WI_3</td>\n",
       "      <td>FOODS_3_826</td>\n",
       "      <td>1.28</td>\n",
       "      <td>NaN</td>\n",
       "      <td>NaN</td>\n",
       "      <td>NaN</td>\n",
       "      <td>NaN</td>\n",
       "    </tr>\n",
       "    <tr>\n",
       "      <th>47735396</th>\n",
       "      <td>2016-06-19</td>\n",
       "      <td>11621</td>\n",
       "      <td>1</td>\n",
       "      <td>d_1969</td>\n",
       "      <td>Sporting</td>\n",
       "      <td>Cultural</td>\n",
       "      <td>0</td>\n",
       "      <td>0</td>\n",
       "      <td>0</td>\n",
       "      <td>WI_3</td>\n",
       "      <td>FOODS_3_827</td>\n",
       "      <td>1.00</td>\n",
       "      <td>NaN</td>\n",
       "      <td>NaN</td>\n",
       "      <td>NaN</td>\n",
       "      <td>NaN</td>\n",
       "    </tr>\n",
       "  </tbody>\n",
       "</table>\n",
       "</div>"
      ],
      "text/plain": [
       "               date  wm_yr_wk  wknd       d event_type_1 event_type_2  \\\n",
       "47735392 2016-06-19     11621     1  d_1969     Sporting     Cultural   \n",
       "47735393 2016-06-19     11621     1  d_1969     Sporting     Cultural   \n",
       "47735394 2016-06-19     11621     1  d_1969     Sporting     Cultural   \n",
       "47735395 2016-06-19     11621     1  d_1969     Sporting     Cultural   \n",
       "47735396 2016-06-19     11621     1  d_1969     Sporting     Cultural   \n",
       "\n",
       "          snap_CA  snap_TX  snap_WI store_id      item_id  sell_price  #_sold  \\\n",
       "47735392        0        0        0     WI_3  FOODS_3_823        2.98     NaN   \n",
       "47735393        0        0        0     WI_3  FOODS_3_824        2.48     NaN   \n",
       "47735394        0        0        0     WI_3  FOODS_3_825        3.98     NaN   \n",
       "47735395        0        0        0     WI_3  FOODS_3_826        1.28     NaN   \n",
       "47735396        0        0        0     WI_3  FOODS_3_827        1.00     NaN   \n",
       "\n",
       "         dept_id state  value  \n",
       "47735392     NaN   NaN    NaN  \n",
       "47735393     NaN   NaN    NaN  \n",
       "47735394     NaN   NaN    NaN  \n",
       "47735395     NaN   NaN    NaN  \n",
       "47735396     NaN   NaN    NaN  "
      ]
     },
     "execution_count": 149,
     "metadata": {},
     "output_type": "execute_result"
    }
   ],
   "source": [
    "total_df.tail()"
   ]
  },
  {
   "cell_type": "code",
   "execution_count": 150,
   "id": "6a4e5b2a-1e9c-4196-b67f-0c2ff2f52f53",
   "metadata": {},
   "outputs": [
    {
     "data": {
      "text/plain": [
       "13"
      ]
     },
     "execution_count": 150,
     "metadata": {},
     "output_type": "execute_result"
    }
   ],
   "source": [
    "del calendar\n",
    "del sell_prices\n",
    "del sales_edit\n",
    "gc.collect()"
   ]
  },
  {
   "cell_type": "markdown",
   "id": "f6cd3286-a0da-4488-bb9f-cb231f05423d",
   "metadata": {
    "tags": []
   },
   "source": [
    "### At the bottom rows of total_df, some date doesn't have the #_sold value.\n",
    "It's because the date exceed the sales dataset. (sales_data end at 2016-05-22) let's drop them."
   ]
  },
  {
   "cell_type": "code",
   "execution_count": 151,
   "id": "40ffd9a7-83c3-4f0d-94c7-44fe2111cfe3",
   "metadata": {},
   "outputs": [
    {
     "data": {
      "text/html": [
       "<div>\n",
       "<style scoped>\n",
       "    .dataframe tbody tr th:only-of-type {\n",
       "        vertical-align: middle;\n",
       "    }\n",
       "\n",
       "    .dataframe tbody tr th {\n",
       "        vertical-align: top;\n",
       "    }\n",
       "\n",
       "    .dataframe thead th {\n",
       "        text-align: right;\n",
       "    }\n",
       "</style>\n",
       "<table border=\"1\" class=\"dataframe\">\n",
       "  <thead>\n",
       "    <tr style=\"text-align: right;\">\n",
       "      <th></th>\n",
       "      <th>date</th>\n",
       "      <th>wm_yr_wk</th>\n",
       "      <th>wknd</th>\n",
       "      <th>d</th>\n",
       "      <th>event_type_1</th>\n",
       "      <th>event_type_2</th>\n",
       "      <th>snap_CA</th>\n",
       "      <th>snap_TX</th>\n",
       "      <th>snap_WI</th>\n",
       "      <th>store_id</th>\n",
       "      <th>item_id</th>\n",
       "      <th>sell_price</th>\n",
       "      <th>#_sold</th>\n",
       "      <th>dept_id</th>\n",
       "      <th>state</th>\n",
       "      <th>value</th>\n",
       "    </tr>\n",
       "  </thead>\n",
       "  <tbody>\n",
       "    <tr>\n",
       "      <th>46881677</th>\n",
       "      <td>2016-05-23</td>\n",
       "      <td>11617</td>\n",
       "      <td>0</td>\n",
       "      <td>d_1942</td>\n",
       "      <td>NaN</td>\n",
       "      <td>NaN</td>\n",
       "      <td>0</td>\n",
       "      <td>0</td>\n",
       "      <td>0</td>\n",
       "      <td>CA_1</td>\n",
       "      <td>HOBBIES_1_001</td>\n",
       "      <td>8.38</td>\n",
       "      <td>NaN</td>\n",
       "      <td>NaN</td>\n",
       "      <td>NaN</td>\n",
       "      <td>NaN</td>\n",
       "    </tr>\n",
       "    <tr>\n",
       "      <th>46881678</th>\n",
       "      <td>2016-05-23</td>\n",
       "      <td>11617</td>\n",
       "      <td>0</td>\n",
       "      <td>d_1942</td>\n",
       "      <td>NaN</td>\n",
       "      <td>NaN</td>\n",
       "      <td>0</td>\n",
       "      <td>0</td>\n",
       "      <td>0</td>\n",
       "      <td>CA_1</td>\n",
       "      <td>HOBBIES_1_002</td>\n",
       "      <td>3.97</td>\n",
       "      <td>NaN</td>\n",
       "      <td>NaN</td>\n",
       "      <td>NaN</td>\n",
       "      <td>NaN</td>\n",
       "    </tr>\n",
       "    <tr>\n",
       "      <th>46881679</th>\n",
       "      <td>2016-05-23</td>\n",
       "      <td>11617</td>\n",
       "      <td>0</td>\n",
       "      <td>d_1942</td>\n",
       "      <td>NaN</td>\n",
       "      <td>NaN</td>\n",
       "      <td>0</td>\n",
       "      <td>0</td>\n",
       "      <td>0</td>\n",
       "      <td>CA_1</td>\n",
       "      <td>HOBBIES_1_003</td>\n",
       "      <td>2.97</td>\n",
       "      <td>NaN</td>\n",
       "      <td>NaN</td>\n",
       "      <td>NaN</td>\n",
       "      <td>NaN</td>\n",
       "    </tr>\n",
       "    <tr>\n",
       "      <th>46881680</th>\n",
       "      <td>2016-05-23</td>\n",
       "      <td>11617</td>\n",
       "      <td>0</td>\n",
       "      <td>d_1942</td>\n",
       "      <td>NaN</td>\n",
       "      <td>NaN</td>\n",
       "      <td>0</td>\n",
       "      <td>0</td>\n",
       "      <td>0</td>\n",
       "      <td>CA_1</td>\n",
       "      <td>HOBBIES_1_004</td>\n",
       "      <td>4.64</td>\n",
       "      <td>NaN</td>\n",
       "      <td>NaN</td>\n",
       "      <td>NaN</td>\n",
       "      <td>NaN</td>\n",
       "    </tr>\n",
       "    <tr>\n",
       "      <th>46881681</th>\n",
       "      <td>2016-05-23</td>\n",
       "      <td>11617</td>\n",
       "      <td>0</td>\n",
       "      <td>d_1942</td>\n",
       "      <td>NaN</td>\n",
       "      <td>NaN</td>\n",
       "      <td>0</td>\n",
       "      <td>0</td>\n",
       "      <td>0</td>\n",
       "      <td>CA_1</td>\n",
       "      <td>HOBBIES_1_005</td>\n",
       "      <td>2.88</td>\n",
       "      <td>NaN</td>\n",
       "      <td>NaN</td>\n",
       "      <td>NaN</td>\n",
       "      <td>NaN</td>\n",
       "    </tr>\n",
       "    <tr>\n",
       "      <th>...</th>\n",
       "      <td>...</td>\n",
       "      <td>...</td>\n",
       "      <td>...</td>\n",
       "      <td>...</td>\n",
       "      <td>...</td>\n",
       "      <td>...</td>\n",
       "      <td>...</td>\n",
       "      <td>...</td>\n",
       "      <td>...</td>\n",
       "      <td>...</td>\n",
       "      <td>...</td>\n",
       "      <td>...</td>\n",
       "      <td>...</td>\n",
       "      <td>...</td>\n",
       "      <td>...</td>\n",
       "      <td>...</td>\n",
       "    </tr>\n",
       "    <tr>\n",
       "      <th>47735392</th>\n",
       "      <td>2016-06-19</td>\n",
       "      <td>11621</td>\n",
       "      <td>1</td>\n",
       "      <td>d_1969</td>\n",
       "      <td>Sporting</td>\n",
       "      <td>Cultural</td>\n",
       "      <td>0</td>\n",
       "      <td>0</td>\n",
       "      <td>0</td>\n",
       "      <td>WI_3</td>\n",
       "      <td>FOODS_3_823</td>\n",
       "      <td>2.98</td>\n",
       "      <td>NaN</td>\n",
       "      <td>NaN</td>\n",
       "      <td>NaN</td>\n",
       "      <td>NaN</td>\n",
       "    </tr>\n",
       "    <tr>\n",
       "      <th>47735393</th>\n",
       "      <td>2016-06-19</td>\n",
       "      <td>11621</td>\n",
       "      <td>1</td>\n",
       "      <td>d_1969</td>\n",
       "      <td>Sporting</td>\n",
       "      <td>Cultural</td>\n",
       "      <td>0</td>\n",
       "      <td>0</td>\n",
       "      <td>0</td>\n",
       "      <td>WI_3</td>\n",
       "      <td>FOODS_3_824</td>\n",
       "      <td>2.48</td>\n",
       "      <td>NaN</td>\n",
       "      <td>NaN</td>\n",
       "      <td>NaN</td>\n",
       "      <td>NaN</td>\n",
       "    </tr>\n",
       "    <tr>\n",
       "      <th>47735394</th>\n",
       "      <td>2016-06-19</td>\n",
       "      <td>11621</td>\n",
       "      <td>1</td>\n",
       "      <td>d_1969</td>\n",
       "      <td>Sporting</td>\n",
       "      <td>Cultural</td>\n",
       "      <td>0</td>\n",
       "      <td>0</td>\n",
       "      <td>0</td>\n",
       "      <td>WI_3</td>\n",
       "      <td>FOODS_3_825</td>\n",
       "      <td>3.98</td>\n",
       "      <td>NaN</td>\n",
       "      <td>NaN</td>\n",
       "      <td>NaN</td>\n",
       "      <td>NaN</td>\n",
       "    </tr>\n",
       "    <tr>\n",
       "      <th>47735395</th>\n",
       "      <td>2016-06-19</td>\n",
       "      <td>11621</td>\n",
       "      <td>1</td>\n",
       "      <td>d_1969</td>\n",
       "      <td>Sporting</td>\n",
       "      <td>Cultural</td>\n",
       "      <td>0</td>\n",
       "      <td>0</td>\n",
       "      <td>0</td>\n",
       "      <td>WI_3</td>\n",
       "      <td>FOODS_3_826</td>\n",
       "      <td>1.28</td>\n",
       "      <td>NaN</td>\n",
       "      <td>NaN</td>\n",
       "      <td>NaN</td>\n",
       "      <td>NaN</td>\n",
       "    </tr>\n",
       "    <tr>\n",
       "      <th>47735396</th>\n",
       "      <td>2016-06-19</td>\n",
       "      <td>11621</td>\n",
       "      <td>1</td>\n",
       "      <td>d_1969</td>\n",
       "      <td>Sporting</td>\n",
       "      <td>Cultural</td>\n",
       "      <td>0</td>\n",
       "      <td>0</td>\n",
       "      <td>0</td>\n",
       "      <td>WI_3</td>\n",
       "      <td>FOODS_3_827</td>\n",
       "      <td>1.00</td>\n",
       "      <td>NaN</td>\n",
       "      <td>NaN</td>\n",
       "      <td>NaN</td>\n",
       "      <td>NaN</td>\n",
       "    </tr>\n",
       "  </tbody>\n",
       "</table>\n",
       "<p>853720 rows × 16 columns</p>\n",
       "</div>"
      ],
      "text/plain": [
       "               date  wm_yr_wk  wknd       d event_type_1 event_type_2  \\\n",
       "46881677 2016-05-23     11617     0  d_1942          NaN          NaN   \n",
       "46881678 2016-05-23     11617     0  d_1942          NaN          NaN   \n",
       "46881679 2016-05-23     11617     0  d_1942          NaN          NaN   \n",
       "46881680 2016-05-23     11617     0  d_1942          NaN          NaN   \n",
       "46881681 2016-05-23     11617     0  d_1942          NaN          NaN   \n",
       "...             ...       ...   ...     ...          ...          ...   \n",
       "47735392 2016-06-19     11621     1  d_1969     Sporting     Cultural   \n",
       "47735393 2016-06-19     11621     1  d_1969     Sporting     Cultural   \n",
       "47735394 2016-06-19     11621     1  d_1969     Sporting     Cultural   \n",
       "47735395 2016-06-19     11621     1  d_1969     Sporting     Cultural   \n",
       "47735396 2016-06-19     11621     1  d_1969     Sporting     Cultural   \n",
       "\n",
       "          snap_CA  snap_TX  snap_WI store_id        item_id  sell_price  \\\n",
       "46881677        0        0        0     CA_1  HOBBIES_1_001        8.38   \n",
       "46881678        0        0        0     CA_1  HOBBIES_1_002        3.97   \n",
       "46881679        0        0        0     CA_1  HOBBIES_1_003        2.97   \n",
       "46881680        0        0        0     CA_1  HOBBIES_1_004        4.64   \n",
       "46881681        0        0        0     CA_1  HOBBIES_1_005        2.88   \n",
       "...           ...      ...      ...      ...            ...         ...   \n",
       "47735392        0        0        0     WI_3    FOODS_3_823        2.98   \n",
       "47735393        0        0        0     WI_3    FOODS_3_824        2.48   \n",
       "47735394        0        0        0     WI_3    FOODS_3_825        3.98   \n",
       "47735395        0        0        0     WI_3    FOODS_3_826        1.28   \n",
       "47735396        0        0        0     WI_3    FOODS_3_827        1.00   \n",
       "\n",
       "          #_sold dept_id state  value  \n",
       "46881677     NaN     NaN   NaN    NaN  \n",
       "46881678     NaN     NaN   NaN    NaN  \n",
       "46881679     NaN     NaN   NaN    NaN  \n",
       "46881680     NaN     NaN   NaN    NaN  \n",
       "46881681     NaN     NaN   NaN    NaN  \n",
       "...          ...     ...   ...    ...  \n",
       "47735392     NaN     NaN   NaN    NaN  \n",
       "47735393     NaN     NaN   NaN    NaN  \n",
       "47735394     NaN     NaN   NaN    NaN  \n",
       "47735395     NaN     NaN   NaN    NaN  \n",
       "47735396     NaN     NaN   NaN    NaN  \n",
       "\n",
       "[853720 rows x 16 columns]"
      ]
     },
     "execution_count": 151,
     "metadata": {},
     "output_type": "execute_result"
    }
   ],
   "source": [
    "total_df.loc[total_df['#_sold'].isna()]"
   ]
  },
  {
   "cell_type": "code",
   "execution_count": 152,
   "id": "dcc41d38-9f3d-4495-93a8-893667bb2e74",
   "metadata": {},
   "outputs": [
    {
     "data": {
      "text/html": [
       "<div>\n",
       "<style scoped>\n",
       "    .dataframe tbody tr th:only-of-type {\n",
       "        vertical-align: middle;\n",
       "    }\n",
       "\n",
       "    .dataframe tbody tr th {\n",
       "        vertical-align: top;\n",
       "    }\n",
       "\n",
       "    .dataframe thead th {\n",
       "        text-align: right;\n",
       "    }\n",
       "</style>\n",
       "<table border=\"1\" class=\"dataframe\">\n",
       "  <thead>\n",
       "    <tr style=\"text-align: right;\">\n",
       "      <th></th>\n",
       "      <th>date</th>\n",
       "      <th>wm_yr_wk</th>\n",
       "      <th>wknd</th>\n",
       "      <th>d</th>\n",
       "      <th>event_type_1</th>\n",
       "      <th>event_type_2</th>\n",
       "      <th>snap_CA</th>\n",
       "      <th>snap_TX</th>\n",
       "      <th>snap_WI</th>\n",
       "      <th>store_id</th>\n",
       "      <th>item_id</th>\n",
       "      <th>sell_price</th>\n",
       "      <th>#_sold</th>\n",
       "      <th>dept_id</th>\n",
       "      <th>state</th>\n",
       "      <th>value</th>\n",
       "    </tr>\n",
       "  </thead>\n",
       "  <tbody>\n",
       "    <tr>\n",
       "      <th>46881675</th>\n",
       "      <td>2016-05-22</td>\n",
       "      <td>11617</td>\n",
       "      <td>1</td>\n",
       "      <td>d_1941</td>\n",
       "      <td>NaN</td>\n",
       "      <td>NaN</td>\n",
       "      <td>0</td>\n",
       "      <td>0</td>\n",
       "      <td>0</td>\n",
       "      <td>WI_3</td>\n",
       "      <td>FOODS_3_826</td>\n",
       "      <td>1.28</td>\n",
       "      <td>0.0</td>\n",
       "      <td>FOODS_3</td>\n",
       "      <td>WI</td>\n",
       "      <td>0.0</td>\n",
       "    </tr>\n",
       "    <tr>\n",
       "      <th>46881676</th>\n",
       "      <td>2016-05-22</td>\n",
       "      <td>11617</td>\n",
       "      <td>1</td>\n",
       "      <td>d_1941</td>\n",
       "      <td>NaN</td>\n",
       "      <td>NaN</td>\n",
       "      <td>0</td>\n",
       "      <td>0</td>\n",
       "      <td>0</td>\n",
       "      <td>WI_3</td>\n",
       "      <td>FOODS_3_827</td>\n",
       "      <td>1.00</td>\n",
       "      <td>1.0</td>\n",
       "      <td>FOODS_3</td>\n",
       "      <td>WI</td>\n",
       "      <td>1.0</td>\n",
       "    </tr>\n",
       "  </tbody>\n",
       "</table>\n",
       "</div>"
      ],
      "text/plain": [
       "               date  wm_yr_wk  wknd       d event_type_1 event_type_2  \\\n",
       "46881675 2016-05-22     11617     1  d_1941          NaN          NaN   \n",
       "46881676 2016-05-22     11617     1  d_1941          NaN          NaN   \n",
       "\n",
       "          snap_CA  snap_TX  snap_WI store_id      item_id  sell_price  #_sold  \\\n",
       "46881675        0        0        0     WI_3  FOODS_3_826        1.28     0.0   \n",
       "46881676        0        0        0     WI_3  FOODS_3_827        1.00     1.0   \n",
       "\n",
       "          dept_id state  value  \n",
       "46881675  FOODS_3    WI    0.0  \n",
       "46881676  FOODS_3    WI    1.0  "
      ]
     },
     "execution_count": 152,
     "metadata": {},
     "output_type": "execute_result"
    }
   ],
   "source": [
    "total_df = total_df[:46881677]\n",
    "total_df.tail(2)"
   ]
  },
  {
   "cell_type": "code",
   "execution_count": 153,
   "id": "08ccedf2-5882-4722-aa73-e8fdc0274d2e",
   "metadata": {
    "tags": []
   },
   "outputs": [
    {
     "data": {
      "text/plain": [
       "0"
      ]
     },
     "execution_count": 153,
     "metadata": {},
     "output_type": "execute_result"
    }
   ],
   "source": [
    "gc.collect()"
   ]
  },
  {
   "cell_type": "markdown",
   "id": "8ce9d902-35ef-47dd-82ba-a01dd31b483f",
   "metadata": {},
   "source": [
    "### Now the merged DF is done. Let's do the analysis."
   ]
  },
  {
   "cell_type": "markdown",
   "id": "c8861eb9-48d5-408f-ab2c-0b0daffa1203",
   "metadata": {},
   "source": [
    "### First, let's see the sales amount by item_id. Perhaps we could find some product champion."
   ]
  },
  {
   "cell_type": "code",
   "execution_count": 156,
   "id": "2f9664d7-1a00-425c-aa25-e7d34c79a506",
   "metadata": {},
   "outputs": [
    {
     "data": {
      "text/html": [
       "<div>\n",
       "<style scoped>\n",
       "    .dataframe tbody tr th:only-of-type {\n",
       "        vertical-align: middle;\n",
       "    }\n",
       "\n",
       "    .dataframe tbody tr th {\n",
       "        vertical-align: top;\n",
       "    }\n",
       "\n",
       "    .dataframe thead th {\n",
       "        text-align: right;\n",
       "    }\n",
       "</style>\n",
       "<table border=\"1\" class=\"dataframe\">\n",
       "  <thead>\n",
       "    <tr style=\"text-align: right;\">\n",
       "      <th></th>\n",
       "      <th>value</th>\n",
       "      <th>%_of_total</th>\n",
       "    </tr>\n",
       "    <tr>\n",
       "      <th>item_id</th>\n",
       "      <th></th>\n",
       "      <th></th>\n",
       "    </tr>\n",
       "  </thead>\n",
       "  <tbody>\n",
       "    <tr>\n",
       "      <th>FOODS_3_586</th>\n",
       "      <td>1482295.48</td>\n",
       "      <td>0.773731</td>\n",
       "    </tr>\n",
       "    <tr>\n",
       "      <th>FOODS_3_120</th>\n",
       "      <td>1444850.10</td>\n",
       "      <td>0.754186</td>\n",
       "    </tr>\n",
       "    <tr>\n",
       "      <th>FOODS_3_090</th>\n",
       "      <td>1377664.04</td>\n",
       "      <td>0.719116</td>\n",
       "    </tr>\n",
       "    <tr>\n",
       "      <th>FOODS_3_202</th>\n",
       "      <td>1272487.14</td>\n",
       "      <td>0.664215</td>\n",
       "    </tr>\n",
       "    <tr>\n",
       "      <th>FOODS_3_587</th>\n",
       "      <td>991308.02</td>\n",
       "      <td>0.517445</td>\n",
       "    </tr>\n",
       "    <tr>\n",
       "      <th>...</th>\n",
       "      <td>...</td>\n",
       "      <td>...</td>\n",
       "    </tr>\n",
       "    <tr>\n",
       "      <th>HOBBIES_2_023</th>\n",
       "      <td>819.65</td>\n",
       "      <td>0.000428</td>\n",
       "    </tr>\n",
       "    <tr>\n",
       "      <th>HOBBIES_2_065</th>\n",
       "      <td>671.00</td>\n",
       "      <td>0.000350</td>\n",
       "    </tr>\n",
       "    <tr>\n",
       "      <th>HOBBIES_2_047</th>\n",
       "      <td>550.96</td>\n",
       "      <td>0.000288</td>\n",
       "    </tr>\n",
       "    <tr>\n",
       "      <th>HOBBIES_2_025</th>\n",
       "      <td>463.50</td>\n",
       "      <td>0.000242</td>\n",
       "    </tr>\n",
       "    <tr>\n",
       "      <th>HOBBIES_2_026</th>\n",
       "      <td>457.93</td>\n",
       "      <td>0.000239</td>\n",
       "    </tr>\n",
       "  </tbody>\n",
       "</table>\n",
       "<p>3049 rows × 2 columns</p>\n",
       "</div>"
      ],
      "text/plain": [
       "                    value  %_of_total\n",
       "item_id                              \n",
       "FOODS_3_586    1482295.48    0.773731\n",
       "FOODS_3_120    1444850.10    0.754186\n",
       "FOODS_3_090    1377664.04    0.719116\n",
       "FOODS_3_202    1272487.14    0.664215\n",
       "FOODS_3_587     991308.02    0.517445\n",
       "...                   ...         ...\n",
       "HOBBIES_2_023      819.65    0.000428\n",
       "HOBBIES_2_065      671.00    0.000350\n",
       "HOBBIES_2_047      550.96    0.000288\n",
       "HOBBIES_2_025      463.50    0.000242\n",
       "HOBBIES_2_026      457.93    0.000239\n",
       "\n",
       "[3049 rows x 2 columns]"
      ]
     },
     "execution_count": 156,
     "metadata": {},
     "output_type": "execute_result"
    }
   ],
   "source": [
    "def top_10_prod(total_df):\n",
    "\n",
    "    total_amount = total_df['value'].sum()\n",
    "    \n",
    "    amount_by_product = total_df[['item_id','value']].groupby('item_id').sum()\n",
    "    amount_by_product['%_of_total'] = (amount_by_product['value']*100)/total_amount\n",
    "    amount_by_product.sort_values(by='%_of_total',ascending=False).head(10)\n",
    "    \n",
    "    return amount_by_product.sort_values('%_of_total',ascending=False)\n",
    "\n",
    "top_10_prod(total_df)"
   ]
  },
  {
   "cell_type": "markdown",
   "id": "75182fb0-8e56-4dfb-9462-542e6b07f101",
   "metadata": {},
   "source": [
    "### The top 10 product seems to not having a very big share. I was expecting to see someting above 1.5%\n",
    "\n",
    "* Noted that 8 out of 10 are FOOD_3\n",
    "* Noted that overall product chanption is FOODS_3_586"
   ]
  },
  {
   "cell_type": "markdown",
   "id": "bf4289b8-e8f6-45ea-a90c-ad86a604f231",
   "metadata": {
    "tags": []
   },
   "source": [
    "### Let's see the effect of Weekends and Holidays"
   ]
  },
  {
   "cell_type": "code",
   "execution_count": 157,
   "id": "4d147d84-7838-4eb0-9a87-f7a1ce712ad4",
   "metadata": {
    "tags": []
   },
   "outputs": [],
   "source": [
    "def wknd_effect(total_df):\n",
    "\n",
    "    temp = total_df.loc[total_df['wknd']==1]\n",
    "    temp2 = total_df.loc[total_df['wknd']==0]\n",
    "\n",
    "    mean_wknd_sales_amt = temp[['date','value']].groupby('date').sum().mean()\n",
    "    mean_weekday_sales_amt = temp2[['date','value']].groupby('date').sum().mean()\n",
    "    \n",
    "    print('mean_wknd_sales_amt = {}'.format(mean_wknd_sales_amt))\n",
    "    print('mean_weekday_sales_amt = {}'.format(mean_weekday_sales_amt))\n",
    "\n",
    "    print('\\n')\n",
    "\n",
    "    print('on average, weekend sales exceed one of the week day by {} percent'.format((mean_wknd_sales_amt-mean_weekday_sales_amt)*100/mean_weekday_sales_amt))"
   ]
  },
  {
   "cell_type": "code",
   "execution_count": 158,
   "id": "e5cf4482-285b-4cf6-9826-3b8a1eed5929",
   "metadata": {},
   "outputs": [
    {
     "name": "stdout",
     "output_type": "stream",
     "text": [
      "mean_wknd_sales_amt = value    119506.37723\n",
      "dtype: float64\n",
      "mean_weekday_sales_amt = value    90348.014657\n",
      "dtype: float64\n",
      "\n",
      "\n",
      "on average, weekend sales exceed one of the week day by value    32.273385\n",
      "dtype: float64 percent\n"
     ]
    }
   ],
   "source": [
    "wknd_effect(total_df)"
   ]
  },
  {
   "cell_type": "markdown",
   "id": "0659627c-347c-4863-868a-68330cb15bc5",
   "metadata": {},
   "source": [
    "### I didn't expect the weekend sales to exceed the weekday by this much though.\n",
    "\n",
    "### What about the Holiday?"
   ]
  },
  {
   "cell_type": "code",
   "execution_count": 160,
   "id": "e0b4226d-1712-4240-b1bc-162c7193ff34",
   "metadata": {},
   "outputs": [
    {
     "name": "stdout",
     "output_type": "stream",
     "text": [
      "mean_holiday_sales_amt = value    99041.426315\n",
      "dtype: float64\n",
      "mean_non-holiday_sales_amt = value    94852.423544\n",
      "dtype: float64\n",
      "\n",
      "\n",
      "on average, holiday sales exceed one of the non-holiday by value    4.416337\n",
      "dtype: float64 percent\n"
     ]
    }
   ],
   "source": [
    "def hldy_effect(total_df):\n",
    "\n",
    "    temp = total_df.loc[total_df['event_type_1'].isna()]\n",
    "    temp2 = total_df.loc[~total_df['event_type_1'].isna()]\n",
    "\n",
    "    mean_holiday_sales_amt = temp[['date','value']].groupby('date').sum().mean()\n",
    "    mean_non_holiday_sales_amt = temp2[['date','value']].groupby('date').sum().mean()\n",
    "    \n",
    "    print('mean_holiday_sales_amt = {}'.format(mean_holiday_sales_amt))\n",
    "    print('mean_non-holiday_sales_amt = {}'.format(mean_non_holiday_sales_amt))\n",
    "\n",
    "    print('\\n')\n",
    "\n",
    "    print('on average, holiday sales exceed one of the non-holiday by {} percent'.format((mean_holiday_sales_amt-mean_non_holiday_sales_amt)*100/mean_non_holiday_sales_amt))\n",
    "    \n",
    "hldy_effect(total_df)"
   ]
  },
  {
   "cell_type": "markdown",
   "id": "43fc1991-e2bb-43d7-be98-34dff497b759",
   "metadata": {},
   "source": [
    "### I neither expect the difference to be this small either.\n",
    "\n",
    "My assumption is that whenever it is holiday, most people want to go relax or travel instead of going to grocery store"
   ]
  },
  {
   "cell_type": "markdown",
   "id": "d6b5a37d-102f-479c-a7b6-6b4d22599aee",
   "metadata": {},
   "source": [
    " ### What about Dollar Value?\n",
    " \n",
    " Earlier, the data shown that, in term of product sold, CA and CA_3 are the best performer. Now we also have the price data, let's see if that change anything."
   ]
  },
  {
   "cell_type": "code",
   "execution_count": null,
   "id": "800d42aa-dbb9-48d7-b136-2cc5d3726bd7",
   "metadata": {},
   "outputs": [],
   "source": [
    "#total_df.tail()"
   ]
  },
  {
   "cell_type": "code",
   "execution_count": null,
   "id": "7b2b6ba4-9550-40ca-b80f-cf9593036fa9",
   "metadata": {},
   "outputs": [],
   "source": [
    "# total_by_store_dept = total_df[['store_id','dept_id','value']].groupby(by=['store_id','dept_id']).sum().to_numpy()\n",
    "# total_by_store = total_df[['store_id','value']].groupby(by=['store_id']).sum().to_numpy()\n",
    "# total_by_state = total_df[['state','value']].groupby(by=['state']).sum().to_numpy()"
   ]
  },
  {
   "cell_type": "code",
   "execution_count": 161,
   "id": "f5919eff-fbc7-43ae-ae40-d2002b4f53e2",
   "metadata": {},
   "outputs": [],
   "source": [
    "# current working cell"
   ]
  },
  {
   "cell_type": "code",
   "execution_count": null,
   "id": "cb45ebd0-56ca-41ac-aa2c-3d10ef0a1b07",
   "metadata": {},
   "outputs": [],
   "source": []
  }
 ],
 "metadata": {
  "kernelspec": {
   "display_name": "Python 3 (ipykernel)",
   "language": "python",
   "name": "python3"
  },
  "language_info": {
   "codemirror_mode": {
    "name": "ipython",
    "version": 3
   },
   "file_extension": ".py",
   "mimetype": "text/x-python",
   "name": "python",
   "nbconvert_exporter": "python",
   "pygments_lexer": "ipython3",
   "version": "3.9.12"
  }
 },
 "nbformat": 4,
 "nbformat_minor": 5
}
