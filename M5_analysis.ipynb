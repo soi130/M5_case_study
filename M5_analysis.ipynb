{
 "cells": [
  {
   "cell_type": "markdown",
   "id": "d2cf6aa5-6d5e-40b9-b7d2-6f4ca611369c",
   "metadata": {},
   "source": [
    "# Read the data"
   ]
  },
  {
   "cell_type": "code",
   "execution_count": 1,
   "id": "6277ad53-1b26-4cdd-8aa1-b462cae80f86",
   "metadata": {},
   "outputs": [],
   "source": [
    "import pandas as pd\n",
    "import numpy as np\n",
    "import matplotlib.pyplot as plt"
   ]
  },
  {
   "cell_type": "code",
   "execution_count": 2,
   "id": "00f5d6c2-2dd4-4c8a-ac95-5de4f476e105",
   "metadata": {},
   "outputs": [],
   "source": [
    "calendar = pd.read_csv('calendar.csv',parse_dates=['date'],infer_datetime_format=True)\n",
    "sales_train_evaluation = pd.read_csv('sales_train_evaluation.csv')\n",
    "sell_prices = pd.read_csv('sell_prices.csv')"
   ]
  },
  {
   "cell_type": "code",
   "execution_count": 3,
   "id": "61fa9952-92c7-4625-bdb5-f8a6df728a84",
   "metadata": {},
   "outputs": [
    {
     "data": {
      "text/html": [
       "<div>\n",
       "<style scoped>\n",
       "    .dataframe tbody tr th:only-of-type {\n",
       "        vertical-align: middle;\n",
       "    }\n",
       "\n",
       "    .dataframe tbody tr th {\n",
       "        vertical-align: top;\n",
       "    }\n",
       "\n",
       "    .dataframe thead th {\n",
       "        text-align: right;\n",
       "    }\n",
       "</style>\n",
       "<table border=\"1\" class=\"dataframe\">\n",
       "  <thead>\n",
       "    <tr style=\"text-align: right;\">\n",
       "      <th></th>\n",
       "      <th>date</th>\n",
       "      <th>wm_yr_wk</th>\n",
       "      <th>weekday</th>\n",
       "      <th>wday</th>\n",
       "      <th>month</th>\n",
       "      <th>year</th>\n",
       "      <th>d</th>\n",
       "      <th>event_name_1</th>\n",
       "      <th>event_type_1</th>\n",
       "      <th>event_name_2</th>\n",
       "      <th>event_type_2</th>\n",
       "      <th>snap_CA</th>\n",
       "      <th>snap_TX</th>\n",
       "      <th>snap_WI</th>\n",
       "    </tr>\n",
       "  </thead>\n",
       "  <tbody>\n",
       "    <tr>\n",
       "      <th>0</th>\n",
       "      <td>2011-01-29</td>\n",
       "      <td>11101</td>\n",
       "      <td>Saturday</td>\n",
       "      <td>1</td>\n",
       "      <td>1</td>\n",
       "      <td>2011</td>\n",
       "      <td>d_1</td>\n",
       "      <td>NaN</td>\n",
       "      <td>NaN</td>\n",
       "      <td>NaN</td>\n",
       "      <td>NaN</td>\n",
       "      <td>0</td>\n",
       "      <td>0</td>\n",
       "      <td>0</td>\n",
       "    </tr>\n",
       "    <tr>\n",
       "      <th>1</th>\n",
       "      <td>2011-01-30</td>\n",
       "      <td>11101</td>\n",
       "      <td>Sunday</td>\n",
       "      <td>2</td>\n",
       "      <td>1</td>\n",
       "      <td>2011</td>\n",
       "      <td>d_2</td>\n",
       "      <td>NaN</td>\n",
       "      <td>NaN</td>\n",
       "      <td>NaN</td>\n",
       "      <td>NaN</td>\n",
       "      <td>0</td>\n",
       "      <td>0</td>\n",
       "      <td>0</td>\n",
       "    </tr>\n",
       "  </tbody>\n",
       "</table>\n",
       "</div>"
      ],
      "text/plain": [
       "        date  wm_yr_wk   weekday  wday  month  year    d event_name_1  \\\n",
       "0 2011-01-29     11101  Saturday     1      1  2011  d_1          NaN   \n",
       "1 2011-01-30     11101    Sunday     2      1  2011  d_2          NaN   \n",
       "\n",
       "  event_type_1 event_name_2 event_type_2  snap_CA  snap_TX  snap_WI  \n",
       "0          NaN          NaN          NaN        0        0        0  \n",
       "1          NaN          NaN          NaN        0        0        0  "
      ]
     },
     "metadata": {},
     "output_type": "display_data"
    },
    {
     "data": {
      "text/html": [
       "<div>\n",
       "<style scoped>\n",
       "    .dataframe tbody tr th:only-of-type {\n",
       "        vertical-align: middle;\n",
       "    }\n",
       "\n",
       "    .dataframe tbody tr th {\n",
       "        vertical-align: top;\n",
       "    }\n",
       "\n",
       "    .dataframe thead th {\n",
       "        text-align: right;\n",
       "    }\n",
       "</style>\n",
       "<table border=\"1\" class=\"dataframe\">\n",
       "  <thead>\n",
       "    <tr style=\"text-align: right;\">\n",
       "      <th></th>\n",
       "      <th>date</th>\n",
       "      <th>wm_yr_wk</th>\n",
       "      <th>weekday</th>\n",
       "      <th>wday</th>\n",
       "      <th>month</th>\n",
       "      <th>year</th>\n",
       "      <th>d</th>\n",
       "      <th>event_name_1</th>\n",
       "      <th>event_type_1</th>\n",
       "      <th>event_name_2</th>\n",
       "      <th>event_type_2</th>\n",
       "      <th>snap_CA</th>\n",
       "      <th>snap_TX</th>\n",
       "      <th>snap_WI</th>\n",
       "    </tr>\n",
       "  </thead>\n",
       "  <tbody>\n",
       "    <tr>\n",
       "      <th>1967</th>\n",
       "      <td>2016-06-18</td>\n",
       "      <td>11621</td>\n",
       "      <td>Saturday</td>\n",
       "      <td>1</td>\n",
       "      <td>6</td>\n",
       "      <td>2016</td>\n",
       "      <td>d_1968</td>\n",
       "      <td>NaN</td>\n",
       "      <td>NaN</td>\n",
       "      <td>NaN</td>\n",
       "      <td>NaN</td>\n",
       "      <td>0</td>\n",
       "      <td>0</td>\n",
       "      <td>0</td>\n",
       "    </tr>\n",
       "    <tr>\n",
       "      <th>1968</th>\n",
       "      <td>2016-06-19</td>\n",
       "      <td>11621</td>\n",
       "      <td>Sunday</td>\n",
       "      <td>2</td>\n",
       "      <td>6</td>\n",
       "      <td>2016</td>\n",
       "      <td>d_1969</td>\n",
       "      <td>NBAFinalsEnd</td>\n",
       "      <td>Sporting</td>\n",
       "      <td>Father's day</td>\n",
       "      <td>Cultural</td>\n",
       "      <td>0</td>\n",
       "      <td>0</td>\n",
       "      <td>0</td>\n",
       "    </tr>\n",
       "  </tbody>\n",
       "</table>\n",
       "</div>"
      ],
      "text/plain": [
       "           date  wm_yr_wk   weekday  wday  month  year       d  event_name_1  \\\n",
       "1967 2016-06-18     11621  Saturday     1      6  2016  d_1968           NaN   \n",
       "1968 2016-06-19     11621    Sunday     2      6  2016  d_1969  NBAFinalsEnd   \n",
       "\n",
       "     event_type_1  event_name_2 event_type_2  snap_CA  snap_TX  snap_WI  \n",
       "1967          NaN           NaN          NaN        0        0        0  \n",
       "1968     Sporting  Father's day     Cultural        0        0        0  "
      ]
     },
     "metadata": {},
     "output_type": "display_data"
    }
   ],
   "source": [
    "display(calendar.head(2))\n",
    "display(calendar.tail(2))"
   ]
  },
  {
   "cell_type": "code",
   "execution_count": 4,
   "id": "98939b2d-6b14-434e-90c5-a47d829b2649",
   "metadata": {},
   "outputs": [
    {
     "name": "stdout",
     "output_type": "stream",
     "text": [
      "<class 'pandas.core.frame.DataFrame'>\n",
      "RangeIndex: 1969 entries, 0 to 1968\n",
      "Data columns (total 14 columns):\n",
      " #   Column        Non-Null Count  Dtype         \n",
      "---  ------        --------------  -----         \n",
      " 0   date          1969 non-null   datetime64[ns]\n",
      " 1   wm_yr_wk      1969 non-null   int64         \n",
      " 2   weekday       1969 non-null   object        \n",
      " 3   wday          1969 non-null   int64         \n",
      " 4   month         1969 non-null   int64         \n",
      " 5   year          1969 non-null   int64         \n",
      " 6   d             1969 non-null   object        \n",
      " 7   event_name_1  162 non-null    object        \n",
      " 8   event_type_1  162 non-null    object        \n",
      " 9   event_name_2  5 non-null      object        \n",
      " 10  event_type_2  5 non-null      object        \n",
      " 11  snap_CA       1969 non-null   int64         \n",
      " 12  snap_TX       1969 non-null   int64         \n",
      " 13  snap_WI       1969 non-null   int64         \n",
      "dtypes: datetime64[ns](1), int64(7), object(6)\n",
      "memory usage: 215.5+ KB\n"
     ]
    }
   ],
   "source": [
    "calendar.info()"
   ]
  },
  {
   "cell_type": "code",
   "execution_count": 5,
   "id": "ef6122ce-2679-4cc9-8db6-d68f8bc23a97",
   "metadata": {},
   "outputs": [
    {
     "data": {
      "text/html": [
       "<div>\n",
       "<style scoped>\n",
       "    .dataframe tbody tr th:only-of-type {\n",
       "        vertical-align: middle;\n",
       "    }\n",
       "\n",
       "    .dataframe tbody tr th {\n",
       "        vertical-align: top;\n",
       "    }\n",
       "\n",
       "    .dataframe thead th {\n",
       "        text-align: right;\n",
       "    }\n",
       "</style>\n",
       "<table border=\"1\" class=\"dataframe\">\n",
       "  <thead>\n",
       "    <tr style=\"text-align: right;\">\n",
       "      <th></th>\n",
       "      <th>wm_yr_wk</th>\n",
       "      <th>wday</th>\n",
       "      <th>month</th>\n",
       "      <th>year</th>\n",
       "      <th>snap_CA</th>\n",
       "      <th>snap_TX</th>\n",
       "      <th>snap_WI</th>\n",
       "    </tr>\n",
       "  </thead>\n",
       "  <tbody>\n",
       "    <tr>\n",
       "      <th>count</th>\n",
       "      <td>1969.000000</td>\n",
       "      <td>1969.000000</td>\n",
       "      <td>1969.000000</td>\n",
       "      <td>1969.000000</td>\n",
       "      <td>1969.000000</td>\n",
       "      <td>1969.000000</td>\n",
       "      <td>1969.000000</td>\n",
       "    </tr>\n",
       "    <tr>\n",
       "      <th>mean</th>\n",
       "      <td>11347.086338</td>\n",
       "      <td>3.997461</td>\n",
       "      <td>6.325546</td>\n",
       "      <td>2013.288471</td>\n",
       "      <td>0.330117</td>\n",
       "      <td>0.330117</td>\n",
       "      <td>0.330117</td>\n",
       "    </tr>\n",
       "    <tr>\n",
       "      <th>std</th>\n",
       "      <td>155.277043</td>\n",
       "      <td>2.001141</td>\n",
       "      <td>3.416864</td>\n",
       "      <td>1.580198</td>\n",
       "      <td>0.470374</td>\n",
       "      <td>0.470374</td>\n",
       "      <td>0.470374</td>\n",
       "    </tr>\n",
       "    <tr>\n",
       "      <th>min</th>\n",
       "      <td>11101.000000</td>\n",
       "      <td>1.000000</td>\n",
       "      <td>1.000000</td>\n",
       "      <td>2011.000000</td>\n",
       "      <td>0.000000</td>\n",
       "      <td>0.000000</td>\n",
       "      <td>0.000000</td>\n",
       "    </tr>\n",
       "    <tr>\n",
       "      <th>25%</th>\n",
       "      <td>11219.000000</td>\n",
       "      <td>2.000000</td>\n",
       "      <td>3.000000</td>\n",
       "      <td>2012.000000</td>\n",
       "      <td>0.000000</td>\n",
       "      <td>0.000000</td>\n",
       "      <td>0.000000</td>\n",
       "    </tr>\n",
       "    <tr>\n",
       "      <th>50%</th>\n",
       "      <td>11337.000000</td>\n",
       "      <td>4.000000</td>\n",
       "      <td>6.000000</td>\n",
       "      <td>2013.000000</td>\n",
       "      <td>0.000000</td>\n",
       "      <td>0.000000</td>\n",
       "      <td>0.000000</td>\n",
       "    </tr>\n",
       "    <tr>\n",
       "      <th>75%</th>\n",
       "      <td>11502.000000</td>\n",
       "      <td>6.000000</td>\n",
       "      <td>9.000000</td>\n",
       "      <td>2015.000000</td>\n",
       "      <td>1.000000</td>\n",
       "      <td>1.000000</td>\n",
       "      <td>1.000000</td>\n",
       "    </tr>\n",
       "    <tr>\n",
       "      <th>max</th>\n",
       "      <td>11621.000000</td>\n",
       "      <td>7.000000</td>\n",
       "      <td>12.000000</td>\n",
       "      <td>2016.000000</td>\n",
       "      <td>1.000000</td>\n",
       "      <td>1.000000</td>\n",
       "      <td>1.000000</td>\n",
       "    </tr>\n",
       "  </tbody>\n",
       "</table>\n",
       "</div>"
      ],
      "text/plain": [
       "           wm_yr_wk         wday        month         year      snap_CA  \\\n",
       "count   1969.000000  1969.000000  1969.000000  1969.000000  1969.000000   \n",
       "mean   11347.086338     3.997461     6.325546  2013.288471     0.330117   \n",
       "std      155.277043     2.001141     3.416864     1.580198     0.470374   \n",
       "min    11101.000000     1.000000     1.000000  2011.000000     0.000000   \n",
       "25%    11219.000000     2.000000     3.000000  2012.000000     0.000000   \n",
       "50%    11337.000000     4.000000     6.000000  2013.000000     0.000000   \n",
       "75%    11502.000000     6.000000     9.000000  2015.000000     1.000000   \n",
       "max    11621.000000     7.000000    12.000000  2016.000000     1.000000   \n",
       "\n",
       "           snap_TX      snap_WI  \n",
       "count  1969.000000  1969.000000  \n",
       "mean      0.330117     0.330117  \n",
       "std       0.470374     0.470374  \n",
       "min       0.000000     0.000000  \n",
       "25%       0.000000     0.000000  \n",
       "50%       0.000000     0.000000  \n",
       "75%       1.000000     1.000000  \n",
       "max       1.000000     1.000000  "
      ]
     },
     "execution_count": 5,
     "metadata": {},
     "output_type": "execute_result"
    }
   ],
   "source": [
    "calendar.describe()"
   ]
  },
  {
   "cell_type": "code",
   "execution_count": 6,
   "id": "f3582c8b-b2e1-44ac-bd9a-7ddda50652c0",
   "metadata": {},
   "outputs": [
    {
     "data": {
      "text/html": [
       "<div>\n",
       "<style scoped>\n",
       "    .dataframe tbody tr th:only-of-type {\n",
       "        vertical-align: middle;\n",
       "    }\n",
       "\n",
       "    .dataframe tbody tr th {\n",
       "        vertical-align: top;\n",
       "    }\n",
       "\n",
       "    .dataframe thead th {\n",
       "        text-align: right;\n",
       "    }\n",
       "</style>\n",
       "<table border=\"1\" class=\"dataframe\">\n",
       "  <thead>\n",
       "    <tr style=\"text-align: right;\">\n",
       "      <th></th>\n",
       "      <th>id</th>\n",
       "      <th>item_id</th>\n",
       "      <th>dept_id</th>\n",
       "      <th>cat_id</th>\n",
       "      <th>store_id</th>\n",
       "      <th>state_id</th>\n",
       "      <th>d_1</th>\n",
       "      <th>d_2</th>\n",
       "      <th>d_3</th>\n",
       "      <th>d_4</th>\n",
       "      <th>...</th>\n",
       "      <th>d_1932</th>\n",
       "      <th>d_1933</th>\n",
       "      <th>d_1934</th>\n",
       "      <th>d_1935</th>\n",
       "      <th>d_1936</th>\n",
       "      <th>d_1937</th>\n",
       "      <th>d_1938</th>\n",
       "      <th>d_1939</th>\n",
       "      <th>d_1940</th>\n",
       "      <th>d_1941</th>\n",
       "    </tr>\n",
       "  </thead>\n",
       "  <tbody>\n",
       "    <tr>\n",
       "      <th>0</th>\n",
       "      <td>HOBBIES_1_001_CA_1_evaluation</td>\n",
       "      <td>HOBBIES_1_001</td>\n",
       "      <td>HOBBIES_1</td>\n",
       "      <td>HOBBIES</td>\n",
       "      <td>CA_1</td>\n",
       "      <td>CA</td>\n",
       "      <td>0</td>\n",
       "      <td>0</td>\n",
       "      <td>0</td>\n",
       "      <td>0</td>\n",
       "      <td>...</td>\n",
       "      <td>2</td>\n",
       "      <td>4</td>\n",
       "      <td>0</td>\n",
       "      <td>0</td>\n",
       "      <td>0</td>\n",
       "      <td>0</td>\n",
       "      <td>3</td>\n",
       "      <td>3</td>\n",
       "      <td>0</td>\n",
       "      <td>1</td>\n",
       "    </tr>\n",
       "    <tr>\n",
       "      <th>1</th>\n",
       "      <td>HOBBIES_1_002_CA_1_evaluation</td>\n",
       "      <td>HOBBIES_1_002</td>\n",
       "      <td>HOBBIES_1</td>\n",
       "      <td>HOBBIES</td>\n",
       "      <td>CA_1</td>\n",
       "      <td>CA</td>\n",
       "      <td>0</td>\n",
       "      <td>0</td>\n",
       "      <td>0</td>\n",
       "      <td>0</td>\n",
       "      <td>...</td>\n",
       "      <td>0</td>\n",
       "      <td>1</td>\n",
       "      <td>2</td>\n",
       "      <td>1</td>\n",
       "      <td>1</td>\n",
       "      <td>0</td>\n",
       "      <td>0</td>\n",
       "      <td>0</td>\n",
       "      <td>0</td>\n",
       "      <td>0</td>\n",
       "    </tr>\n",
       "  </tbody>\n",
       "</table>\n",
       "<p>2 rows × 1947 columns</p>\n",
       "</div>"
      ],
      "text/plain": [
       "                              id        item_id    dept_id   cat_id store_id  \\\n",
       "0  HOBBIES_1_001_CA_1_evaluation  HOBBIES_1_001  HOBBIES_1  HOBBIES     CA_1   \n",
       "1  HOBBIES_1_002_CA_1_evaluation  HOBBIES_1_002  HOBBIES_1  HOBBIES     CA_1   \n",
       "\n",
       "  state_id  d_1  d_2  d_3  d_4  ...  d_1932  d_1933  d_1934  d_1935  d_1936  \\\n",
       "0       CA    0    0    0    0  ...       2       4       0       0       0   \n",
       "1       CA    0    0    0    0  ...       0       1       2       1       1   \n",
       "\n",
       "   d_1937  d_1938  d_1939  d_1940  d_1941  \n",
       "0       0       3       3       0       1  \n",
       "1       0       0       0       0       0  \n",
       "\n",
       "[2 rows x 1947 columns]"
      ]
     },
     "metadata": {},
     "output_type": "display_data"
    },
    {
     "data": {
      "text/html": [
       "<div>\n",
       "<style scoped>\n",
       "    .dataframe tbody tr th:only-of-type {\n",
       "        vertical-align: middle;\n",
       "    }\n",
       "\n",
       "    .dataframe tbody tr th {\n",
       "        vertical-align: top;\n",
       "    }\n",
       "\n",
       "    .dataframe thead th {\n",
       "        text-align: right;\n",
       "    }\n",
       "</style>\n",
       "<table border=\"1\" class=\"dataframe\">\n",
       "  <thead>\n",
       "    <tr style=\"text-align: right;\">\n",
       "      <th></th>\n",
       "      <th>id</th>\n",
       "      <th>item_id</th>\n",
       "      <th>dept_id</th>\n",
       "      <th>cat_id</th>\n",
       "      <th>store_id</th>\n",
       "      <th>state_id</th>\n",
       "      <th>d_1</th>\n",
       "      <th>d_2</th>\n",
       "      <th>d_3</th>\n",
       "      <th>d_4</th>\n",
       "      <th>...</th>\n",
       "      <th>d_1932</th>\n",
       "      <th>d_1933</th>\n",
       "      <th>d_1934</th>\n",
       "      <th>d_1935</th>\n",
       "      <th>d_1936</th>\n",
       "      <th>d_1937</th>\n",
       "      <th>d_1938</th>\n",
       "      <th>d_1939</th>\n",
       "      <th>d_1940</th>\n",
       "      <th>d_1941</th>\n",
       "    </tr>\n",
       "  </thead>\n",
       "  <tbody>\n",
       "    <tr>\n",
       "      <th>30488</th>\n",
       "      <td>FOODS_3_826_WI_3_evaluation</td>\n",
       "      <td>FOODS_3_826</td>\n",
       "      <td>FOODS_3</td>\n",
       "      <td>FOODS</td>\n",
       "      <td>WI_3</td>\n",
       "      <td>WI</td>\n",
       "      <td>0</td>\n",
       "      <td>0</td>\n",
       "      <td>0</td>\n",
       "      <td>0</td>\n",
       "      <td>...</td>\n",
       "      <td>1</td>\n",
       "      <td>1</td>\n",
       "      <td>1</td>\n",
       "      <td>4</td>\n",
       "      <td>6</td>\n",
       "      <td>0</td>\n",
       "      <td>1</td>\n",
       "      <td>1</td>\n",
       "      <td>1</td>\n",
       "      <td>0</td>\n",
       "    </tr>\n",
       "    <tr>\n",
       "      <th>30489</th>\n",
       "      <td>FOODS_3_827_WI_3_evaluation</td>\n",
       "      <td>FOODS_3_827</td>\n",
       "      <td>FOODS_3</td>\n",
       "      <td>FOODS</td>\n",
       "      <td>WI_3</td>\n",
       "      <td>WI</td>\n",
       "      <td>0</td>\n",
       "      <td>0</td>\n",
       "      <td>0</td>\n",
       "      <td>0</td>\n",
       "      <td>...</td>\n",
       "      <td>1</td>\n",
       "      <td>2</td>\n",
       "      <td>0</td>\n",
       "      <td>5</td>\n",
       "      <td>4</td>\n",
       "      <td>0</td>\n",
       "      <td>2</td>\n",
       "      <td>2</td>\n",
       "      <td>5</td>\n",
       "      <td>1</td>\n",
       "    </tr>\n",
       "  </tbody>\n",
       "</table>\n",
       "<p>2 rows × 1947 columns</p>\n",
       "</div>"
      ],
      "text/plain": [
       "                                id      item_id  dept_id cat_id store_id  \\\n",
       "30488  FOODS_3_826_WI_3_evaluation  FOODS_3_826  FOODS_3  FOODS     WI_3   \n",
       "30489  FOODS_3_827_WI_3_evaluation  FOODS_3_827  FOODS_3  FOODS     WI_3   \n",
       "\n",
       "      state_id  d_1  d_2  d_3  d_4  ...  d_1932  d_1933  d_1934  d_1935  \\\n",
       "30488       WI    0    0    0    0  ...       1       1       1       4   \n",
       "30489       WI    0    0    0    0  ...       1       2       0       5   \n",
       "\n",
       "       d_1936  d_1937  d_1938  d_1939  d_1940  d_1941  \n",
       "30488       6       0       1       1       1       0  \n",
       "30489       4       0       2       2       5       1  \n",
       "\n",
       "[2 rows x 1947 columns]"
      ]
     },
     "metadata": {},
     "output_type": "display_data"
    }
   ],
   "source": [
    "display(sales_train_evaluation.head(2))\n",
    "display(sales_train_evaluation.tail(2))"
   ]
  },
  {
   "cell_type": "code",
   "execution_count": 7,
   "id": "7838add1-3b63-476b-bbee-a9181f9617b3",
   "metadata": {},
   "outputs": [
    {
     "name": "stdout",
     "output_type": "stream",
     "text": [
      "<class 'pandas.core.frame.DataFrame'>\n",
      "RangeIndex: 30490 entries, 0 to 30489\n",
      "Data columns (total 10 columns):\n",
      " #   Column    Non-Null Count  Dtype \n",
      "---  ------    --------------  ----- \n",
      " 0   id        30490 non-null  object\n",
      " 1   item_id   30490 non-null  object\n",
      " 2   dept_id   30490 non-null  object\n",
      " 3   cat_id    30490 non-null  object\n",
      " 4   store_id  30490 non-null  object\n",
      " 5   state_id  30490 non-null  object\n",
      " 6   d_1       30490 non-null  int64 \n",
      " 7   d_2       30490 non-null  int64 \n",
      " 8   d_3       30490 non-null  int64 \n",
      " 9   d_4       30490 non-null  int64 \n",
      "dtypes: int64(4), object(6)\n",
      "memory usage: 2.3+ MB\n"
     ]
    }
   ],
   "source": [
    "sales_train_evaluation.iloc[:,:10].info()"
   ]
  },
  {
   "cell_type": "code",
   "execution_count": 8,
   "id": "aa2fc40a-92e3-443b-8a4c-c706a23e92e3",
   "metadata": {},
   "outputs": [
    {
     "data": {
      "text/html": [
       "<div>\n",
       "<style scoped>\n",
       "    .dataframe tbody tr th:only-of-type {\n",
       "        vertical-align: middle;\n",
       "    }\n",
       "\n",
       "    .dataframe tbody tr th {\n",
       "        vertical-align: top;\n",
       "    }\n",
       "\n",
       "    .dataframe thead th {\n",
       "        text-align: right;\n",
       "    }\n",
       "</style>\n",
       "<table border=\"1\" class=\"dataframe\">\n",
       "  <thead>\n",
       "    <tr style=\"text-align: right;\">\n",
       "      <th></th>\n",
       "      <th>store_id</th>\n",
       "      <th>item_id</th>\n",
       "      <th>wm_yr_wk</th>\n",
       "      <th>sell_price</th>\n",
       "    </tr>\n",
       "  </thead>\n",
       "  <tbody>\n",
       "    <tr>\n",
       "      <th>0</th>\n",
       "      <td>CA_1</td>\n",
       "      <td>HOBBIES_1_001</td>\n",
       "      <td>11325</td>\n",
       "      <td>9.58</td>\n",
       "    </tr>\n",
       "    <tr>\n",
       "      <th>1</th>\n",
       "      <td>CA_1</td>\n",
       "      <td>HOBBIES_1_001</td>\n",
       "      <td>11326</td>\n",
       "      <td>9.58</td>\n",
       "    </tr>\n",
       "  </tbody>\n",
       "</table>\n",
       "</div>"
      ],
      "text/plain": [
       "  store_id        item_id  wm_yr_wk  sell_price\n",
       "0     CA_1  HOBBIES_1_001     11325        9.58\n",
       "1     CA_1  HOBBIES_1_001     11326        9.58"
      ]
     },
     "metadata": {},
     "output_type": "display_data"
    },
    {
     "data": {
      "text/html": [
       "<div>\n",
       "<style scoped>\n",
       "    .dataframe tbody tr th:only-of-type {\n",
       "        vertical-align: middle;\n",
       "    }\n",
       "\n",
       "    .dataframe tbody tr th {\n",
       "        vertical-align: top;\n",
       "    }\n",
       "\n",
       "    .dataframe thead th {\n",
       "        text-align: right;\n",
       "    }\n",
       "</style>\n",
       "<table border=\"1\" class=\"dataframe\">\n",
       "  <thead>\n",
       "    <tr style=\"text-align: right;\">\n",
       "      <th></th>\n",
       "      <th>store_id</th>\n",
       "      <th>item_id</th>\n",
       "      <th>wm_yr_wk</th>\n",
       "      <th>sell_price</th>\n",
       "    </tr>\n",
       "  </thead>\n",
       "  <tbody>\n",
       "    <tr>\n",
       "      <th>6841119</th>\n",
       "      <td>WI_3</td>\n",
       "      <td>FOODS_3_827</td>\n",
       "      <td>11620</td>\n",
       "      <td>1.0</td>\n",
       "    </tr>\n",
       "    <tr>\n",
       "      <th>6841120</th>\n",
       "      <td>WI_3</td>\n",
       "      <td>FOODS_3_827</td>\n",
       "      <td>11621</td>\n",
       "      <td>1.0</td>\n",
       "    </tr>\n",
       "  </tbody>\n",
       "</table>\n",
       "</div>"
      ],
      "text/plain": [
       "        store_id      item_id  wm_yr_wk  sell_price\n",
       "6841119     WI_3  FOODS_3_827     11620         1.0\n",
       "6841120     WI_3  FOODS_3_827     11621         1.0"
      ]
     },
     "metadata": {},
     "output_type": "display_data"
    }
   ],
   "source": [
    "display(sell_prices.head(2))\n",
    "display(sell_prices.tail(2))"
   ]
  },
  {
   "cell_type": "code",
   "execution_count": 9,
   "id": "0f37a930-c79c-4b5f-a2bd-f7d096c863c4",
   "metadata": {},
   "outputs": [
    {
     "name": "stdout",
     "output_type": "stream",
     "text": [
      "<class 'pandas.core.frame.DataFrame'>\n",
      "RangeIndex: 6841121 entries, 0 to 6841120\n",
      "Data columns (total 4 columns):\n",
      " #   Column      Dtype  \n",
      "---  ------      -----  \n",
      " 0   store_id    object \n",
      " 1   item_id     object \n",
      " 2   wm_yr_wk    int64  \n",
      " 3   sell_price  float64\n",
      "dtypes: float64(1), int64(1), object(2)\n",
      "memory usage: 208.8+ MB\n"
     ]
    }
   ],
   "source": [
    "sell_prices.iloc[:,:10].info()"
   ]
  },
  {
   "cell_type": "markdown",
   "id": "90709c0f-5c83-4291-9573-f5ece52fa429",
   "metadata": {
    "tags": []
   },
   "source": [
    "# Let's check the data integrity\n",
    "\n",
    "### calendar DF"
   ]
  },
  {
   "cell_type": "code",
   "execution_count": 10,
   "id": "f209ef5c-af20-4948-be68-4064d1eac2f6",
   "metadata": {},
   "outputs": [
    {
     "data": {
      "text/plain": [
       "date               0\n",
       "wm_yr_wk           0\n",
       "weekday            0\n",
       "wday               0\n",
       "month              0\n",
       "year               0\n",
       "d                  0\n",
       "event_name_1    1807\n",
       "event_type_1    1807\n",
       "event_name_2    1964\n",
       "event_type_2    1964\n",
       "snap_CA            0\n",
       "snap_TX            0\n",
       "snap_WI            0\n",
       "dtype: int64"
      ]
     },
     "execution_count": 10,
     "metadata": {},
     "output_type": "execute_result"
    }
   ],
   "source": [
    "calendar.isna().sum() # only the days with no event have null data"
   ]
  },
  {
   "cell_type": "code",
   "execution_count": 11,
   "id": "130b3290-e079-47e4-8897-f87443cd4d83",
   "metadata": {},
   "outputs": [
    {
     "data": {
      "text/plain": [
       "0"
      ]
     },
     "execution_count": 11,
     "metadata": {},
     "output_type": "execute_result"
    }
   ],
   "source": [
    "calendar.duplicated().sum() # no duplication"
   ]
  },
  {
   "cell_type": "code",
   "execution_count": 12,
   "id": "a2047c0d-3cff-4397-bdd8-a683f5b7db26",
   "metadata": {},
   "outputs": [
    {
     "name": "stdout",
     "output_type": "stream",
     "text": [
      "calendar_day_interval list first 5 elements\n"
     ]
    },
    {
     "data": {
      "text/plain": [
       "[nan, 1, 1, 1, 1]"
      ]
     },
     "metadata": {},
     "output_type": "display_data"
    },
    {
     "name": "stdout",
     "output_type": "stream",
     "text": [
      "\n",
      "\n",
      "len(calendar) = 1969\n",
      "sum timedelta = 1968\n"
     ]
    }
   ],
   "source": [
    "calendar_day_interval = [i.days for i in calendar.date-calendar.date.shift(1)]\n",
    "\n",
    "print('calendar_day_interval list first 5 elements')\n",
    "display(calendar_day_interval[:5])\n",
    "\n",
    "print('\\n')\n",
    "\n",
    "print('len(calendar) = {}'.format(len(calendar)))\n",
    "print('sum timedelta = {}'.format(sum(calendar_day_interval[1:]))) # no date skip\n",
    "\n",
    "del calendar_day_interval"
   ]
  },
  {
   "cell_type": "markdown",
   "id": "c5551326-11b6-41ac-b2e7-18278537a39e",
   "metadata": {},
   "source": [
    "Sum of the time delta = len-1 means that all of the date interval are at 1 days. Therefore, no day skip in the dataset.\n",
    "\n",
    "### calendar DF is clean \n",
    "\n",
    "### check sales_train_evaluation df"
   ]
  },
  {
   "cell_type": "code",
   "execution_count": 13,
   "id": "ea216132-6511-4364-bf59-596c9813bd80",
   "metadata": {},
   "outputs": [
    {
     "data": {
      "text/plain": [
       "0"
      ]
     },
     "execution_count": 13,
     "metadata": {},
     "output_type": "execute_result"
    }
   ],
   "source": [
    "sales_train_evaluation.isna().sum().sum() #no missing data. #so many columns I just do another .sum() to avoid the display overflow."
   ]
  },
  {
   "cell_type": "code",
   "execution_count": 14,
   "id": "eb8b0d2e-91f5-44ec-837f-2b4a4d2400b4",
   "metadata": {},
   "outputs": [
    {
     "data": {
      "text/plain": [
       "0"
      ]
     },
     "execution_count": 14,
     "metadata": {},
     "output_type": "execute_result"
    }
   ],
   "source": [
    "sales_train_evaluation.duplicated().sum() #no duplication"
   ]
  },
  {
   "cell_type": "code",
   "execution_count": 15,
   "id": "7fb04962-3644-40d5-bf83-396cb7700594",
   "metadata": {},
   "outputs": [
    {
     "name": "stdout",
     "output_type": "stream",
     "text": [
      "day_list_interval list first 5 elements\n"
     ]
    },
    {
     "data": {
      "text/plain": [
       "[-1940, 1, 1, 1, 1]"
      ]
     },
     "metadata": {},
     "output_type": "display_data"
    },
    {
     "name": "stdout",
     "output_type": "stream",
     "text": [
      "\n",
      "\n",
      "len(day_list) = 1941\n",
      "sum timedelta = 1940\n"
     ]
    }
   ],
   "source": [
    "#col_list = list(sales_train_evaluation.columns)\n",
    "day_list = list((sales_train_evaluation.columns)[6:])\n",
    "day_list = [x.replace('d_','') for x in day_list]\n",
    "day_list = [int(x) for x in day_list ]\n",
    "day_list_interval = [day_list[i]-day_list[i-1] for i in range(len(day_list))]\n",
    "\n",
    "print('day_list_interval list first 5 elements')\n",
    "display(day_list_interval[:5])\n",
    "\n",
    "print('\\n')\n",
    "\n",
    "print('len(day_list) = {}'.format(len(day_list)))\n",
    "print('sum timedelta = {}'.format(sum(day_list_interval[1:]))) # no date skip\n",
    "\n",
    "del day_list\n",
    "del day_list_interval"
   ]
  },
  {
   "cell_type": "markdown",
   "id": "b42f08d3-9ff6-4b2e-b5e0-5201dc9ee237",
   "metadata": {},
   "source": [
    "Sum of the time delta = len-1 means that all of the date interval are at 1 days. Therefore, no day skip in the dataset.\n",
    "\n",
    "### sales_train_evauation DF is clean \n",
    "\n",
    "### check sell_prices df"
   ]
  },
  {
   "cell_type": "code",
   "execution_count": 16,
   "id": "0efffec2-4132-4b07-900b-fe515f8d4a63",
   "metadata": {},
   "outputs": [
    {
     "data": {
      "text/plain": [
       "store_id      0\n",
       "item_id       0\n",
       "wm_yr_wk      0\n",
       "sell_price    0\n",
       "dtype: int64"
      ]
     },
     "execution_count": 16,
     "metadata": {},
     "output_type": "execute_result"
    }
   ],
   "source": [
    "sell_prices.isna().sum() #no missing data"
   ]
  },
  {
   "cell_type": "code",
   "execution_count": 17,
   "id": "1c1b8814-dc39-49b5-b4c0-7813000b3a42",
   "metadata": {},
   "outputs": [
    {
     "data": {
      "text/plain": [
       "0"
      ]
     },
     "execution_count": 17,
     "metadata": {},
     "output_type": "execute_result"
    }
   ],
   "source": [
    "sell_prices.duplicated().sum() #no duplication"
   ]
  },
  {
   "cell_type": "markdown",
   "id": "24e58c6c-461e-46f0-9514-bc677f59b9a0",
   "metadata": {},
   "source": [
    "No need to check time skip in sell_prices since the price will be mapped in another table using wm_yr_wk as a key.\n",
    "\n",
    "### Each dataset is clean."
   ]
  },
  {
   "cell_type": "markdown",
   "id": "b8a86cfc-1f44-41b9-8397-c47ffe9860ab",
   "metadata": {},
   "source": [
    "# EDA\n",
    "\n",
    "### Explore and trim the calendar DF first"
   ]
  },
  {
   "cell_type": "code",
   "execution_count": 18,
   "id": "7c38e885-6c00-463f-8337-44f28b3a5324",
   "metadata": {},
   "outputs": [
    {
     "data": {
      "text/plain": [
       "array([nan, 'Sporting', 'Cultural', 'National', 'Religious'], dtype=object)"
      ]
     },
     "metadata": {},
     "output_type": "display_data"
    },
    {
     "data": {
      "text/plain": [
       "array([nan, 'Cultural', 'Religious'], dtype=object)"
      ]
     },
     "metadata": {},
     "output_type": "display_data"
    }
   ],
   "source": [
    "# what do we have in the event types?\n",
    "\n",
    "display(calendar['event_type_1'].unique())\n",
    "display(calendar['event_type_2'].unique())"
   ]
  },
  {
   "cell_type": "markdown",
   "id": "9df3d62c-f49b-452e-b599-fcd66c917c38",
   "metadata": {},
   "source": [
    "### There are 4 types of event 'Sporting', 'Cultural', 'National', 'Religious'."
   ]
  },
  {
   "cell_type": "code",
   "execution_count": 19,
   "id": "28cedac6-b66a-42fc-a0f9-854b2cf35df8",
   "metadata": {},
   "outputs": [
    {
     "name": "stdout",
     "output_type": "stream",
     "text": [
      "snap_CA count = 650 days or 33.011681056373796 % of total days\n",
      "snap_TX count = 650 days or 33.011681056373796 % of total days\n",
      "snap_WI count = 650 days or 33.011681056373796 % of total days\n"
     ]
    }
   ],
   "source": [
    "# how many SNAP day are there?\n",
    "\n",
    "snap_ca = sum(calendar['snap_CA']) \n",
    "snap_tx = sum(calendar['snap_TX'])\n",
    "snap_wi = sum(calendar['snap_WI'])\n",
    "\n",
    "print('snap_CA count = {} days or {} % of total days'.format(snap_ca,(snap_ca*100/len(calendar['date']))))\n",
    "print('snap_TX count = {} days or {} % of total days'.format(snap_tx,(snap_tx*100/len(calendar['date']))))\n",
    "print('snap_WI count = {} days or {} % of total days'.format(snap_wi,(snap_wi*100/len(calendar['date']))))\n",
    "\n",
    "del snap_ca\n",
    "del snap_tx\n",
    "del snap_wi"
   ]
  },
  {
   "cell_type": "markdown",
   "id": "2a78f377-e839-4b48-8456-d4aad12daa56",
   "metadata": {},
   "source": [
    "### Interesting... they are havnig the same count. Let's check if thay occured at the same time so we could aggregate the snap column."
   ]
  },
  {
   "cell_type": "code",
   "execution_count": 20,
   "id": "a7f672cc-a27b-41eb-ae24-7a0d0a520464",
   "metadata": {},
   "outputs": [
    {
     "data": {
      "text/html": [
       "<div>\n",
       "<style scoped>\n",
       "    .dataframe tbody tr th:only-of-type {\n",
       "        vertical-align: middle;\n",
       "    }\n",
       "\n",
       "    .dataframe tbody tr th {\n",
       "        vertical-align: top;\n",
       "    }\n",
       "\n",
       "    .dataframe thead th {\n",
       "        text-align: right;\n",
       "    }\n",
       "</style>\n",
       "<table border=\"1\" class=\"dataframe\">\n",
       "  <thead>\n",
       "    <tr style=\"text-align: right;\">\n",
       "      <th></th>\n",
       "      <th>date</th>\n",
       "      <th>wm_yr_wk</th>\n",
       "      <th>weekday</th>\n",
       "      <th>wday</th>\n",
       "      <th>month</th>\n",
       "      <th>year</th>\n",
       "      <th>d</th>\n",
       "      <th>event_name_1</th>\n",
       "      <th>event_type_1</th>\n",
       "      <th>event_name_2</th>\n",
       "      <th>event_type_2</th>\n",
       "      <th>snap_CA</th>\n",
       "      <th>snap_TX</th>\n",
       "      <th>snap_WI</th>\n",
       "    </tr>\n",
       "  </thead>\n",
       "  <tbody>\n",
       "    <tr>\n",
       "      <th>3</th>\n",
       "      <td>2011-02-01</td>\n",
       "      <td>11101</td>\n",
       "      <td>Tuesday</td>\n",
       "      <td>4</td>\n",
       "      <td>2</td>\n",
       "      <td>2011</td>\n",
       "      <td>d_4</td>\n",
       "      <td>NaN</td>\n",
       "      <td>NaN</td>\n",
       "      <td>NaN</td>\n",
       "      <td>NaN</td>\n",
       "      <td>1</td>\n",
       "      <td>1</td>\n",
       "      <td>0</td>\n",
       "    </tr>\n",
       "    <tr>\n",
       "      <th>4</th>\n",
       "      <td>2011-02-02</td>\n",
       "      <td>11101</td>\n",
       "      <td>Wednesday</td>\n",
       "      <td>5</td>\n",
       "      <td>2</td>\n",
       "      <td>2011</td>\n",
       "      <td>d_5</td>\n",
       "      <td>NaN</td>\n",
       "      <td>NaN</td>\n",
       "      <td>NaN</td>\n",
       "      <td>NaN</td>\n",
       "      <td>1</td>\n",
       "      <td>0</td>\n",
       "      <td>1</td>\n",
       "    </tr>\n",
       "    <tr>\n",
       "      <th>5</th>\n",
       "      <td>2011-02-03</td>\n",
       "      <td>11101</td>\n",
       "      <td>Thursday</td>\n",
       "      <td>6</td>\n",
       "      <td>2</td>\n",
       "      <td>2011</td>\n",
       "      <td>d_6</td>\n",
       "      <td>NaN</td>\n",
       "      <td>NaN</td>\n",
       "      <td>NaN</td>\n",
       "      <td>NaN</td>\n",
       "      <td>1</td>\n",
       "      <td>1</td>\n",
       "      <td>1</td>\n",
       "    </tr>\n",
       "    <tr>\n",
       "      <th>6</th>\n",
       "      <td>2011-02-04</td>\n",
       "      <td>11101</td>\n",
       "      <td>Friday</td>\n",
       "      <td>7</td>\n",
       "      <td>2</td>\n",
       "      <td>2011</td>\n",
       "      <td>d_7</td>\n",
       "      <td>NaN</td>\n",
       "      <td>NaN</td>\n",
       "      <td>NaN</td>\n",
       "      <td>NaN</td>\n",
       "      <td>1</td>\n",
       "      <td>0</td>\n",
       "      <td>0</td>\n",
       "    </tr>\n",
       "    <tr>\n",
       "      <th>7</th>\n",
       "      <td>2011-02-05</td>\n",
       "      <td>11102</td>\n",
       "      <td>Saturday</td>\n",
       "      <td>1</td>\n",
       "      <td>2</td>\n",
       "      <td>2011</td>\n",
       "      <td>d_8</td>\n",
       "      <td>NaN</td>\n",
       "      <td>NaN</td>\n",
       "      <td>NaN</td>\n",
       "      <td>NaN</td>\n",
       "      <td>1</td>\n",
       "      <td>1</td>\n",
       "      <td>1</td>\n",
       "    </tr>\n",
       "    <tr>\n",
       "      <th>...</th>\n",
       "      <td>...</td>\n",
       "      <td>...</td>\n",
       "      <td>...</td>\n",
       "      <td>...</td>\n",
       "      <td>...</td>\n",
       "      <td>...</td>\n",
       "      <td>...</td>\n",
       "      <td>...</td>\n",
       "      <td>...</td>\n",
       "      <td>...</td>\n",
       "      <td>...</td>\n",
       "      <td>...</td>\n",
       "      <td>...</td>\n",
       "      <td>...</td>\n",
       "    </tr>\n",
       "    <tr>\n",
       "      <th>1955</th>\n",
       "      <td>2016-06-06</td>\n",
       "      <td>11619</td>\n",
       "      <td>Monday</td>\n",
       "      <td>3</td>\n",
       "      <td>6</td>\n",
       "      <td>2016</td>\n",
       "      <td>d_1956</td>\n",
       "      <td>NaN</td>\n",
       "      <td>NaN</td>\n",
       "      <td>NaN</td>\n",
       "      <td>NaN</td>\n",
       "      <td>1</td>\n",
       "      <td>1</td>\n",
       "      <td>1</td>\n",
       "    </tr>\n",
       "    <tr>\n",
       "      <th>1956</th>\n",
       "      <td>2016-06-07</td>\n",
       "      <td>11619</td>\n",
       "      <td>Tuesday</td>\n",
       "      <td>4</td>\n",
       "      <td>6</td>\n",
       "      <td>2016</td>\n",
       "      <td>d_1957</td>\n",
       "      <td>Ramadan starts</td>\n",
       "      <td>Religious</td>\n",
       "      <td>NaN</td>\n",
       "      <td>NaN</td>\n",
       "      <td>1</td>\n",
       "      <td>1</td>\n",
       "      <td>0</td>\n",
       "    </tr>\n",
       "    <tr>\n",
       "      <th>1957</th>\n",
       "      <td>2016-06-08</td>\n",
       "      <td>11619</td>\n",
       "      <td>Wednesday</td>\n",
       "      <td>5</td>\n",
       "      <td>6</td>\n",
       "      <td>2016</td>\n",
       "      <td>d_1958</td>\n",
       "      <td>NaN</td>\n",
       "      <td>NaN</td>\n",
       "      <td>NaN</td>\n",
       "      <td>NaN</td>\n",
       "      <td>1</td>\n",
       "      <td>0</td>\n",
       "      <td>1</td>\n",
       "    </tr>\n",
       "    <tr>\n",
       "      <th>1958</th>\n",
       "      <td>2016-06-09</td>\n",
       "      <td>11619</td>\n",
       "      <td>Thursday</td>\n",
       "      <td>6</td>\n",
       "      <td>6</td>\n",
       "      <td>2016</td>\n",
       "      <td>d_1959</td>\n",
       "      <td>NaN</td>\n",
       "      <td>NaN</td>\n",
       "      <td>NaN</td>\n",
       "      <td>NaN</td>\n",
       "      <td>1</td>\n",
       "      <td>1</td>\n",
       "      <td>1</td>\n",
       "    </tr>\n",
       "    <tr>\n",
       "      <th>1959</th>\n",
       "      <td>2016-06-10</td>\n",
       "      <td>11619</td>\n",
       "      <td>Friday</td>\n",
       "      <td>7</td>\n",
       "      <td>6</td>\n",
       "      <td>2016</td>\n",
       "      <td>d_1960</td>\n",
       "      <td>NaN</td>\n",
       "      <td>NaN</td>\n",
       "      <td>NaN</td>\n",
       "      <td>NaN</td>\n",
       "      <td>1</td>\n",
       "      <td>0</td>\n",
       "      <td>0</td>\n",
       "    </tr>\n",
       "  </tbody>\n",
       "</table>\n",
       "<p>650 rows × 14 columns</p>\n",
       "</div>"
      ],
      "text/plain": [
       "           date  wm_yr_wk    weekday  wday  month  year       d  \\\n",
       "3    2011-02-01     11101    Tuesday     4      2  2011     d_4   \n",
       "4    2011-02-02     11101  Wednesday     5      2  2011     d_5   \n",
       "5    2011-02-03     11101   Thursday     6      2  2011     d_6   \n",
       "6    2011-02-04     11101     Friday     7      2  2011     d_7   \n",
       "7    2011-02-05     11102   Saturday     1      2  2011     d_8   \n",
       "...         ...       ...        ...   ...    ...   ...     ...   \n",
       "1955 2016-06-06     11619     Monday     3      6  2016  d_1956   \n",
       "1956 2016-06-07     11619    Tuesday     4      6  2016  d_1957   \n",
       "1957 2016-06-08     11619  Wednesday     5      6  2016  d_1958   \n",
       "1958 2016-06-09     11619   Thursday     6      6  2016  d_1959   \n",
       "1959 2016-06-10     11619     Friday     7      6  2016  d_1960   \n",
       "\n",
       "        event_name_1 event_type_1 event_name_2 event_type_2  snap_CA  snap_TX  \\\n",
       "3                NaN          NaN          NaN          NaN        1        1   \n",
       "4                NaN          NaN          NaN          NaN        1        0   \n",
       "5                NaN          NaN          NaN          NaN        1        1   \n",
       "6                NaN          NaN          NaN          NaN        1        0   \n",
       "7                NaN          NaN          NaN          NaN        1        1   \n",
       "...              ...          ...          ...          ...      ...      ...   \n",
       "1955             NaN          NaN          NaN          NaN        1        1   \n",
       "1956  Ramadan starts    Religious          NaN          NaN        1        1   \n",
       "1957             NaN          NaN          NaN          NaN        1        0   \n",
       "1958             NaN          NaN          NaN          NaN        1        1   \n",
       "1959             NaN          NaN          NaN          NaN        1        0   \n",
       "\n",
       "      snap_WI  \n",
       "3           0  \n",
       "4           1  \n",
       "5           1  \n",
       "6           0  \n",
       "7           1  \n",
       "...       ...  \n",
       "1955        1  \n",
       "1956        0  \n",
       "1957        1  \n",
       "1958        1  \n",
       "1959        0  \n",
       "\n",
       "[650 rows x 14 columns]"
      ]
     },
     "execution_count": 20,
     "metadata": {},
     "output_type": "execute_result"
    }
   ],
   "source": [
    "calendar.loc[calendar['snap_CA']==True]"
   ]
  },
  {
   "cell_type": "markdown",
   "id": "85c10cb0-20f5-429e-b039-91cb6d0205f6",
   "metadata": {},
   "source": [
    "### SNAP period are differerent from one State to another, need to keep them all."
   ]
  },
  {
   "cell_type": "code",
   "execution_count": 21,
   "id": "4a71db94-a597-4b15-8c74-294e7150005a",
   "metadata": {},
   "outputs": [],
   "source": [
    "# create weekend_column to reduce footprint\n",
    "calendar['wknd'] = int(0)\n",
    "calendar.loc[calendar['wday'] <= 2, 'wknd'] = 1\n",
    "\n",
    "calendar = calendar[['date','wm_yr_wk','wknd','d','event_type_1','event_type_2','snap_CA','snap_TX','snap_WI']]"
   ]
  },
  {
   "cell_type": "code",
   "execution_count": 22,
   "id": "934ab96e-34c5-4959-a1e8-ca215e006281",
   "metadata": {},
   "outputs": [
    {
     "data": {
      "text/html": [
       "<div>\n",
       "<style scoped>\n",
       "    .dataframe tbody tr th:only-of-type {\n",
       "        vertical-align: middle;\n",
       "    }\n",
       "\n",
       "    .dataframe tbody tr th {\n",
       "        vertical-align: top;\n",
       "    }\n",
       "\n",
       "    .dataframe thead th {\n",
       "        text-align: right;\n",
       "    }\n",
       "</style>\n",
       "<table border=\"1\" class=\"dataframe\">\n",
       "  <thead>\n",
       "    <tr style=\"text-align: right;\">\n",
       "      <th></th>\n",
       "      <th>date</th>\n",
       "      <th>wm_yr_wk</th>\n",
       "      <th>wknd</th>\n",
       "      <th>d</th>\n",
       "      <th>event_type_1</th>\n",
       "      <th>event_type_2</th>\n",
       "      <th>snap_CA</th>\n",
       "      <th>snap_TX</th>\n",
       "      <th>snap_WI</th>\n",
       "    </tr>\n",
       "  </thead>\n",
       "  <tbody>\n",
       "    <tr>\n",
       "      <th>1964</th>\n",
       "      <td>2016-06-15</td>\n",
       "      <td>11620</td>\n",
       "      <td>0</td>\n",
       "      <td>d_1965</td>\n",
       "      <td>NaN</td>\n",
       "      <td>NaN</td>\n",
       "      <td>0</td>\n",
       "      <td>1</td>\n",
       "      <td>1</td>\n",
       "    </tr>\n",
       "    <tr>\n",
       "      <th>1965</th>\n",
       "      <td>2016-06-16</td>\n",
       "      <td>11620</td>\n",
       "      <td>0</td>\n",
       "      <td>d_1966</td>\n",
       "      <td>NaN</td>\n",
       "      <td>NaN</td>\n",
       "      <td>0</td>\n",
       "      <td>0</td>\n",
       "      <td>0</td>\n",
       "    </tr>\n",
       "    <tr>\n",
       "      <th>1966</th>\n",
       "      <td>2016-06-17</td>\n",
       "      <td>11620</td>\n",
       "      <td>0</td>\n",
       "      <td>d_1967</td>\n",
       "      <td>NaN</td>\n",
       "      <td>NaN</td>\n",
       "      <td>0</td>\n",
       "      <td>0</td>\n",
       "      <td>0</td>\n",
       "    </tr>\n",
       "    <tr>\n",
       "      <th>1967</th>\n",
       "      <td>2016-06-18</td>\n",
       "      <td>11621</td>\n",
       "      <td>1</td>\n",
       "      <td>d_1968</td>\n",
       "      <td>NaN</td>\n",
       "      <td>NaN</td>\n",
       "      <td>0</td>\n",
       "      <td>0</td>\n",
       "      <td>0</td>\n",
       "    </tr>\n",
       "    <tr>\n",
       "      <th>1968</th>\n",
       "      <td>2016-06-19</td>\n",
       "      <td>11621</td>\n",
       "      <td>1</td>\n",
       "      <td>d_1969</td>\n",
       "      <td>Sporting</td>\n",
       "      <td>Cultural</td>\n",
       "      <td>0</td>\n",
       "      <td>0</td>\n",
       "      <td>0</td>\n",
       "    </tr>\n",
       "  </tbody>\n",
       "</table>\n",
       "</div>"
      ],
      "text/plain": [
       "           date  wm_yr_wk  wknd       d event_type_1 event_type_2  snap_CA  \\\n",
       "1964 2016-06-15     11620     0  d_1965          NaN          NaN        0   \n",
       "1965 2016-06-16     11620     0  d_1966          NaN          NaN        0   \n",
       "1966 2016-06-17     11620     0  d_1967          NaN          NaN        0   \n",
       "1967 2016-06-18     11621     1  d_1968          NaN          NaN        0   \n",
       "1968 2016-06-19     11621     1  d_1969     Sporting     Cultural        0   \n",
       "\n",
       "      snap_TX  snap_WI  \n",
       "1964        1        1  \n",
       "1965        0        0  \n",
       "1966        0        0  \n",
       "1967        0        0  \n",
       "1968        0        0  "
      ]
     },
     "execution_count": 22,
     "metadata": {},
     "output_type": "execute_result"
    }
   ],
   "source": [
    "calendar.tail()"
   ]
  },
  {
   "cell_type": "code",
   "execution_count": 23,
   "id": "3412838e-f05f-45ad-93c9-b7e1f064a217",
   "metadata": {},
   "outputs": [
    {
     "data": {
      "text/html": [
       "<div>\n",
       "<style scoped>\n",
       "    .dataframe tbody tr th:only-of-type {\n",
       "        vertical-align: middle;\n",
       "    }\n",
       "\n",
       "    .dataframe tbody tr th {\n",
       "        vertical-align: top;\n",
       "    }\n",
       "\n",
       "    .dataframe thead th {\n",
       "        text-align: right;\n",
       "    }\n",
       "</style>\n",
       "<table border=\"1\" class=\"dataframe\">\n",
       "  <thead>\n",
       "    <tr style=\"text-align: right;\">\n",
       "      <th></th>\n",
       "      <th>date</th>\n",
       "      <th>wm_yr_wk</th>\n",
       "      <th>wknd</th>\n",
       "      <th>d</th>\n",
       "      <th>event_type_1</th>\n",
       "      <th>event_type_2</th>\n",
       "      <th>snap_CA</th>\n",
       "      <th>snap_TX</th>\n",
       "      <th>snap_WI</th>\n",
       "    </tr>\n",
       "  </thead>\n",
       "  <tbody>\n",
       "    <tr>\n",
       "      <th>85</th>\n",
       "      <td>2011-04-24</td>\n",
       "      <td>11113</td>\n",
       "      <td>1</td>\n",
       "      <td>d_86</td>\n",
       "      <td>Religious</td>\n",
       "      <td>Cultural</td>\n",
       "      <td>0</td>\n",
       "      <td>0</td>\n",
       "      <td>0</td>\n",
       "    </tr>\n",
       "    <tr>\n",
       "      <th>827</th>\n",
       "      <td>2013-05-05</td>\n",
       "      <td>11315</td>\n",
       "      <td>1</td>\n",
       "      <td>d_828</td>\n",
       "      <td>Religious</td>\n",
       "      <td>Cultural</td>\n",
       "      <td>1</td>\n",
       "      <td>1</td>\n",
       "      <td>1</td>\n",
       "    </tr>\n",
       "    <tr>\n",
       "      <th>1177</th>\n",
       "      <td>2014-04-20</td>\n",
       "      <td>11412</td>\n",
       "      <td>1</td>\n",
       "      <td>d_1178</td>\n",
       "      <td>Cultural</td>\n",
       "      <td>Religious</td>\n",
       "      <td>0</td>\n",
       "      <td>0</td>\n",
       "      <td>0</td>\n",
       "    </tr>\n",
       "    <tr>\n",
       "      <th>1233</th>\n",
       "      <td>2014-06-15</td>\n",
       "      <td>11420</td>\n",
       "      <td>1</td>\n",
       "      <td>d_1234</td>\n",
       "      <td>Sporting</td>\n",
       "      <td>Cultural</td>\n",
       "      <td>0</td>\n",
       "      <td>1</td>\n",
       "      <td>1</td>\n",
       "    </tr>\n",
       "    <tr>\n",
       "      <th>1968</th>\n",
       "      <td>2016-06-19</td>\n",
       "      <td>11621</td>\n",
       "      <td>1</td>\n",
       "      <td>d_1969</td>\n",
       "      <td>Sporting</td>\n",
       "      <td>Cultural</td>\n",
       "      <td>0</td>\n",
       "      <td>0</td>\n",
       "      <td>0</td>\n",
       "    </tr>\n",
       "  </tbody>\n",
       "</table>\n",
       "</div>"
      ],
      "text/plain": [
       "           date  wm_yr_wk  wknd       d event_type_1 event_type_2  snap_CA  \\\n",
       "85   2011-04-24     11113     1    d_86    Religious     Cultural        0   \n",
       "827  2013-05-05     11315     1   d_828    Religious     Cultural        1   \n",
       "1177 2014-04-20     11412     1  d_1178     Cultural    Religious        0   \n",
       "1233 2014-06-15     11420     1  d_1234     Sporting     Cultural        0   \n",
       "1968 2016-06-19     11621     1  d_1969     Sporting     Cultural        0   \n",
       "\n",
       "      snap_TX  snap_WI  \n",
       "85          0        0  \n",
       "827         1        1  \n",
       "1177        0        0  \n",
       "1233        1        1  \n",
       "1968        0        0  "
      ]
     },
     "execution_count": 23,
     "metadata": {},
     "output_type": "execute_result"
    }
   ],
   "source": [
    "calendar[~calendar['event_type_2'].isna()] # event type 2 means that there are multiple events in a day"
   ]
  },
  {
   "cell_type": "markdown",
   "id": "f00c0972-8bfa-4b6c-9640-a3b6040beec5",
   "metadata": {
    "tags": []
   },
   "source": [
    "### How many event days are there?"
   ]
  },
  {
   "cell_type": "code",
   "execution_count": 24,
   "id": "b26eb756-75fd-40c3-9500-41bef9f3fecb",
   "metadata": {},
   "outputs": [
    {
     "name": "stdout",
     "output_type": "stream",
     "text": [
      "there are 162 event days\n",
      "event days are 8.227526663280853 percent of total days\n"
     ]
    }
   ],
   "source": [
    "print('there are {} event days'.format(len(calendar[~calendar['event_type_1'].isna()])))\n",
    "print('event days are {} percent of total days'.format(len(calendar[~calendar['event_type_1'].isna()])*100/len(calendar)))"
   ]
  },
  {
   "cell_type": "markdown",
   "id": "fb62f915-74ba-4581-a1dc-f52dddfd4189",
   "metadata": {},
   "source": [
    "### How does event distributed?"
   ]
  },
  {
   "cell_type": "code",
   "execution_count": 25,
   "id": "6b164a0b-b65a-4b95-8933-76c793edc3ac",
   "metadata": {},
   "outputs": [],
   "source": [
    "def count_events(event_series):\n",
    "    dic = {'Sporting':0, 'Cultural':0, 'National':0, 'Religious':0}\n",
    "    for event in event_series:\n",
    "        if event == 'Sporting':\n",
    "            dic['Sporting'] += 1\n",
    "        elif event == 'Cultural': \n",
    "            dic['Cultural'] += 1\n",
    "        elif event == 'National': \n",
    "            dic['National'] += 1\n",
    "        elif event == 'Religious':\n",
    "            dic['Religious'] += 1\n",
    "      \n",
    "    return dic"
   ]
  },
  {
   "cell_type": "code",
   "execution_count": 48,
   "id": "2bf98598-49b0-459f-8897-369b1da439d4",
   "metadata": {
    "tags": []
   },
   "outputs": [],
   "source": [
    "events = list(calendar[~calendar['event_type_1'].isna()].event_type_1)\n",
    "events.extend(list(calendar[~calendar['event_type_2'].isna()].event_type_2))"
   ]
  },
  {
   "cell_type": "code",
   "execution_count": 50,
   "id": "8c694fd0-bfb9-415e-a6eb-4899fdac4f67",
   "metadata": {},
   "outputs": [],
   "source": [
    "event_dic = count_events(events)"
   ]
  },
  {
   "cell_type": "code",
   "execution_count": 51,
   "id": "274b1b8b-88fc-4258-91a2-3917263d8d63",
   "metadata": {},
   "outputs": [
    {
     "data": {
      "text/plain": [
       "{'Sporting': 18, 'Cultural': 41, 'National': 52, 'Religious': 56}"
      ]
     },
     "execution_count": 51,
     "metadata": {},
     "output_type": "execute_result"
    }
   ],
   "source": [
    "event_dic"
   ]
  },
  {
   "cell_type": "code",
   "execution_count": 52,
   "id": "6eeed156-4ae3-4734-8287-752c57eccb31",
   "metadata": {},
   "outputs": [
    {
     "data": {
      "image/png": "[encoded data removed]",
      "text/plain": [
       "<Figure size 432x288 with 1 Axes>"
      ]
     },
     "metadata": {
      "needs_background": "light"
     },
     "output_type": "display_data"
    }
   ],
   "source": [
    "plt.bar(event_dic.keys(),event_dic.values())\n",
    "plt.title('event counts')\n",
    "plt.show()"
   ]
  },
  {
   "cell_type": "markdown",
   "id": "653c93ae-1a28-4b4a-9d0b-c9dc5fdae853",
   "metadata": {},
   "source": [
    "Most of the events are Religious and National."
   ]
  },
  {
   "cell_type": "markdown",
   "id": "d4dd6368-12a9-4d9f-a484-4987deeb27fe",
   "metadata": {
    "tags": []
   },
   "source": [
    "# Summary from calendar dataset\n",
    "* From 1969 days there are 162 events (8.2% from total)\n",
    "* Event are mostly Religious, National, Cultural while Sporting events are the least\n",
    "* SNAP day in each State are distubuted equally at 650 days. However, it doesn't need to occur in the same day between different States. "
   ]
  },
  {
   "cell_type": "code",
   "execution_count": null,
   "id": "97a88eea-b5a6-4c11-910f-18aa0d5ca906",
   "metadata": {},
   "outputs": [],
   "source": []
  }
 ],
 "metadata": {
  "kernelspec": {
   "display_name": "Python 3 (ipykernel)",
   "language": "python",
   "name": "python3"
  },
  "language_info": {
   "codemirror_mode": {
    "name": "ipython",
    "version": 3
   },
   "file_extension": ".py",
   "mimetype": "text/x-python",
   "name": "python",
   "nbconvert_exporter": "python",
   "pygments_lexer": "ipython3",
   "version": "3.9.12"
  }
 },
 "nbformat": 4,
 "nbformat_minor": 5
}
